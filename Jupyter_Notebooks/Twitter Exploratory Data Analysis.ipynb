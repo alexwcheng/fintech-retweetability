{
 "cells": [
  {
   "cell_type": "markdown",
   "metadata": {},
   "source": [
    "# Twitter Exploratory Data Analysis"
   ]
  },
  {
   "cell_type": "markdown",
   "metadata": {},
   "source": [
    "___"
   ]
  },
  {
   "cell_type": "markdown",
   "metadata": {
    "toc": true
   },
   "source": [
    "<h1>Table of Contents<span class=\"tocSkip\"></span></h1>\n",
    "<div class=\"toc\"><ul class=\"toc-item\"><li><span><a href=\"#Setup\" data-toc-modified-id=\"Setup-1\"><span class=\"toc-item-num\">1&nbsp;&nbsp;</span>Setup</a></span><ul class=\"toc-item\"><li><span><a href=\"#Import-Libraries\" data-toc-modified-id=\"Import-Libraries-1.1\"><span class=\"toc-item-num\">1.1&nbsp;&nbsp;</span>Import Libraries</a></span></li><li><span><a href=\"#Increase-Max-Rows,-Columns,-Width\" data-toc-modified-id=\"Increase-Max-Rows,-Columns,-Width-1.2\"><span class=\"toc-item-num\">1.2&nbsp;&nbsp;</span>Increase Max Rows, Columns, Width</a></span></li></ul></li><li><span><a href=\"#Load-Data\" data-toc-modified-id=\"Load-Data-2\"><span class=\"toc-item-num\">2&nbsp;&nbsp;</span>Load Data</a></span></li><li><span><a href=\"#Data-Information-+-Description\" data-toc-modified-id=\"Data-Information-+-Description-3\"><span class=\"toc-item-num\">3&nbsp;&nbsp;</span>Data Information + Description</a></span><ul class=\"toc-item\"><li><ul class=\"toc-item\"><li><span><a href=\"#Check-df.head()-to-make-sure-the-data-came-through\" data-toc-modified-id=\"Check-df.head()-to-make-sure-the-data-came-through-3.0.1\"><span class=\"toc-item-num\">3.0.1&nbsp;&nbsp;</span>Check df.head() to make sure the data came through</a></span></li><li><span><a href=\"#Check-df.info()-to-understand-our-datatypes\" data-toc-modified-id=\"Check-df.info()-to-understand-our-datatypes-3.0.2\"><span class=\"toc-item-num\">3.0.2&nbsp;&nbsp;</span>Check df.info() to understand our datatypes</a></span></li><li><span><a href=\"#Check-df.isna()-to-check-for-NaN-values\" data-toc-modified-id=\"Check-df.isna()-to-check-for-NaN-values-3.0.3\"><span class=\"toc-item-num\">3.0.3&nbsp;&nbsp;</span>Check df.isna() to check for NaN values</a></span></li><li><span><a href=\"#Use-df.fillna()-to-eliminate-any-NaN-values\" data-toc-modified-id=\"Use-df.fillna()-to-eliminate-any-NaN-values-3.0.4\"><span class=\"toc-item-num\">3.0.4&nbsp;&nbsp;</span>Use df.fillna() to eliminate any NaN values</a></span></li><li><span><a href=\"#Check-df.isna()-again-to-make-sure-all-NaN-values-are-gone\" data-toc-modified-id=\"Check-df.isna()-again-to-make-sure-all-NaN-values-are-gone-3.0.5\"><span class=\"toc-item-num\">3.0.5&nbsp;&nbsp;</span>Check df.isna() again to make sure all NaN values are gone</a></span></li><li><span><a href=\"#Use-df.describe()-to-get-an-overall-sense-of-the-essential-metrics-for-our-dataset\" data-toc-modified-id=\"Use-df.describe()-to-get-an-overall-sense-of-the-essential-metrics-for-our-dataset-3.0.6\"><span class=\"toc-item-num\">3.0.6&nbsp;&nbsp;</span>Use df.describe() to get an overall sense of the essential metrics for our dataset</a></span></li></ul></li></ul></li><li><span><a href=\"#Check-For-Multicollinearity\" data-toc-modified-id=\"Check-For-Multicollinearity-4\"><span class=\"toc-item-num\">4&nbsp;&nbsp;</span>Check For Multicollinearity</a></span></li><li><span><a href=\"#Check-For-Heteroskedasticity\" data-toc-modified-id=\"Check-For-Heteroskedasticity-5\"><span class=\"toc-item-num\">5&nbsp;&nbsp;</span>Check For Heteroskedasticity</a></span></li><li><span><a href=\"#Explore\" data-toc-modified-id=\"Explore-6\"><span class=\"toc-item-num\">6&nbsp;&nbsp;</span>Explore</a></span></li></ul></div>"
   ]
  },
  {
   "cell_type": "markdown",
   "metadata": {},
   "source": [
    "___"
   ]
  },
  {
   "cell_type": "markdown",
   "metadata": {},
   "source": [
    "## Setup"
   ]
  },
  {
   "cell_type": "markdown",
   "metadata": {},
   "source": [
    "### Import Libraries"
   ]
  },
  {
   "cell_type": "code",
   "execution_count": 2,
   "metadata": {},
   "outputs": [],
   "source": [
    "import sys\n",
    "sys.path.append(\"..\")\n",
    "import matplotlib.pyplot as plt\n",
    "import matplotlib.ticker as ticker\n",
    "import seaborn as sns\n",
    "import numpy as np\n",
    "import pandas as pd\n",
    "import requests\n",
    "import json\n",
    "import math\n",
    "import sklearn\n",
    "from scipy import stats\n",
    "from scipy.stats import norm\n",
    "from sklearn.utils import resample\n",
    "import pickle\n",
    "import statsmodels.api as sm\n",
    "from statsmodels.formula.api import ols\n",
    "import scipy.stats as stats\n",
    "from wordcloud import WordCloud\n",
    "import random\n",
    "from collections import Counter\n",
    "from statsmodels.stats.outliers_influence import variance_inflation_factor\n",
    "from sklearn.model_selection import train_test_split\n",
    "from sklearn.linear_model import LassoCV, Lasso, Ridge, LinearRegression, LogisticRegression\n",
    "from sklearn.preprocessing import StandardScaler\n",
    "from sklearn.linear_model import SGDClassifier\n",
    "from sklearn.model_selection import RandomizedSearchCV, cross_val_score\n",
    "from sklearn.metrics import roc_curve, auc, confusion_matrix\n",
    "import scipy.stats as stats"
   ]
  },
  {
   "cell_type": "markdown",
   "metadata": {},
   "source": [
    "### Increase Max Rows, Columns, Width"
   ]
  },
  {
   "cell_type": "code",
   "execution_count": 3,
   "metadata": {},
   "outputs": [],
   "source": [
    "pd.set_option('display.max_rows', 1000)\n",
    "pd.set_option('display.max_columns', 1000)\n",
    "pd.set_option('display.width', 1000)"
   ]
  },
  {
   "cell_type": "markdown",
   "metadata": {},
   "source": [
    "___"
   ]
  },
  {
   "cell_type": "markdown",
   "metadata": {},
   "source": [
    "## Load Data"
   ]
  },
  {
   "cell_type": "code",
   "execution_count": 9,
   "metadata": {},
   "outputs": [],
   "source": [
    "df = pd.read_csv('Twitter_Data.csv', index_col=0)"
   ]
  },
  {
   "cell_type": "markdown",
   "metadata": {},
   "source": [
    "___"
   ]
  },
  {
   "cell_type": "markdown",
   "metadata": {},
   "source": [
    "## Data Information + Description"
   ]
  },
  {
   "cell_type": "markdown",
   "metadata": {},
   "source": [
    "#### Check df.head() to make sure the data came through"
   ]
  },
  {
   "cell_type": "code",
   "execution_count": 11,
   "metadata": {
    "scrolled": true
   },
   "outputs": [
    {
     "data": {
      "text/html": [
       "<div>\n",
       "<style scoped>\n",
       "    .dataframe tbody tr th:only-of-type {\n",
       "        vertical-align: middle;\n",
       "    }\n",
       "\n",
       "    .dataframe tbody tr th {\n",
       "        vertical-align: top;\n",
       "    }\n",
       "\n",
       "    .dataframe thead th {\n",
       "        text-align: right;\n",
       "    }\n",
       "</style>\n",
       "<table border=\"1\" class=\"dataframe\">\n",
       "  <thead>\n",
       "    <tr style=\"text-align: right;\">\n",
       "      <th></th>\n",
       "      <th>deets_author_id</th>\n",
       "      <th>deets_created_at</th>\n",
       "      <th>deets_tweet_id</th>\n",
       "      <th>deets_language</th>\n",
       "      <th>deets_possibly_sensitive</th>\n",
       "      <th>deets_text</th>\n",
       "      <th>deets_retweet_count</th>\n",
       "      <th>deets_reply_count</th>\n",
       "      <th>deets_like_count</th>\n",
       "      <th>deets_quote_count</th>\n",
       "      <th>deets_text_length</th>\n",
       "      <th>user_created_at</th>\n",
       "      <th>user_description</th>\n",
       "      <th>user_id</th>\n",
       "      <th>user_real_name</th>\n",
       "      <th>user_profile_image_url</th>\n",
       "      <th>user_protected</th>\n",
       "      <th>user_url</th>\n",
       "      <th>username</th>\n",
       "      <th>verified</th>\n",
       "      <th>format</th>\n",
       "      <th>user_followers_count</th>\n",
       "      <th>user_following_count</th>\n",
       "      <th>user_tweet_count</th>\n",
       "      <th>user_listed_count</th>\n",
       "      <th>user_description_length</th>\n",
       "    </tr>\n",
       "  </thead>\n",
       "  <tbody>\n",
       "    <tr>\n",
       "      <td>0</td>\n",
       "      <td>25073877</td>\n",
       "      <td>2020-01-31T00:19:23.000Z</td>\n",
       "      <td>1223038027234267137</td>\n",
       "      <td>en</td>\n",
       "      <td>False</td>\n",
       "      <td>Great poll in Iowa, where I just landed for a ...</td>\n",
       "      <td>2406</td>\n",
       "      <td>1346</td>\n",
       "      <td>8517</td>\n",
       "      <td>192</td>\n",
       "      <td>91</td>\n",
       "      <td>2009-03-18T13:46:38.000Z</td>\n",
       "      <td>45th President of the United States of America🇺🇸</td>\n",
       "      <td>25073877</td>\n",
       "      <td>Donald J. Trump</td>\n",
       "      <td>https://pbs.twimg.com/profile_images/874276197...</td>\n",
       "      <td>False</td>\n",
       "      <td>https://t.co/OMxB0x7xC5</td>\n",
       "      <td>realDonaldTrump</td>\n",
       "      <td>True</td>\n",
       "      <td>detailed</td>\n",
       "      <td>71873110</td>\n",
       "      <td>47</td>\n",
       "      <td>48500</td>\n",
       "      <td>113961</td>\n",
       "      <td>48</td>\n",
       "    </tr>\n",
       "    <tr>\n",
       "      <td>1</td>\n",
       "      <td>783214</td>\n",
       "      <td>2020-01-30T20:00:13.000Z</td>\n",
       "      <td>1222972807639896064</td>\n",
       "      <td>en</td>\n",
       "      <td>False</td>\n",
       "      <td>Yes, it's still January</td>\n",
       "      <td>28532</td>\n",
       "      <td>3049</td>\n",
       "      <td>77352</td>\n",
       "      <td>4354</td>\n",
       "      <td>23</td>\n",
       "      <td>2007-02-20T14:35:54.000Z</td>\n",
       "      <td>What’s happening?!</td>\n",
       "      <td>783214</td>\n",
       "      <td>Twitter</td>\n",
       "      <td>https://pbs.twimg.com/profile_images/111172963...</td>\n",
       "      <td>False</td>\n",
       "      <td>https://t.co/TAXQpsHa5X</td>\n",
       "      <td>Twitter</td>\n",
       "      <td>True</td>\n",
       "      <td>detailed</td>\n",
       "      <td>57135266</td>\n",
       "      <td>1</td>\n",
       "      <td>12909</td>\n",
       "      <td>90552</td>\n",
       "      <td>18</td>\n",
       "    </tr>\n",
       "    <tr>\n",
       "      <td>2</td>\n",
       "      <td>409486555</td>\n",
       "      <td>2020-01-20T13:56:40.000Z</td>\n",
       "      <td>1219257438949597185</td>\n",
       "      <td>en</td>\n",
       "      <td>False</td>\n",
       "      <td>To honor Dr. King's legacy, we all can play a ...</td>\n",
       "      <td>10107</td>\n",
       "      <td>508</td>\n",
       "      <td>44343</td>\n",
       "      <td>253</td>\n",
       "      <td>303</td>\n",
       "      <td>2011-11-10T20:13:01.000Z</td>\n",
       "      <td>Girl from the South Side and former First Lady...</td>\n",
       "      <td>409486555</td>\n",
       "      <td>Michelle Obama</td>\n",
       "      <td>https://pbs.twimg.com/profile_images/119281123...</td>\n",
       "      <td>False</td>\n",
       "      <td>https://t.co/0UVvR5L6vm</td>\n",
       "      <td>MichelleObama</td>\n",
       "      <td>True</td>\n",
       "      <td>detailed</td>\n",
       "      <td>14331923</td>\n",
       "      <td>18</td>\n",
       "      <td>1225</td>\n",
       "      <td>24897</td>\n",
       "      <td>96</td>\n",
       "    </tr>\n",
       "    <tr>\n",
       "      <td>3</td>\n",
       "      <td>14130366</td>\n",
       "      <td>2020-01-26T05:08:25.000Z</td>\n",
       "      <td>1221298825786089472</td>\n",
       "      <td>en</td>\n",
       "      <td>False</td>\n",
       "      <td>This Black History Month, we’ll be celebrating...</td>\n",
       "      <td>153</td>\n",
       "      <td>56</td>\n",
       "      <td>1068</td>\n",
       "      <td>8</td>\n",
       "      <td>284</td>\n",
       "      <td>2008-03-12T05:51:53.000Z</td>\n",
       "      <td>CEO,  Google and Alphabet</td>\n",
       "      <td>14130366</td>\n",
       "      <td>Sundar Pichai</td>\n",
       "      <td>https://pbs.twimg.com/profile_images/864282616...</td>\n",
       "      <td>False</td>\n",
       "      <td>NaN</td>\n",
       "      <td>sundarpichai</td>\n",
       "      <td>True</td>\n",
       "      <td>detailed</td>\n",
       "      <td>2636216</td>\n",
       "      <td>337</td>\n",
       "      <td>1316</td>\n",
       "      <td>6747</td>\n",
       "      <td>25</td>\n",
       "    </tr>\n",
       "    <tr>\n",
       "      <td>4</td>\n",
       "      <td>1636590253</td>\n",
       "      <td>2020-01-27T15:15:10.000Z</td>\n",
       "      <td>1221813908576464896</td>\n",
       "      <td>en</td>\n",
       "      <td>False</td>\n",
       "      <td>Today, we remember the millions of lives lost....</td>\n",
       "      <td>678</td>\n",
       "      <td>119</td>\n",
       "      <td>5556</td>\n",
       "      <td>32</td>\n",
       "      <td>273</td>\n",
       "      <td>2013-07-31T22:41:25.000Z</td>\n",
       "      <td>Apple CEO  Auburn 🏀 🏈 Duke 🏀 National Parks 🏞...</td>\n",
       "      <td>1636590253</td>\n",
       "      <td>Tim Cook</td>\n",
       "      <td>https://pbs.twimg.com/profile_images/119411373...</td>\n",
       "      <td>False</td>\n",
       "      <td>NaN</td>\n",
       "      <td>tim_cook</td>\n",
       "      <td>True</td>\n",
       "      <td>detailed</td>\n",
       "      <td>11677552</td>\n",
       "      <td>68</td>\n",
       "      <td>976</td>\n",
       "      <td>21430</td>\n",
       "      <td>135</td>\n",
       "    </tr>\n",
       "  </tbody>\n",
       "</table>\n",
       "</div>"
      ],
      "text/plain": [
       "   deets_author_id          deets_created_at       deets_tweet_id deets_language  deets_possibly_sensitive                                         deets_text  deets_retweet_count  deets_reply_count  deets_like_count  deets_quote_count  deets_text_length           user_created_at                                   user_description     user_id   user_real_name                             user_profile_image_url  user_protected                 user_url         username  verified    format  user_followers_count  user_following_count  user_tweet_count  user_listed_count  user_description_length\n",
       "0         25073877  2020-01-31T00:19:23.000Z  1223038027234267137             en                     False  Great poll in Iowa, where I just landed for a ...                 2406               1346              8517                192                 91  2009-03-18T13:46:38.000Z   45th President of the United States of America🇺🇸    25073877  Donald J. Trump  https://pbs.twimg.com/profile_images/874276197...           False  https://t.co/OMxB0x7xC5  realDonaldTrump      True  detailed              71873110                    47             48500             113961                       48\n",
       "1           783214  2020-01-30T20:00:13.000Z  1222972807639896064             en                     False                            Yes, it's still January                28532               3049             77352               4354                 23  2007-02-20T14:35:54.000Z                                 What’s happening?!      783214          Twitter  https://pbs.twimg.com/profile_images/111172963...           False  https://t.co/TAXQpsHa5X          Twitter      True  detailed              57135266                     1             12909              90552                       18\n",
       "2        409486555  2020-01-20T13:56:40.000Z  1219257438949597185             en                     False  To honor Dr. King's legacy, we all can play a ...                10107                508             44343                253                303  2011-11-10T20:13:01.000Z  Girl from the South Side and former First Lady...   409486555   Michelle Obama  https://pbs.twimg.com/profile_images/119281123...           False  https://t.co/0UVvR5L6vm    MichelleObama      True  detailed              14331923                    18              1225              24897                       96\n",
       "3         14130366  2020-01-26T05:08:25.000Z  1221298825786089472             en                     False  This Black History Month, we’ll be celebrating...                  153                 56              1068                  8                284  2008-03-12T05:51:53.000Z                          CEO,  Google and Alphabet    14130366    Sundar Pichai  https://pbs.twimg.com/profile_images/864282616...           False                      NaN     sundarpichai      True  detailed               2636216                   337              1316               6747                       25\n",
       "4       1636590253  2020-01-27T15:15:10.000Z  1221813908576464896             en                     False  Today, we remember the millions of lives lost....                  678                119              5556                 32                273  2013-07-31T22:41:25.000Z  Apple CEO  Auburn 🏀 🏈 Duke 🏀 National Parks 🏞...  1636590253         Tim Cook  https://pbs.twimg.com/profile_images/119411373...           False                      NaN         tim_cook      True  detailed              11677552                    68               976              21430                      135"
      ]
     },
     "execution_count": 11,
     "metadata": {},
     "output_type": "execute_result"
    }
   ],
   "source": [
    "df.head(5)"
   ]
  },
  {
   "cell_type": "markdown",
   "metadata": {},
   "source": [
    "#### Check df.info() to understand our datatypes"
   ]
  },
  {
   "cell_type": "code",
   "execution_count": 12,
   "metadata": {
    "scrolled": false
   },
   "outputs": [
    {
     "name": "stdout",
     "output_type": "stream",
     "text": [
      "<class 'pandas.core.frame.DataFrame'>\n",
      "Int64Index: 5 entries, 0 to 4\n",
      "Data columns (total 26 columns):\n",
      "deets_author_id             5 non-null int64\n",
      "deets_created_at            5 non-null object\n",
      "deets_tweet_id              5 non-null int64\n",
      "deets_language              5 non-null object\n",
      "deets_possibly_sensitive    5 non-null bool\n",
      "deets_text                  5 non-null object\n",
      "deets_retweet_count         5 non-null int64\n",
      "deets_reply_count           5 non-null int64\n",
      "deets_like_count            5 non-null int64\n",
      "deets_quote_count           5 non-null int64\n",
      "deets_text_length           5 non-null int64\n",
      "user_created_at             5 non-null object\n",
      "user_description            5 non-null object\n",
      "user_id                     5 non-null int64\n",
      "user_real_name              5 non-null object\n",
      "user_profile_image_url      5 non-null object\n",
      "user_protected              5 non-null bool\n",
      "user_url                    3 non-null object\n",
      "username                    5 non-null object\n",
      "verified                    5 non-null bool\n",
      "format                      5 non-null object\n",
      "user_followers_count        5 non-null int64\n",
      "user_following_count        5 non-null int64\n",
      "user_tweet_count            5 non-null int64\n",
      "user_listed_count           5 non-null int64\n",
      "user_description_length     5 non-null int64\n",
      "dtypes: bool(3), int64(13), object(10)\n",
      "memory usage: 975.0+ bytes\n"
     ]
    }
   ],
   "source": [
    "df.info()"
   ]
  },
  {
   "cell_type": "markdown",
   "metadata": {},
   "source": [
    "#### Check df.isna() to check for NaN values"
   ]
  },
  {
   "cell_type": "code",
   "execution_count": 15,
   "metadata": {
    "scrolled": true
   },
   "outputs": [
    {
     "data": {
      "text/plain": [
       "deets_author_id             0\n",
       "deets_created_at            0\n",
       "deets_tweet_id              0\n",
       "deets_language              0\n",
       "deets_possibly_sensitive    0\n",
       "deets_text                  0\n",
       "deets_retweet_count         0\n",
       "deets_reply_count           0\n",
       "deets_like_count            0\n",
       "deets_quote_count           0\n",
       "deets_text_length           0\n",
       "user_created_at             0\n",
       "user_description            0\n",
       "user_id                     0\n",
       "user_real_name              0\n",
       "user_profile_image_url      0\n",
       "user_protected              0\n",
       "user_url                    2\n",
       "username                    0\n",
       "verified                    0\n",
       "format                      0\n",
       "user_followers_count        0\n",
       "user_following_count        0\n",
       "user_tweet_count            0\n",
       "user_listed_count           0\n",
       "user_description_length     0\n",
       "dtype: int64"
      ]
     },
     "execution_count": 15,
     "metadata": {},
     "output_type": "execute_result"
    }
   ],
   "source": [
    "df.isna().sum()"
   ]
  },
  {
   "cell_type": "markdown",
   "metadata": {},
   "source": [
    "#### Use df.fillna() to eliminate any NaN values"
   ]
  },
  {
   "cell_type": "markdown",
   "metadata": {},
   "source": [
    "- Impute the **mean** if the data is **normally distributed.**\n",
    "- Impute the **median** if the data is **non-normally distributed.**\n",
    "- Impute \"0\" if the NaN value does not matter to our analysis."
   ]
  },
  {
   "cell_type": "code",
   "execution_count": 19,
   "metadata": {},
   "outputs": [],
   "source": [
    "df = df.fillna(0)"
   ]
  },
  {
   "cell_type": "markdown",
   "metadata": {},
   "source": [
    "#### Check df.isna() again to make sure all NaN values are gone"
   ]
  },
  {
   "cell_type": "code",
   "execution_count": 20,
   "metadata": {},
   "outputs": [
    {
     "data": {
      "text/plain": [
       "deets_author_id             0\n",
       "deets_created_at            0\n",
       "deets_tweet_id              0\n",
       "deets_language              0\n",
       "deets_possibly_sensitive    0\n",
       "deets_text                  0\n",
       "deets_retweet_count         0\n",
       "deets_reply_count           0\n",
       "deets_like_count            0\n",
       "deets_quote_count           0\n",
       "deets_text_length           0\n",
       "user_created_at             0\n",
       "user_description            0\n",
       "user_id                     0\n",
       "user_real_name              0\n",
       "user_profile_image_url      0\n",
       "user_protected              0\n",
       "user_url                    0\n",
       "username                    0\n",
       "verified                    0\n",
       "format                      0\n",
       "user_followers_count        0\n",
       "user_following_count        0\n",
       "user_tweet_count            0\n",
       "user_listed_count           0\n",
       "user_description_length     0\n",
       "dtype: int64"
      ]
     },
     "execution_count": 20,
     "metadata": {},
     "output_type": "execute_result"
    }
   ],
   "source": [
    "df.isna().sum()"
   ]
  },
  {
   "cell_type": "markdown",
   "metadata": {},
   "source": [
    "#### Use df.describe() to get an overall sense of the essential metrics for our dataset"
   ]
  },
  {
   "cell_type": "code",
   "execution_count": 21,
   "metadata": {},
   "outputs": [
    {
     "data": {
      "text/html": [
       "<div>\n",
       "<style scoped>\n",
       "    .dataframe tbody tr th:only-of-type {\n",
       "        vertical-align: middle;\n",
       "    }\n",
       "\n",
       "    .dataframe tbody tr th {\n",
       "        vertical-align: top;\n",
       "    }\n",
       "\n",
       "    .dataframe thead th {\n",
       "        text-align: right;\n",
       "    }\n",
       "</style>\n",
       "<table border=\"1\" class=\"dataframe\">\n",
       "  <thead>\n",
       "    <tr style=\"text-align: right;\">\n",
       "      <th></th>\n",
       "      <th>count</th>\n",
       "      <th>mean</th>\n",
       "      <th>std</th>\n",
       "      <th>min</th>\n",
       "      <th>25%</th>\n",
       "      <th>50%</th>\n",
       "      <th>75%</th>\n",
       "      <th>max</th>\n",
       "    </tr>\n",
       "  </thead>\n",
       "  <tbody>\n",
       "    <tr>\n",
       "      <td>deets_author_id</td>\n",
       "      <td>5.0</td>\n",
       "      <td>4.172129e+08</td>\n",
       "      <td>7.029586e+08</td>\n",
       "      <td>7.832140e+05</td>\n",
       "      <td>1.413037e+07</td>\n",
       "      <td>2.507388e+07</td>\n",
       "      <td>4.094866e+08</td>\n",
       "      <td>1.636590e+09</td>\n",
       "    </tr>\n",
       "    <tr>\n",
       "      <td>deets_tweet_id</td>\n",
       "      <td>5.0</td>\n",
       "      <td>1.221676e+18</td>\n",
       "      <td>1.544955e+15</td>\n",
       "      <td>1.219257e+18</td>\n",
       "      <td>1.221299e+18</td>\n",
       "      <td>1.221814e+18</td>\n",
       "      <td>1.222973e+18</td>\n",
       "      <td>1.223038e+18</td>\n",
       "    </tr>\n",
       "    <tr>\n",
       "      <td>deets_retweet_count</td>\n",
       "      <td>5.0</td>\n",
       "      <td>8.375200e+03</td>\n",
       "      <td>1.195595e+04</td>\n",
       "      <td>1.530000e+02</td>\n",
       "      <td>6.780000e+02</td>\n",
       "      <td>2.406000e+03</td>\n",
       "      <td>1.010700e+04</td>\n",
       "      <td>2.853200e+04</td>\n",
       "    </tr>\n",
       "    <tr>\n",
       "      <td>deets_reply_count</td>\n",
       "      <td>5.0</td>\n",
       "      <td>1.015600e+03</td>\n",
       "      <td>1.247624e+03</td>\n",
       "      <td>5.600000e+01</td>\n",
       "      <td>1.190000e+02</td>\n",
       "      <td>5.080000e+02</td>\n",
       "      <td>1.346000e+03</td>\n",
       "      <td>3.049000e+03</td>\n",
       "    </tr>\n",
       "    <tr>\n",
       "      <td>deets_like_count</td>\n",
       "      <td>5.0</td>\n",
       "      <td>2.736720e+04</td>\n",
       "      <td>3.282287e+04</td>\n",
       "      <td>1.068000e+03</td>\n",
       "      <td>5.556000e+03</td>\n",
       "      <td>8.517000e+03</td>\n",
       "      <td>4.434300e+04</td>\n",
       "      <td>7.735200e+04</td>\n",
       "    </tr>\n",
       "    <tr>\n",
       "      <td>deets_quote_count</td>\n",
       "      <td>5.0</td>\n",
       "      <td>9.678000e+02</td>\n",
       "      <td>1.895791e+03</td>\n",
       "      <td>8.000000e+00</td>\n",
       "      <td>3.200000e+01</td>\n",
       "      <td>1.920000e+02</td>\n",
       "      <td>2.530000e+02</td>\n",
       "      <td>4.354000e+03</td>\n",
       "    </tr>\n",
       "    <tr>\n",
       "      <td>deets_text_length</td>\n",
       "      <td>5.0</td>\n",
       "      <td>1.948000e+02</td>\n",
       "      <td>1.285193e+02</td>\n",
       "      <td>2.300000e+01</td>\n",
       "      <td>9.100000e+01</td>\n",
       "      <td>2.730000e+02</td>\n",
       "      <td>2.840000e+02</td>\n",
       "      <td>3.030000e+02</td>\n",
       "    </tr>\n",
       "    <tr>\n",
       "      <td>user_id</td>\n",
       "      <td>5.0</td>\n",
       "      <td>4.172129e+08</td>\n",
       "      <td>7.029586e+08</td>\n",
       "      <td>7.832140e+05</td>\n",
       "      <td>1.413037e+07</td>\n",
       "      <td>2.507388e+07</td>\n",
       "      <td>4.094866e+08</td>\n",
       "      <td>1.636590e+09</td>\n",
       "    </tr>\n",
       "    <tr>\n",
       "      <td>user_followers_count</td>\n",
       "      <td>5.0</td>\n",
       "      <td>3.153081e+07</td>\n",
       "      <td>3.085426e+07</td>\n",
       "      <td>2.636216e+06</td>\n",
       "      <td>1.167755e+07</td>\n",
       "      <td>1.433192e+07</td>\n",
       "      <td>5.713527e+07</td>\n",
       "      <td>7.187311e+07</td>\n",
       "    </tr>\n",
       "    <tr>\n",
       "      <td>user_following_count</td>\n",
       "      <td>5.0</td>\n",
       "      <td>9.420000e+01</td>\n",
       "      <td>1.381655e+02</td>\n",
       "      <td>1.000000e+00</td>\n",
       "      <td>1.800000e+01</td>\n",
       "      <td>4.700000e+01</td>\n",
       "      <td>6.800000e+01</td>\n",
       "      <td>3.370000e+02</td>\n",
       "    </tr>\n",
       "    <tr>\n",
       "      <td>user_tweet_count</td>\n",
       "      <td>5.0</td>\n",
       "      <td>1.298520e+04</td>\n",
       "      <td>2.049390e+04</td>\n",
       "      <td>9.760000e+02</td>\n",
       "      <td>1.225000e+03</td>\n",
       "      <td>1.316000e+03</td>\n",
       "      <td>1.290900e+04</td>\n",
       "      <td>4.850000e+04</td>\n",
       "    </tr>\n",
       "    <tr>\n",
       "      <td>user_listed_count</td>\n",
       "      <td>5.0</td>\n",
       "      <td>5.151740e+04</td>\n",
       "      <td>4.754258e+04</td>\n",
       "      <td>6.747000e+03</td>\n",
       "      <td>2.143000e+04</td>\n",
       "      <td>2.489700e+04</td>\n",
       "      <td>9.055200e+04</td>\n",
       "      <td>1.139610e+05</td>\n",
       "    </tr>\n",
       "    <tr>\n",
       "      <td>user_description_length</td>\n",
       "      <td>5.0</td>\n",
       "      <td>6.440000e+01</td>\n",
       "      <td>4.989289e+01</td>\n",
       "      <td>1.800000e+01</td>\n",
       "      <td>2.500000e+01</td>\n",
       "      <td>4.800000e+01</td>\n",
       "      <td>9.600000e+01</td>\n",
       "      <td>1.350000e+02</td>\n",
       "    </tr>\n",
       "  </tbody>\n",
       "</table>\n",
       "</div>"
      ],
      "text/plain": [
       "                         count          mean           std           min           25%           50%           75%           max\n",
       "deets_author_id            5.0  4.172129e+08  7.029586e+08  7.832140e+05  1.413037e+07  2.507388e+07  4.094866e+08  1.636590e+09\n",
       "deets_tweet_id             5.0  1.221676e+18  1.544955e+15  1.219257e+18  1.221299e+18  1.221814e+18  1.222973e+18  1.223038e+18\n",
       "deets_retweet_count        5.0  8.375200e+03  1.195595e+04  1.530000e+02  6.780000e+02  2.406000e+03  1.010700e+04  2.853200e+04\n",
       "deets_reply_count          5.0  1.015600e+03  1.247624e+03  5.600000e+01  1.190000e+02  5.080000e+02  1.346000e+03  3.049000e+03\n",
       "deets_like_count           5.0  2.736720e+04  3.282287e+04  1.068000e+03  5.556000e+03  8.517000e+03  4.434300e+04  7.735200e+04\n",
       "deets_quote_count          5.0  9.678000e+02  1.895791e+03  8.000000e+00  3.200000e+01  1.920000e+02  2.530000e+02  4.354000e+03\n",
       "deets_text_length          5.0  1.948000e+02  1.285193e+02  2.300000e+01  9.100000e+01  2.730000e+02  2.840000e+02  3.030000e+02\n",
       "user_id                    5.0  4.172129e+08  7.029586e+08  7.832140e+05  1.413037e+07  2.507388e+07  4.094866e+08  1.636590e+09\n",
       "user_followers_count       5.0  3.153081e+07  3.085426e+07  2.636216e+06  1.167755e+07  1.433192e+07  5.713527e+07  7.187311e+07\n",
       "user_following_count       5.0  9.420000e+01  1.381655e+02  1.000000e+00  1.800000e+01  4.700000e+01  6.800000e+01  3.370000e+02\n",
       "user_tweet_count           5.0  1.298520e+04  2.049390e+04  9.760000e+02  1.225000e+03  1.316000e+03  1.290900e+04  4.850000e+04\n",
       "user_listed_count          5.0  5.151740e+04  4.754258e+04  6.747000e+03  2.143000e+04  2.489700e+04  9.055200e+04  1.139610e+05\n",
       "user_description_length    5.0  6.440000e+01  4.989289e+01  1.800000e+01  2.500000e+01  4.800000e+01  9.600000e+01  1.350000e+02"
      ]
     },
     "execution_count": 21,
     "metadata": {},
     "output_type": "execute_result"
    }
   ],
   "source": [
    "df.describe().T"
   ]
  },
  {
   "cell_type": "markdown",
   "metadata": {},
   "source": [
    "___"
   ]
  },
  {
   "cell_type": "markdown",
   "metadata": {},
   "source": [
    "## Check For Multicollinearity"
   ]
  },
  {
   "cell_type": "markdown",
   "metadata": {},
   "source": [
    "___"
   ]
  },
  {
   "cell_type": "markdown",
   "metadata": {},
   "source": [
    "## Check For Heteroskedasticity"
   ]
  },
  {
   "cell_type": "markdown",
   "metadata": {},
   "source": [
    "___"
   ]
  },
  {
   "cell_type": "markdown",
   "metadata": {},
   "source": [
    "## Explore"
   ]
  }
 ],
 "metadata": {
  "kernelspec": {
   "display_name": "Python 3",
   "language": "python",
   "name": "python3"
  },
  "language_info": {
   "codemirror_mode": {
    "name": "ipython",
    "version": 3
   },
   "file_extension": ".py",
   "mimetype": "text/x-python",
   "name": "python",
   "nbconvert_exporter": "python",
   "pygments_lexer": "ipython3",
   "version": "3.7.4"
  },
  "toc": {
   "base_numbering": 1,
   "nav_menu": {},
   "number_sections": true,
   "sideBar": true,
   "skip_h1_title": true,
   "title_cell": "Table of Contents",
   "title_sidebar": "Contents",
   "toc_cell": true,
   "toc_position": {},
   "toc_section_display": true,
   "toc_window_display": true
  }
 },
 "nbformat": 4,
 "nbformat_minor": 2
}
