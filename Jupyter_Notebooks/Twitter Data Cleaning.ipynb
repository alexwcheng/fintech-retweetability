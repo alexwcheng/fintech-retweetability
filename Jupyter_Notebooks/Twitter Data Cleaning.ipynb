{
 "cells": [
  {
   "cell_type": "markdown",
   "metadata": {},
   "source": [
    "# Twitter Data Cleaning"
   ]
  },
  {
   "cell_type": "markdown",
   "metadata": {},
   "source": [
    "___"
   ]
  },
  {
   "cell_type": "markdown",
   "metadata": {
    "toc": true
   },
   "source": [
    "<h1>Table of Contents<span class=\"tocSkip\"></span></h1>\n",
    "<div class=\"toc\"><ul class=\"toc-item\"><li><span><a href=\"#Setup\" data-toc-modified-id=\"Setup-1\"><span class=\"toc-item-num\">1&nbsp;&nbsp;</span>Setup</a></span><ul class=\"toc-item\"><li><span><a href=\"#Import-Libraries\" data-toc-modified-id=\"Import-Libraries-1.1\"><span class=\"toc-item-num\">1.1&nbsp;&nbsp;</span>Import Libraries</a></span></li><li><span><a href=\"#Increase-Max-Rows,-Columns,-Width\" data-toc-modified-id=\"Increase-Max-Rows,-Columns,-Width-1.2\"><span class=\"toc-item-num\">1.2&nbsp;&nbsp;</span>Increase Max Rows, Columns, Width</a></span></li></ul></li><li><span><a href=\"#Import-Data\" data-toc-modified-id=\"Import-Data-2\"><span class=\"toc-item-num\">2&nbsp;&nbsp;</span>Import Data</a></span></li><li><span><a href=\"#Convert-To-DataFrames\" data-toc-modified-id=\"Convert-To-DataFrames-3\"><span class=\"toc-item-num\">3&nbsp;&nbsp;</span>Convert To DataFrames</a></span><ul class=\"toc-item\"><li><span><a href=\"#Tweets\" data-toc-modified-id=\"Tweets-3.1\"><span class=\"toc-item-num\">3.1&nbsp;&nbsp;</span>Tweets</a></span></li><li><span><a href=\"#Deets\" data-toc-modified-id=\"Deets-3.2\"><span class=\"toc-item-num\">3.2&nbsp;&nbsp;</span>Deets</a></span></li><li><span><a href=\"#Users\" data-toc-modified-id=\"Users-3.3\"><span class=\"toc-item-num\">3.3&nbsp;&nbsp;</span>Users</a></span></li></ul></li></ul></div>"
   ]
  },
  {
   "cell_type": "markdown",
   "metadata": {},
   "source": [
    "___"
   ]
  },
  {
   "cell_type": "markdown",
   "metadata": {},
   "source": [
    "## Setup"
   ]
  },
  {
   "cell_type": "markdown",
   "metadata": {},
   "source": [
    "### Import Libraries"
   ]
  },
  {
   "cell_type": "code",
   "execution_count": 1,
   "metadata": {},
   "outputs": [],
   "source": [
    "import sys\n",
    "sys.path.append(\"..\")\n",
    "import matplotlib.pyplot as plt\n",
    "import matplotlib.ticker as ticker\n",
    "import seaborn as sns\n",
    "import numpy as np\n",
    "import pandas as pd\n",
    "import requests\n",
    "import json\n",
    "import math\n",
    "import sklearn\n",
    "from scipy import stats\n",
    "from scipy.stats import norm\n",
    "from sklearn.utils import resample\n",
    "import pickle\n",
    "import statsmodels.api as sm\n",
    "from statsmodels.formula.api import ols\n",
    "import scipy.stats as stats\n",
    "from wordcloud import WordCloud\n",
    "import random\n",
    "from collections import Counter\n",
    "from statsmodels.stats.outliers_influence import variance_inflation_factor\n",
    "from sklearn.model_selection import train_test_split\n",
    "from sklearn.linear_model import LassoCV, Lasso, Ridge, LinearRegression, LogisticRegression\n",
    "from sklearn.preprocessing import StandardScaler\n",
    "from sklearn.linear_model import SGDClassifier\n",
    "from sklearn.model_selection import RandomizedSearchCV, cross_val_score\n",
    "from sklearn.metrics import roc_curve, auc, confusion_matrix\n",
    "import scipy.stats as stats"
   ]
  },
  {
   "cell_type": "markdown",
   "metadata": {},
   "source": [
    "### Increase Max Rows, Columns, Width"
   ]
  },
  {
   "cell_type": "code",
   "execution_count": 111,
   "metadata": {},
   "outputs": [],
   "source": [
    "pd.set_option('display.max_rows', 1000)\n",
    "pd.set_option('display.max_columns', 1000)\n",
    "pd.set_option('display.width', 1000)"
   ]
  },
  {
   "cell_type": "markdown",
   "metadata": {},
   "source": [
    "___"
   ]
  },
  {
   "cell_type": "markdown",
   "metadata": {},
   "source": [
    "## Import Data"
   ]
  },
  {
   "cell_type": "code",
   "execution_count": 91,
   "metadata": {},
   "outputs": [],
   "source": [
    "with open('../Data/search_tweets.json') as a:\n",
    "    tweets_data = json.load(a)\n",
    "with open('../Data/tweets_deets.json') as b:\n",
    "    deets = json.load(b)\n",
    "with open('../Data/users.json') as c:\n",
    "    users = json.load(c)"
   ]
  },
  {
   "cell_type": "markdown",
   "metadata": {},
   "source": [
    "___"
   ]
  },
  {
   "cell_type": "markdown",
   "metadata": {},
   "source": [
    "## Convert To DataFrames"
   ]
  },
  {
   "cell_type": "markdown",
   "metadata": {},
   "source": [
    "### Tweets"
   ]
  },
  {
   "cell_type": "code",
   "execution_count": 27,
   "metadata": {
    "scrolled": true
   },
   "outputs": [
    {
     "data": {
      "text/plain": [
       "['created_at',\n",
       " 'id',\n",
       " 'id_str',\n",
       " 'text',\n",
       " 'truncated',\n",
       " 'entities',\n",
       " 'metadata',\n",
       " 'source',\n",
       " 'in_reply_to_status_id',\n",
       " 'in_reply_to_status_id_str',\n",
       " 'in_reply_to_user_id',\n",
       " 'in_reply_to_user_id_str',\n",
       " 'in_reply_to_screen_name',\n",
       " 'user',\n",
       " 'geo',\n",
       " 'coordinates',\n",
       " 'place',\n",
       " 'contributors',\n",
       " 'retweeted_status',\n",
       " 'is_quote_status',\n",
       " 'quoted_status_id',\n",
       " 'quoted_status_id_str',\n",
       " 'retweet_count',\n",
       " 'favorite_count',\n",
       " 'favorited',\n",
       " 'retweeted',\n",
       " 'lang']"
      ]
     },
     "execution_count": 27,
     "metadata": {},
     "output_type": "execute_result"
    }
   ],
   "source": [
    "keys = list(tweets['statuses'][0].keys())\n",
    "keys"
   ]
  },
  {
   "cell_type": "code",
   "execution_count": 158,
   "metadata": {},
   "outputs": [],
   "source": [
    "tweets = pd.DataFrame()\n",
    "tweets['tweet_created_at'] = list(map(lambda tweet: tweet['created_at'], tweets_data['statuses']))\n",
    "tweets['tweet_id'] = list(map(lambda tweet: tweet['id'], tweets_data['statuses']))\n",
    "tweets['tweet_id_str'] = list(map(lambda tweet: tweet['id_str'], tweets_data['statuses']))\n",
    "# tweets['tweet_text'] = list(map(lambda tweet: tweet['text'] if 'extended_tweet' not in tweet else tweet['extended_tweet']['full_text'], tweets_data['statuses'])) #unnecessary - full tweet text comes from \"deets\"\n",
    "# tweets['truncated'] = list(map(lambda tweet: tweet['truncated'], tweets_data['statuses'])) #unnecessary column\n",
    "tweets['tweet_entities'] = list(map(lambda tweet: tweet['entities'], tweets_data['statuses']))\n",
    "tweets['tweet_source'] = list(map(lambda tweet: tweet['source'], tweets_data['statuses']))\n",
    "tweets['tweet_in_reply_to_status_id'] = list(map(lambda tweet: tweet['in_reply_to_status_id'], tweets_data['statuses']))\n",
    "tweets['tweet_in_reply_to_status_id_str'] = list(map(lambda tweet: tweet['in_reply_to_status_id_str'], tweets_data['statuses']))\n",
    "tweets['tweet_in_reply_to_user_id'] = list(map(lambda tweet: tweet['in_reply_to_user_id'], tweets_data['statuses']))\n",
    "tweets['tweet_in_reply_to_user_id_str'] = list(map(lambda tweet: tweet['in_reply_to_user_id_str'], tweets_data['statuses']))\n",
    "tweets['tweet_in_reply_to_screen_name'] = list(map(lambda tweet: tweet['in_reply_to_screen_name'], tweets_data['statuses']))\n",
    "tweets['tweet_in_reply_to_user_id_str'] = list(map(lambda tweet: tweet['in_reply_to_user_id_str'], tweets_data['statuses']))\n",
    "tweets['tweet_in_reply_to_user_id_str'] = list(map(lambda tweet: tweet['in_reply_to_user_id_str'], tweets_data['statuses']))\n",
    "tweets['tweet_in_reply_to_user_id_str'] = list(map(lambda tweet: tweet['in_reply_to_user_id_str'], tweets_data['statuses']))\n",
    "# tweets['user_screen_name'] = list(map(lambda tweet: tweet['user']['screen_name'], tweets_data['statuses'])) #unnecessary column - this comes from \"users\"\n",
    "tweets['tweet_location'] = list(map(lambda tweet: tweet['user']['location'], tweets_data['statuses']))\n",
    "tweets['tweet_coordinates'] = list(map(lambda tweet: tweet['coordinates'], tweets_data['statuses']))\n",
    "tweets['tweet_geo'] = list(map(lambda tweet: tweet['geo'], tweets_data['statuses']))\n",
    "tweets['tweet_place'] = list(map(lambda tweet: tweet['place'], tweets_data['statuses']))\n",
    "tweets['tweet_contributors'] = list(map(lambda tweet: tweet['contributors'], tweets_data['statuses']))\n",
    "tweets['tweet_retweeted_status'] = list(map(lambda tweet: tweet['retweeted_status'], tweets_data['statuses']))\n",
    "tweets['tweet_is_quote_status'] = list(map(lambda tweet: tweet['is_quote_status'], tweets_data['statuses']))\n",
    "# tweets['quoted_status_id'] = list(map(lambda tweet: tweet['quoted_status_id'], tweets_data['statuses']))\n",
    "# tweets['quoted_status_id_str'] = list(map(lambda tweet: tweet['quoted_status_id_str'], tweets_data['statuses']))\n",
    "tweets['tweet_retweeted_status'] = list(map(lambda tweet: tweet['retweeted_status'], tweets_data['statuses']))\n",
    "tweets['tweet_retweet_count'] = list(map(lambda tweet: tweet['retweet_count'], tweets_data['statuses'])) #redundant column - this comes from \"deets\"\n",
    "tweets['tweet_favorite_count'] = list(map(lambda tweet: tweet['favorite_count'], tweets_data['statuses']))\n",
    "tweets['tweet_favorited'] = list(map(lambda tweet: tweet['favorited'], tweets_data['statuses']))\n",
    "tweets['tweet_retweeted'] = list(map(lambda tweet: tweet['retweeted'], tweets_data['statuses']))\n",
    "tweets['tweet_language'] = list(map(lambda tweet: tweet['lang'], tweets_data['statuses']))"
   ]
  },
  {
   "cell_type": "code",
   "execution_count": 159,
   "metadata": {
    "scrolled": true
   },
   "outputs": [
    {
     "data": {
      "text/html": [
       "<div>\n",
       "<style scoped>\n",
       "    .dataframe tbody tr th:only-of-type {\n",
       "        vertical-align: middle;\n",
       "    }\n",
       "\n",
       "    .dataframe tbody tr th {\n",
       "        vertical-align: top;\n",
       "    }\n",
       "\n",
       "    .dataframe thead th {\n",
       "        text-align: right;\n",
       "    }\n",
       "</style>\n",
       "<table border=\"1\" class=\"dataframe\">\n",
       "  <thead>\n",
       "    <tr style=\"text-align: right;\">\n",
       "      <th></th>\n",
       "      <th>0</th>\n",
       "      <th>1</th>\n",
       "    </tr>\n",
       "  </thead>\n",
       "  <tbody>\n",
       "    <tr>\n",
       "      <td>tweet_created_at</td>\n",
       "      <td>Fri Jan 31 00:22:27 +0000 2020</td>\n",
       "      <td>Fri Jan 31 00:22:26 +0000 2020</td>\n",
       "    </tr>\n",
       "    <tr>\n",
       "      <td>tweet_id</td>\n",
       "      <td>1223038801519562752</td>\n",
       "      <td>1223038795181723648</td>\n",
       "    </tr>\n",
       "    <tr>\n",
       "      <td>tweet_id_str</td>\n",
       "      <td>1223038801519562752</td>\n",
       "      <td>1223038795181723648</td>\n",
       "    </tr>\n",
       "    <tr>\n",
       "      <td>tweet_entities</td>\n",
       "      <td>{'hashtags': [], 'symbols': [], 'user_mentions...</td>\n",
       "      <td>{'hashtags': [], 'symbols': [], 'user_mentions...</td>\n",
       "    </tr>\n",
       "    <tr>\n",
       "      <td>tweet_source</td>\n",
       "      <td>&lt;a href=\"http://twitter.com/download/iphone\" r...</td>\n",
       "      <td>&lt;a href=\"http://twitter.com/download/iphone\" r...</td>\n",
       "    </tr>\n",
       "    <tr>\n",
       "      <td>tweet_in_reply_to_status_id</td>\n",
       "      <td>None</td>\n",
       "      <td>None</td>\n",
       "    </tr>\n",
       "    <tr>\n",
       "      <td>tweet_in_reply_to_status_id_str</td>\n",
       "      <td>None</td>\n",
       "      <td>None</td>\n",
       "    </tr>\n",
       "    <tr>\n",
       "      <td>tweet_in_reply_to_user_id</td>\n",
       "      <td>None</td>\n",
       "      <td>None</td>\n",
       "    </tr>\n",
       "    <tr>\n",
       "      <td>tweet_in_reply_to_user_id_str</td>\n",
       "      <td>None</td>\n",
       "      <td>None</td>\n",
       "    </tr>\n",
       "    <tr>\n",
       "      <td>tweet_in_reply_to_screen_name</td>\n",
       "      <td>None</td>\n",
       "      <td>None</td>\n",
       "    </tr>\n",
       "    <tr>\n",
       "      <td>tweet_location</td>\n",
       "      <td></td>\n",
       "      <td></td>\n",
       "    </tr>\n",
       "    <tr>\n",
       "      <td>tweet_coordinates</td>\n",
       "      <td>None</td>\n",
       "      <td>None</td>\n",
       "    </tr>\n",
       "    <tr>\n",
       "      <td>tweet_geo</td>\n",
       "      <td>None</td>\n",
       "      <td>None</td>\n",
       "    </tr>\n",
       "    <tr>\n",
       "      <td>tweet_place</td>\n",
       "      <td>None</td>\n",
       "      <td>None</td>\n",
       "    </tr>\n",
       "    <tr>\n",
       "      <td>tweet_contributors</td>\n",
       "      <td>None</td>\n",
       "      <td>None</td>\n",
       "    </tr>\n",
       "    <tr>\n",
       "      <td>tweet_retweeted_status</td>\n",
       "      <td>{'created_at': 'Thu Jan 30 05:23:03 +0000 2020...</td>\n",
       "      <td>{'created_at': 'Thu Jan 30 12:16:16 +0000 2020...</td>\n",
       "    </tr>\n",
       "    <tr>\n",
       "      <td>tweet_is_quote_status</td>\n",
       "      <td>True</td>\n",
       "      <td>False</td>\n",
       "    </tr>\n",
       "    <tr>\n",
       "      <td>tweet_retweet_count</td>\n",
       "      <td>193</td>\n",
       "      <td>7</td>\n",
       "    </tr>\n",
       "    <tr>\n",
       "      <td>tweet_favorite_count</td>\n",
       "      <td>0</td>\n",
       "      <td>0</td>\n",
       "    </tr>\n",
       "    <tr>\n",
       "      <td>tweet_favorited</td>\n",
       "      <td>False</td>\n",
       "      <td>False</td>\n",
       "    </tr>\n",
       "    <tr>\n",
       "      <td>tweet_retweeted</td>\n",
       "      <td>False</td>\n",
       "      <td>False</td>\n",
       "    </tr>\n",
       "    <tr>\n",
       "      <td>tweet_language</td>\n",
       "      <td>en</td>\n",
       "      <td>en</td>\n",
       "    </tr>\n",
       "  </tbody>\n",
       "</table>\n",
       "</div>"
      ],
      "text/plain": [
       "                                                                                 0                                                  1\n",
       "tweet_created_at                                    Fri Jan 31 00:22:27 +0000 2020                     Fri Jan 31 00:22:26 +0000 2020\n",
       "tweet_id                                                       1223038801519562752                                1223038795181723648\n",
       "tweet_id_str                                                   1223038801519562752                                1223038795181723648\n",
       "tweet_entities                   {'hashtags': [], 'symbols': [], 'user_mentions...  {'hashtags': [], 'symbols': [], 'user_mentions...\n",
       "tweet_source                     <a href=\"http://twitter.com/download/iphone\" r...  <a href=\"http://twitter.com/download/iphone\" r...\n",
       "tweet_in_reply_to_status_id                                                   None                                               None\n",
       "tweet_in_reply_to_status_id_str                                               None                                               None\n",
       "tweet_in_reply_to_user_id                                                     None                                               None\n",
       "tweet_in_reply_to_user_id_str                                                 None                                               None\n",
       "tweet_in_reply_to_screen_name                                                 None                                               None\n",
       "tweet_location                                                                                                                       \n",
       "tweet_coordinates                                                             None                                               None\n",
       "tweet_geo                                                                     None                                               None\n",
       "tweet_place                                                                   None                                               None\n",
       "tweet_contributors                                                            None                                               None\n",
       "tweet_retweeted_status           {'created_at': 'Thu Jan 30 05:23:03 +0000 2020...  {'created_at': 'Thu Jan 30 12:16:16 +0000 2020...\n",
       "tweet_is_quote_status                                                         True                                              False\n",
       "tweet_retweet_count                                                            193                                                  7\n",
       "tweet_favorite_count                                                             0                                                  0\n",
       "tweet_favorited                                                              False                                              False\n",
       "tweet_retweeted                                                              False                                              False\n",
       "tweet_language                                                                  en                                                 en"
      ]
     },
     "execution_count": 159,
     "metadata": {},
     "output_type": "execute_result"
    }
   ],
   "source": [
    "tweets.T"
   ]
  },
  {
   "cell_type": "markdown",
   "metadata": {},
   "source": [
    "### Deets"
   ]
  },
  {
   "cell_type": "code",
   "execution_count": 150,
   "metadata": {
    "scrolled": true
   },
   "outputs": [
    {
     "data": {
      "text/plain": [
       "dict_keys(['attachments', 'author_id', 'created_at', 'entities', 'id', 'lang', 'possibly_sensitive', 'source', 'stats', 'text', 'format'])"
      ]
     },
     "execution_count": 150,
     "metadata": {},
     "output_type": "execute_result"
    }
   ],
   "source": [
    "deets['data'][0].keys()"
   ]
  },
  {
   "cell_type": "code",
   "execution_count": 125,
   "metadata": {},
   "outputs": [
    {
     "data": {
      "text/plain": [
       "dict_keys(['retweet_count', 'reply_count', 'like_count', 'quote_count'])"
      ]
     },
     "execution_count": 125,
     "metadata": {},
     "output_type": "execute_result"
    }
   ],
   "source": [
    "deets['data'][0]['stats'].keys()"
   ]
  },
  {
   "cell_type": "code",
   "execution_count": 132,
   "metadata": {},
   "outputs": [],
   "source": [
    "deets_df = pd.DataFrame()\n",
    "\n",
    "# deets_df['attachments'] = list(map(lambda tweet: tweet['attachments'], deets['data']))\n",
    "deets_df['author_id'] = list(map(lambda tweet: tweet['author_id'], deets['data']))\n",
    "deets_df['created_at'] = list(map(lambda tweet: tweet['created_at'], deets['data']))\n",
    "deets_df['tweet_id'] = list(map(lambda tweet: tweet['id'], deets['data']))\n",
    "deets_df['lang'] = list(map(lambda tweet: tweet['lang'], deets['data']))\n",
    "deets_df['possibly_sensitive'] = list(map(lambda tweet: tweet['possibly_sensitive'], deets['data']))\n",
    "# deets_df['source'] = list(map(lambda tweet: tweet['source'], deets['data'])) #unnecessary column\n",
    "# deets_df['stats'] = list(map(lambda tweet: tweet['stats'], deets['data'])) #unnecessary column - extracting stats keys below\n",
    "deets_df['text'] = list(map(lambda tweet: tweet['text'], deets['data']))\n",
    "# deets_df['format'] = list(map(lambda tweet: tweet['format'], deets['data'])) #unnecessary column\n",
    "\n",
    "#extracted from \"stats\" key:\n",
    "deets_df['retweet_count'] = list(map(lambda tweet: tweet['stats']['retweet_count'], deets['data']))\n",
    "deets_df['reply_count'] = list(map(lambda tweet: tweet['stats']['reply_count'], deets['data']))\n",
    "deets_df['like_count'] = list(map(lambda tweet: tweet['stats']['like_count'], deets['data']))\n",
    "deets_df['quote_count'] = list(map(lambda tweet: tweet['stats']['quote_count'], deets['data']))\n",
    "\n",
    "#feature engineering:\n",
    "deets_df['text_length'] = list(map(lambda tweet: len(tweet['text']), deets['data']))"
   ]
  },
  {
   "cell_type": "code",
   "execution_count": 133,
   "metadata": {
    "scrolled": true
   },
   "outputs": [
    {
     "data": {
      "text/html": [
       "<div>\n",
       "<style scoped>\n",
       "    .dataframe tbody tr th:only-of-type {\n",
       "        vertical-align: middle;\n",
       "    }\n",
       "\n",
       "    .dataframe tbody tr th {\n",
       "        vertical-align: top;\n",
       "    }\n",
       "\n",
       "    .dataframe thead th {\n",
       "        text-align: right;\n",
       "    }\n",
       "</style>\n",
       "<table border=\"1\" class=\"dataframe\">\n",
       "  <thead>\n",
       "    <tr style=\"text-align: right;\">\n",
       "      <th></th>\n",
       "      <th>author_id</th>\n",
       "      <th>created_at</th>\n",
       "      <th>tweet_id</th>\n",
       "      <th>lang</th>\n",
       "      <th>possibly_sensitive</th>\n",
       "      <th>text</th>\n",
       "      <th>retweet_count</th>\n",
       "      <th>reply_count</th>\n",
       "      <th>like_count</th>\n",
       "      <th>quote_count</th>\n",
       "      <th>text_length</th>\n",
       "    </tr>\n",
       "  </thead>\n",
       "  <tbody>\n",
       "    <tr>\n",
       "      <td>0</td>\n",
       "      <td>25073877</td>\n",
       "      <td>2020-01-31T00:19:23.000Z</td>\n",
       "      <td>1223038027234267137</td>\n",
       "      <td>en</td>\n",
       "      <td>False</td>\n",
       "      <td>Great poll in Iowa, where I just landed for a ...</td>\n",
       "      <td>2406</td>\n",
       "      <td>1346</td>\n",
       "      <td>8517</td>\n",
       "      <td>192</td>\n",
       "      <td>91</td>\n",
       "    </tr>\n",
       "    <tr>\n",
       "      <td>1</td>\n",
       "      <td>783214</td>\n",
       "      <td>2020-01-30T20:00:13.000Z</td>\n",
       "      <td>1222972807639896064</td>\n",
       "      <td>en</td>\n",
       "      <td>False</td>\n",
       "      <td>Yes, it's still January</td>\n",
       "      <td>28532</td>\n",
       "      <td>3049</td>\n",
       "      <td>77352</td>\n",
       "      <td>4354</td>\n",
       "      <td>23</td>\n",
       "    </tr>\n",
       "    <tr>\n",
       "      <td>2</td>\n",
       "      <td>409486555</td>\n",
       "      <td>2020-01-20T13:56:40.000Z</td>\n",
       "      <td>1219257438949597185</td>\n",
       "      <td>en</td>\n",
       "      <td>False</td>\n",
       "      <td>To honor Dr. King's legacy, we all can play a ...</td>\n",
       "      <td>10107</td>\n",
       "      <td>508</td>\n",
       "      <td>44343</td>\n",
       "      <td>253</td>\n",
       "      <td>303</td>\n",
       "    </tr>\n",
       "    <tr>\n",
       "      <td>3</td>\n",
       "      <td>14130366</td>\n",
       "      <td>2020-01-26T05:08:25.000Z</td>\n",
       "      <td>1221298825786089472</td>\n",
       "      <td>en</td>\n",
       "      <td>False</td>\n",
       "      <td>This Black History Month, we’ll be celebrating...</td>\n",
       "      <td>153</td>\n",
       "      <td>56</td>\n",
       "      <td>1068</td>\n",
       "      <td>8</td>\n",
       "      <td>284</td>\n",
       "    </tr>\n",
       "    <tr>\n",
       "      <td>4</td>\n",
       "      <td>1636590253</td>\n",
       "      <td>2020-01-27T15:15:10.000Z</td>\n",
       "      <td>1221813908576464896</td>\n",
       "      <td>en</td>\n",
       "      <td>False</td>\n",
       "      <td>Today, we remember the millions of lives lost....</td>\n",
       "      <td>678</td>\n",
       "      <td>119</td>\n",
       "      <td>5556</td>\n",
       "      <td>32</td>\n",
       "      <td>273</td>\n",
       "    </tr>\n",
       "  </tbody>\n",
       "</table>\n",
       "</div>"
      ],
      "text/plain": [
       "    author_id                created_at             tweet_id lang  possibly_sensitive                                               text  retweet_count  reply_count  like_count  quote_count  text_length\n",
       "0    25073877  2020-01-31T00:19:23.000Z  1223038027234267137   en               False  Great poll in Iowa, where I just landed for a ...           2406         1346        8517          192           91\n",
       "1      783214  2020-01-30T20:00:13.000Z  1222972807639896064   en               False                            Yes, it's still January          28532         3049       77352         4354           23\n",
       "2   409486555  2020-01-20T13:56:40.000Z  1219257438949597185   en               False  To honor Dr. King's legacy, we all can play a ...          10107          508       44343          253          303\n",
       "3    14130366  2020-01-26T05:08:25.000Z  1221298825786089472   en               False  This Black History Month, we’ll be celebrating...            153           56        1068            8          284\n",
       "4  1636590253  2020-01-27T15:15:10.000Z  1221813908576464896   en               False  Today, we remember the millions of lives lost....            678          119        5556           32          273"
      ]
     },
     "execution_count": 133,
     "metadata": {},
     "output_type": "execute_result"
    }
   ],
   "source": [
    "deets_df"
   ]
  },
  {
   "cell_type": "markdown",
   "metadata": {},
   "source": [
    "### Users"
   ]
  },
  {
   "cell_type": "code",
   "execution_count": 151,
   "metadata": {},
   "outputs": [
    {
     "data": {
      "text/plain": [
       "dict_keys(['created_at', 'description', 'entities', 'id', 'location', 'most_recent_tweet_id', 'name', 'pinned_tweet_id', 'profile_image_url', 'protected', 'stats', 'url', 'username', 'verified', 'format'])"
      ]
     },
     "execution_count": 151,
     "metadata": {},
     "output_type": "execute_result"
    }
   ],
   "source": [
    "users['data'][0].keys()"
   ]
  },
  {
   "cell_type": "code",
   "execution_count": 137,
   "metadata": {},
   "outputs": [
    {
     "data": {
      "text/plain": [
       "dict_keys(['followers_count', 'following_count', 'tweet_count', 'listed_count'])"
      ]
     },
     "execution_count": 137,
     "metadata": {},
     "output_type": "execute_result"
    }
   ],
   "source": [
    "users['data'][0]['stats'].keys()"
   ]
  },
  {
   "cell_type": "code",
   "execution_count": 145,
   "metadata": {},
   "outputs": [],
   "source": [
    "users_df = pd.DataFrame()\n",
    "\n",
    "users_df['user_created_at'] = list(map(lambda tweet: tweet['created_at'], users['data']))\n",
    "users_df['user_description'] = list(map(lambda tweet: tweet['description'], users['data']))\n",
    "# users_df['user_entities'] = list(map(lambda tweet: tweet['entities'], users['data'])) #unnecessary column\n",
    "users_df['user_id'] = list(map(lambda tweet: tweet['id'], users['data']))\n",
    "# users_df['user_location'] = list(map(lambda tweet: tweet['location'], users['data'])) #GET THIS TO WORK\n",
    "users_df['user_real_name'] = list(map(lambda tweet: tweet['name'], users['data']))\n",
    "# users_df['user_pinned_tweet_id'] = list(map(lambda tweet: tweet['pinned_tweet_id'], users['data'])) #GET THIS TO WORK\n",
    "users_df['user_profile_image_url'] = list(map(lambda tweet: tweet['profile_image_url'], users['data']))\n",
    "users_df['user_protected'] = list(map(lambda tweet: tweet['protected'], users['data']))\n",
    "# users_df['user_stats'] = list(map(lambda tweet: tweet['stats'], users['data'])) #unnecessary column - extracting stats keys below\n",
    "users_df['user_url'] = list(map(lambda tweet: tweet['url'], users['data']))\n",
    "users_df['username'] = list(map(lambda tweet: tweet['username'], users['data']))\n",
    "users_df['verified'] = list(map(lambda tweet: tweet['verified'], users['data']))\n",
    "users_df['format'] = list(map(lambda tweet: tweet['format'], users['data']))\n",
    "\n",
    "#extracted from \"stats\" key:\n",
    "users_df['user_followers_count'] = list(map(lambda tweet: tweet['stats']['followers_count'], users['data']))\n",
    "users_df['user_following_count'] = list(map(lambda tweet: tweet['stats']['following_count'], users['data']))\n",
    "users_df['user_tweet_count'] = list(map(lambda tweet: tweet['stats']['tweet_count'], users['data']))\n",
    "users_df['user_listed_count'] = list(map(lambda tweet: tweet['stats']['listed_count'], users['data']))\n",
    "\n",
    "#feature engineering:\n",
    "users_df['user_description_length'] = list(map(lambda tweet: len(tweet['description']), users['data']))"
   ]
  },
  {
   "cell_type": "code",
   "execution_count": 160,
   "metadata": {
    "scrolled": true
   },
   "outputs": [
    {
     "data": {
      "text/html": [
       "<div>\n",
       "<style scoped>\n",
       "    .dataframe tbody tr th:only-of-type {\n",
       "        vertical-align: middle;\n",
       "    }\n",
       "\n",
       "    .dataframe tbody tr th {\n",
       "        vertical-align: top;\n",
       "    }\n",
       "\n",
       "    .dataframe thead th {\n",
       "        text-align: right;\n",
       "    }\n",
       "</style>\n",
       "<table border=\"1\" class=\"dataframe\">\n",
       "  <thead>\n",
       "    <tr style=\"text-align: right;\">\n",
       "      <th></th>\n",
       "      <th>user_created_at</th>\n",
       "      <th>user_description</th>\n",
       "      <th>user_id</th>\n",
       "      <th>user_real_name</th>\n",
       "      <th>user_profile_image_url</th>\n",
       "      <th>user_protected</th>\n",
       "      <th>user_url</th>\n",
       "      <th>username</th>\n",
       "      <th>verified</th>\n",
       "      <th>format</th>\n",
       "      <th>user_followers_count</th>\n",
       "      <th>user_following_count</th>\n",
       "      <th>user_tweet_count</th>\n",
       "      <th>user_listed_count</th>\n",
       "      <th>user_description_length</th>\n",
       "    </tr>\n",
       "  </thead>\n",
       "  <tbody>\n",
       "    <tr>\n",
       "      <td>0</td>\n",
       "      <td>2009-03-18T13:46:38.000Z</td>\n",
       "      <td>45th President of the United States of America🇺🇸</td>\n",
       "      <td>25073877</td>\n",
       "      <td>Donald J. Trump</td>\n",
       "      <td>https://pbs.twimg.com/profile_images/874276197...</td>\n",
       "      <td>False</td>\n",
       "      <td>https://t.co/OMxB0x7xC5</td>\n",
       "      <td>realDonaldTrump</td>\n",
       "      <td>True</td>\n",
       "      <td>detailed</td>\n",
       "      <td>71873110</td>\n",
       "      <td>47</td>\n",
       "      <td>48500</td>\n",
       "      <td>113961</td>\n",
       "      <td>48</td>\n",
       "    </tr>\n",
       "    <tr>\n",
       "      <td>1</td>\n",
       "      <td>2007-02-20T14:35:54.000Z</td>\n",
       "      <td>What’s happening?!</td>\n",
       "      <td>783214</td>\n",
       "      <td>Twitter</td>\n",
       "      <td>https://pbs.twimg.com/profile_images/111172963...</td>\n",
       "      <td>False</td>\n",
       "      <td>https://t.co/TAXQpsHa5X</td>\n",
       "      <td>Twitter</td>\n",
       "      <td>True</td>\n",
       "      <td>detailed</td>\n",
       "      <td>57135266</td>\n",
       "      <td>1</td>\n",
       "      <td>12909</td>\n",
       "      <td>90552</td>\n",
       "      <td>18</td>\n",
       "    </tr>\n",
       "    <tr>\n",
       "      <td>2</td>\n",
       "      <td>2011-11-10T20:13:01.000Z</td>\n",
       "      <td>Girl from the South Side and former First Lady...</td>\n",
       "      <td>409486555</td>\n",
       "      <td>Michelle Obama</td>\n",
       "      <td>https://pbs.twimg.com/profile_images/119281123...</td>\n",
       "      <td>False</td>\n",
       "      <td>https://t.co/0UVvR5L6vm</td>\n",
       "      <td>MichelleObama</td>\n",
       "      <td>True</td>\n",
       "      <td>detailed</td>\n",
       "      <td>14331923</td>\n",
       "      <td>18</td>\n",
       "      <td>1225</td>\n",
       "      <td>24897</td>\n",
       "      <td>96</td>\n",
       "    </tr>\n",
       "    <tr>\n",
       "      <td>3</td>\n",
       "      <td>2008-03-12T05:51:53.000Z</td>\n",
       "      <td>CEO,  Google and Alphabet</td>\n",
       "      <td>14130366</td>\n",
       "      <td>Sundar Pichai</td>\n",
       "      <td>https://pbs.twimg.com/profile_images/864282616...</td>\n",
       "      <td>False</td>\n",
       "      <td></td>\n",
       "      <td>sundarpichai</td>\n",
       "      <td>True</td>\n",
       "      <td>detailed</td>\n",
       "      <td>2636216</td>\n",
       "      <td>337</td>\n",
       "      <td>1316</td>\n",
       "      <td>6747</td>\n",
       "      <td>25</td>\n",
       "    </tr>\n",
       "    <tr>\n",
       "      <td>4</td>\n",
       "      <td>2013-07-31T22:41:25.000Z</td>\n",
       "      <td>Apple CEO  Auburn 🏀 🏈 Duke 🏀 National Parks 🏞...</td>\n",
       "      <td>1636590253</td>\n",
       "      <td>Tim Cook</td>\n",
       "      <td>https://pbs.twimg.com/profile_images/119411373...</td>\n",
       "      <td>False</td>\n",
       "      <td></td>\n",
       "      <td>tim_cook</td>\n",
       "      <td>True</td>\n",
       "      <td>detailed</td>\n",
       "      <td>11677552</td>\n",
       "      <td>68</td>\n",
       "      <td>976</td>\n",
       "      <td>21430</td>\n",
       "      <td>135</td>\n",
       "    </tr>\n",
       "  </tbody>\n",
       "</table>\n",
       "</div>"
      ],
      "text/plain": [
       "            user_created_at                                   user_description     user_id   user_real_name                             user_profile_image_url  user_protected                 user_url         username  verified    format  user_followers_count  user_following_count  user_tweet_count  user_listed_count  user_description_length\n",
       "0  2009-03-18T13:46:38.000Z   45th President of the United States of America🇺🇸    25073877  Donald J. Trump  https://pbs.twimg.com/profile_images/874276197...           False  https://t.co/OMxB0x7xC5  realDonaldTrump      True  detailed              71873110                    47             48500             113961                       48\n",
       "1  2007-02-20T14:35:54.000Z                                 What’s happening?!      783214          Twitter  https://pbs.twimg.com/profile_images/111172963...           False  https://t.co/TAXQpsHa5X          Twitter      True  detailed              57135266                     1             12909              90552                       18\n",
       "2  2011-11-10T20:13:01.000Z  Girl from the South Side and former First Lady...   409486555   Michelle Obama  https://pbs.twimg.com/profile_images/119281123...           False  https://t.co/0UVvR5L6vm    MichelleObama      True  detailed              14331923                    18              1225              24897                       96\n",
       "3  2008-03-12T05:51:53.000Z                          CEO,  Google and Alphabet    14130366    Sundar Pichai  https://pbs.twimg.com/profile_images/864282616...           False                              sundarpichai      True  detailed               2636216                   337              1316               6747                       25\n",
       "4  2013-07-31T22:41:25.000Z  Apple CEO  Auburn 🏀 🏈 Duke 🏀 National Parks 🏞...  1636590253         Tim Cook  https://pbs.twimg.com/profile_images/119411373...           False                                  tim_cook      True  detailed              11677552                    68               976              21430                      135"
      ]
     },
     "execution_count": 160,
     "metadata": {},
     "output_type": "execute_result"
    }
   ],
   "source": [
    "users_df"
   ]
  }
 ],
 "metadata": {
  "kernelspec": {
   "display_name": "Python 3",
   "language": "python",
   "name": "python3"
  },
  "language_info": {
   "codemirror_mode": {
    "name": "ipython",
    "version": 3
   },
   "file_extension": ".py",
   "mimetype": "text/x-python",
   "name": "python",
   "nbconvert_exporter": "python",
   "pygments_lexer": "ipython3",
   "version": "3.7.3"
  },
  "toc": {
   "base_numbering": 1,
   "nav_menu": {},
   "number_sections": true,
   "sideBar": true,
   "skip_h1_title": true,
   "title_cell": "Table of Contents",
   "title_sidebar": "Contents",
   "toc_cell": true,
   "toc_position": {
    "height": "calc(100% - 180px)",
    "left": "10px",
    "top": "150px",
    "width": "211.594px"
   },
   "toc_section_display": true,
   "toc_window_display": true
  }
 },
 "nbformat": 4,
 "nbformat_minor": 4
}
