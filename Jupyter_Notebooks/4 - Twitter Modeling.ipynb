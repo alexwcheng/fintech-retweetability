{
 "cells": [
  {
   "cell_type": "markdown",
   "metadata": {},
   "source": [
    "# Twitter Modeling"
   ]
  },
  {
   "cell_type": "markdown",
   "metadata": {},
   "source": [
    "___"
   ]
  },
  {
   "cell_type": "markdown",
   "metadata": {
    "toc": true
   },
   "source": [
    "<h1>Table of Contents<span class=\"tocSkip\"></span></h1>\n",
    "<div class=\"toc\"><ul class=\"toc-item\"><li><span><a href=\"#Setup\" data-toc-modified-id=\"Setup-1\"><span class=\"toc-item-num\">1&nbsp;&nbsp;</span>Setup</a></span><ul class=\"toc-item\"><li><span><a href=\"#Import-Packages\" data-toc-modified-id=\"Import-Packages-1.1\"><span class=\"toc-item-num\">1.1&nbsp;&nbsp;</span>Import Packages</a></span></li><li><span><a href=\"#Import-Data\" data-toc-modified-id=\"Import-Data-1.2\"><span class=\"toc-item-num\">1.2&nbsp;&nbsp;</span>Import Data</a></span></li></ul></li><li><span><a href=\"#Train/Test-Split\" data-toc-modified-id=\"Train/Test-Split-2\"><span class=\"toc-item-num\">2&nbsp;&nbsp;</span>Train/Test Split</a></span></li><li><span><a href=\"#Scaling\" data-toc-modified-id=\"Scaling-3\"><span class=\"toc-item-num\">3&nbsp;&nbsp;</span>Scaling</a></span></li><li><span><a href=\"#Random-Forest-Modeling\" data-toc-modified-id=\"Random-Forest-Modeling-4\"><span class=\"toc-item-num\">4&nbsp;&nbsp;</span>Random Forest Modeling</a></span><ul class=\"toc-item\"><li><span><a href=\"#Instantiate-Random-Forest-Classifier\" data-toc-modified-id=\"Instantiate-Random-Forest-Classifier-4.1\"><span class=\"toc-item-num\">4.1&nbsp;&nbsp;</span>Instantiate Random Forest Classifier</a></span></li><li><span><a href=\"#Fit-Classifier-To-Training-Data\" data-toc-modified-id=\"Fit-Classifier-To-Training-Data-4.2\"><span class=\"toc-item-num\">4.2&nbsp;&nbsp;</span>Fit Classifier To Training Data</a></span></li><li><span><a href=\"#Performance-Of-Random-Forest-Model\" data-toc-modified-id=\"Performance-Of-Random-Forest-Model-4.3\"><span class=\"toc-item-num\">4.3&nbsp;&nbsp;</span>Performance Of Random Forest Model</a></span></li></ul></li><li><span><a href=\"#Cross-Validation\" data-toc-modified-id=\"Cross-Validation-5\"><span class=\"toc-item-num\">5&nbsp;&nbsp;</span>Cross-Validation</a></span><ul class=\"toc-item\"><li><span><a href=\"#Instantiate-&amp;-Cross-Validate-Random-Forest-Classifier\" data-toc-modified-id=\"Instantiate-&amp;-Cross-Validate-Random-Forest-Classifier-5.1\"><span class=\"toc-item-num\">5.1&nbsp;&nbsp;</span>Instantiate &amp; Cross Validate Random Forest Classifier</a></span></li><li><span><a href=\"#Determine-Mean-Cross-Validation-Train-Score\" data-toc-modified-id=\"Determine-Mean-Cross-Validation-Train-Score-5.2\"><span class=\"toc-item-num\">5.2&nbsp;&nbsp;</span>Determine Mean Cross-Validation Train Score</a></span></li></ul></li><li><span><a href=\"#Hyperparameter-Tuning\" data-toc-modified-id=\"Hyperparameter-Tuning-6\"><span class=\"toc-item-num\">6&nbsp;&nbsp;</span>Hyperparameter Tuning</a></span></li><li><span><a href=\"#Predict-Test-Data\" data-toc-modified-id=\"Predict-Test-Data-7\"><span class=\"toc-item-num\">7&nbsp;&nbsp;</span>Predict Test Data</a></span><ul class=\"toc-item\"><li><span><a href=\"#Baseline-Random-Forest-Model\" data-toc-modified-id=\"Baseline-Random-Forest-Model-7.1\"><span class=\"toc-item-num\">7.1&nbsp;&nbsp;</span>Baseline Random Forest Model</a></span></li><li><span><a href=\"#Hyperparameter-Tuned-Random-Forest-Model\" data-toc-modified-id=\"Hyperparameter-Tuned-Random-Forest-Model-7.2\"><span class=\"toc-item-num\">7.2&nbsp;&nbsp;</span>Hyperparameter Tuned Random Forest Model</a></span></li></ul></li><li><span><a href=\"#Feature-Importances\" data-toc-modified-id=\"Feature-Importances-8\"><span class=\"toc-item-num\">8&nbsp;&nbsp;</span>Feature Importances</a></span><ul class=\"toc-item\"><li><span><a href=\"#Generate-DataFrame-Of-Feature-Importances\" data-toc-modified-id=\"Generate-DataFrame-Of-Feature-Importances-8.1\"><span class=\"toc-item-num\">8.1&nbsp;&nbsp;</span>Generate DataFrame Of Feature Importances</a></span></li><li><span><a href=\"#Plot-Feature-Importances\" data-toc-modified-id=\"Plot-Feature-Importances-8.2\"><span class=\"toc-item-num\">8.2&nbsp;&nbsp;</span>Plot Feature Importances</a></span></li></ul></li><li><span><a href=\"#SMOTE\" data-toc-modified-id=\"SMOTE-9\"><span class=\"toc-item-num\">9&nbsp;&nbsp;</span>SMOTE</a></span></li><li><span><a href=\"#ADASYN\" data-toc-modified-id=\"ADASYN-10\"><span class=\"toc-item-num\">10&nbsp;&nbsp;</span>ADASYN</a></span></li><li><span><a href=\"#AUC-/-ROC\" data-toc-modified-id=\"AUC-/-ROC-11\"><span class=\"toc-item-num\">11&nbsp;&nbsp;</span>AUC / ROC</a></span></li></ul></div>"
   ]
  },
  {
   "cell_type": "markdown",
   "metadata": {},
   "source": [
    "___"
   ]
  },
  {
   "cell_type": "markdown",
   "metadata": {},
   "source": [
    "## Setup"
   ]
  },
  {
   "cell_type": "markdown",
   "metadata": {},
   "source": [
    "### Import Packages"
   ]
  },
  {
   "cell_type": "code",
   "execution_count": 383,
   "metadata": {},
   "outputs": [],
   "source": [
    "import sys\n",
    "sys.path.append(\"..\")"
   ]
  },
  {
   "cell_type": "code",
   "execution_count": 384,
   "metadata": {},
   "outputs": [],
   "source": [
    "# Import necessary python packages and functions\n",
    "from Py_Files.imports import *\n",
    "from Py_Files.max_range import *\n",
    "%matplotlib inline"
   ]
  },
  {
   "cell_type": "markdown",
   "metadata": {},
   "source": [
    "### Import Data"
   ]
  },
  {
   "cell_type": "code",
   "execution_count": 236,
   "metadata": {},
   "outputs": [],
   "source": [
    "df = pd.read_csv('../Data/Twitter_Data_Final.csv', index_col=0)"
   ]
  },
  {
   "cell_type": "code",
   "execution_count": 240,
   "metadata": {},
   "outputs": [],
   "source": [
    "y = df['retweet_class']\n",
    "X = df.drop('retweet_class', axis=1)"
   ]
  },
  {
   "cell_type": "markdown",
   "metadata": {},
   "source": [
    "___"
   ]
  },
  {
   "cell_type": "markdown",
   "metadata": {},
   "source": [
    "## Train/Test Split"
   ]
  },
  {
   "cell_type": "code",
   "execution_count": 241,
   "metadata": {},
   "outputs": [],
   "source": [
    "X_train, X_test, y_train, y_test = train_test_split(X, y, test_size = 0.20, stratify = y, random_state=10)"
   ]
  },
  {
   "cell_type": "markdown",
   "metadata": {},
   "source": [
    "___"
   ]
  },
  {
   "cell_type": "markdown",
   "metadata": {},
   "source": [
    "## Scaling"
   ]
  },
  {
   "cell_type": "code",
   "execution_count": 242,
   "metadata": {},
   "outputs": [],
   "source": [
    "ss = StandardScaler()"
   ]
  },
  {
   "cell_type": "code",
   "execution_count": 243,
   "metadata": {},
   "outputs": [],
   "source": [
    "X_train_ss = ss.fit(X_train)\n",
    "X_train_ss = ss.transform(X_train)\n",
    "X_test_ss = ss.transform(X_test)"
   ]
  },
  {
   "cell_type": "markdown",
   "metadata": {},
   "source": [
    "___"
   ]
  },
  {
   "cell_type": "markdown",
   "metadata": {},
   "source": [
    "## Random Forest Modeling"
   ]
  },
  {
   "cell_type": "markdown",
   "metadata": {},
   "source": [
    "### Instantiate Random Forest Classifier"
   ]
  },
  {
   "cell_type": "code",
   "execution_count": 408,
   "metadata": {},
   "outputs": [],
   "source": [
    "base_model = RandomForestClassifier(n_estimators = 100, #number of trees\n",
    "                             criterion = 'gini', #traditional \"Entropy\" equation or \"Gini\"\n",
    "                             max_features = None, #how many variables (features) in each tree (you can use log2, sqrt, auto, or None (which means \"max features\"))\n",
    "                             max_depth = 10,\n",
    "                             random_state=2020,\n",
    "                             oob_score= True) #Out Of Bag score (set to True to show this)"
   ]
  },
  {
   "cell_type": "markdown",
   "metadata": {},
   "source": [
    "### Fit Classifier To Training Data"
   ]
  },
  {
   "cell_type": "code",
   "execution_count": 409,
   "metadata": {},
   "outputs": [
    {
     "data": {
      "text/plain": [
       "RandomForestClassifier(bootstrap=True, ccp_alpha=0.0, class_weight=None,\n",
       "                       criterion='gini', max_depth=10, max_features=None,\n",
       "                       max_leaf_nodes=None, max_samples=None,\n",
       "                       min_impurity_decrease=0.0, min_impurity_split=None,\n",
       "                       min_samples_leaf=1, min_samples_split=2,\n",
       "                       min_weight_fraction_leaf=0.0, n_estimators=100,\n",
       "                       n_jobs=None, oob_score=True, random_state=2020,\n",
       "                       verbose=0, warm_start=False)"
      ]
     },
     "execution_count": 409,
     "metadata": {},
     "output_type": "execute_result"
    }
   ],
   "source": [
    "base_model.fit(X_train, y_train)"
   ]
  },
  {
   "cell_type": "markdown",
   "metadata": {},
   "source": [
    "### Performance Of Random Forest Model"
   ]
  },
  {
   "cell_type": "code",
   "execution_count": 410,
   "metadata": {},
   "outputs": [
    {
     "data": {
      "text/plain": [
       "0.8381429027792567"
      ]
     },
     "execution_count": 410,
     "metadata": {},
     "output_type": "execute_result"
    }
   ],
   "source": [
    "base_model.oob_score_"
   ]
  },
  {
   "cell_type": "code",
   "execution_count": 411,
   "metadata": {},
   "outputs": [
    {
     "data": {
      "text/plain": [
       "0.8925567032264935"
      ]
     },
     "execution_count": 411,
     "metadata": {},
     "output_type": "execute_result"
    }
   ],
   "source": [
    "base_model.score(X_train, y_train)"
   ]
  },
  {
   "cell_type": "markdown",
   "metadata": {},
   "source": [
    "## Cross-Validation"
   ]
  },
  {
   "cell_type": "markdown",
   "metadata": {},
   "source": [
    "### Instantiate & Cross Validate Random Forest Classifier"
   ]
  },
  {
   "cell_type": "code",
   "execution_count": 413,
   "metadata": {},
   "outputs": [],
   "source": [
    "validator = cross_validate(base_model,\n",
    "                    X_train,\n",
    "                    y_train,\n",
    "                    return_train_score=True,\n",
    "                    return_estimator=True,\n",
    "                    cv=5)"
   ]
  },
  {
   "cell_type": "markdown",
   "metadata": {},
   "source": [
    "### Determine Mean Cross-Validation Train Score"
   ]
  },
  {
   "cell_type": "code",
   "execution_count": 414,
   "metadata": {},
   "outputs": [
    {
     "name": "stdout",
     "output_type": "stream",
     "text": [
      "Mean cross-validation train score: 0.8997977166167214 +/- standard deviation of: 0.0019386197087270577\n"
     ]
    }
   ],
   "source": [
    "mean_train = np.mean(validator['train_score'])\n",
    "std_train = np.std(validator['train_score'])\n",
    "print(\"Mean cross-validation train score: {} +/- standard deviation of: {}\".format(mean_train, std_train))"
   ]
  },
  {
   "cell_type": "markdown",
   "metadata": {},
   "source": [
    "___"
   ]
  },
  {
   "cell_type": "markdown",
   "metadata": {},
   "source": [
    "## Hyperparameter Tuning"
   ]
  },
  {
   "cell_type": "code",
   "execution_count": 374,
   "metadata": {},
   "outputs": [],
   "source": [
    "from pprint import pprint"
   ]
  },
  {
   "cell_type": "code",
   "execution_count": 375,
   "metadata": {},
   "outputs": [
    {
     "name": "stdout",
     "output_type": "stream",
     "text": [
      "{'bootstrap': [True],\n",
      " 'max_depth': [2, 4, 6, 8, 10],\n",
      " 'max_features': ['auto'],\n",
      " 'min_samples_leaf': [2, 4, 6, 8],\n",
      " 'min_samples_split': [2, 4, 6, 8],\n",
      " 'n_estimators': [100, 200, 300, 400, 500, 600, 700, 800, 900, 1000]}\n"
     ]
    }
   ],
   "source": [
    "# Number of trees in random forest\n",
    "n_estimators = [int(x) for x in np.linspace(start = 100, stop = 1000, num = 10)]\n",
    "\n",
    "# Number of features to consider at every split\n",
    "max_features = ['auto']\n",
    "\n",
    "# Maximum number of levels in tree\n",
    "max_depth = [int(x) for x in np.linspace(2, 10, num = 5)]\n",
    "\n",
    "# Minimum number of samples required to split a node\n",
    "min_samples_split = [2, 4, 6, 8]\n",
    "\n",
    "# Minimum number of samples required at each leaf node\n",
    "min_samples_leaf = [2, 4, 6, 8]\n",
    "\n",
    "# Method of selecting samples for training each tree\n",
    "bootstrap = [True]\n",
    "\n",
    "# Create the random grid\n",
    "random_grid = {'n_estimators': n_estimators,\n",
    "               'max_features': max_features,\n",
    "               'max_depth': max_depth,\n",
    "               'min_samples_split': min_samples_split,\n",
    "               'min_samples_leaf': min_samples_leaf,\n",
    "               'bootstrap': bootstrap}\n",
    "pprint(random_grid)"
   ]
  },
  {
   "cell_type": "code",
   "execution_count": 376,
   "metadata": {},
   "outputs": [],
   "source": [
    "#instantiate Random Forest Classifier\n",
    "clf = RandomForestClassifier()"
   ]
  },
  {
   "cell_type": "code",
   "execution_count": 379,
   "metadata": {},
   "outputs": [],
   "source": [
    "# Random search of hyperparameters, using 5 fold cross validation, \n",
    "# Run 100 combinations, and use all available cores on your computer\n",
    "clf_random = RandomizedSearchCV(estimator = clf, param_distributions = random_grid, n_iter = 10, cv = 3, verbose=2, random_state=2020)"
   ]
  },
  {
   "cell_type": "code",
   "execution_count": 380,
   "metadata": {
    "scrolled": true
   },
   "outputs": [
    {
     "name": "stdout",
     "output_type": "stream",
     "text": [
      "Fitting 3 folds for each of 10 candidates, totalling 30 fits\n",
      "[CV] n_estimators=800, min_samples_split=2, min_samples_leaf=4, max_features=auto, max_depth=4, bootstrap=True \n"
     ]
    },
    {
     "name": "stderr",
     "output_type": "stream",
     "text": [
      "[Parallel(n_jobs=1)]: Using backend SequentialBackend with 1 concurrent workers.\n"
     ]
    },
    {
     "name": "stdout",
     "output_type": "stream",
     "text": [
      "[CV]  n_estimators=800, min_samples_split=2, min_samples_leaf=4, max_features=auto, max_depth=4, bootstrap=True, total=   3.0s\n",
      "[CV] n_estimators=800, min_samples_split=2, min_samples_leaf=4, max_features=auto, max_depth=4, bootstrap=True \n"
     ]
    },
    {
     "name": "stderr",
     "output_type": "stream",
     "text": [
      "[Parallel(n_jobs=1)]: Done   1 out of   1 | elapsed:    3.0s remaining:    0.0s\n"
     ]
    },
    {
     "name": "stdout",
     "output_type": "stream",
     "text": [
      "[CV]  n_estimators=800, min_samples_split=2, min_samples_leaf=4, max_features=auto, max_depth=4, bootstrap=True, total=   2.9s\n",
      "[CV] n_estimators=800, min_samples_split=2, min_samples_leaf=4, max_features=auto, max_depth=4, bootstrap=True \n",
      "[CV]  n_estimators=800, min_samples_split=2, min_samples_leaf=4, max_features=auto, max_depth=4, bootstrap=True, total=   2.8s\n",
      "[CV] n_estimators=1000, min_samples_split=6, min_samples_leaf=4, max_features=auto, max_depth=4, bootstrap=True \n",
      "[CV]  n_estimators=1000, min_samples_split=6, min_samples_leaf=4, max_features=auto, max_depth=4, bootstrap=True, total=   3.7s\n",
      "[CV] n_estimators=1000, min_samples_split=6, min_samples_leaf=4, max_features=auto, max_depth=4, bootstrap=True \n",
      "[CV]  n_estimators=1000, min_samples_split=6, min_samples_leaf=4, max_features=auto, max_depth=4, bootstrap=True, total=   3.7s\n",
      "[CV] n_estimators=1000, min_samples_split=6, min_samples_leaf=4, max_features=auto, max_depth=4, bootstrap=True \n",
      "[CV]  n_estimators=1000, min_samples_split=6, min_samples_leaf=4, max_features=auto, max_depth=4, bootstrap=True, total=   3.9s\n",
      "[CV] n_estimators=500, min_samples_split=8, min_samples_leaf=6, max_features=auto, max_depth=10, bootstrap=True \n",
      "[CV]  n_estimators=500, min_samples_split=8, min_samples_leaf=6, max_features=auto, max_depth=10, bootstrap=True, total=   3.0s\n",
      "[CV] n_estimators=500, min_samples_split=8, min_samples_leaf=6, max_features=auto, max_depth=10, bootstrap=True \n",
      "[CV]  n_estimators=500, min_samples_split=8, min_samples_leaf=6, max_features=auto, max_depth=10, bootstrap=True, total=   3.1s\n",
      "[CV] n_estimators=500, min_samples_split=8, min_samples_leaf=6, max_features=auto, max_depth=10, bootstrap=True \n",
      "[CV]  n_estimators=500, min_samples_split=8, min_samples_leaf=6, max_features=auto, max_depth=10, bootstrap=True, total=   3.0s\n",
      "[CV] n_estimators=200, min_samples_split=4, min_samples_leaf=2, max_features=auto, max_depth=10, bootstrap=True \n",
      "[CV]  n_estimators=200, min_samples_split=4, min_samples_leaf=2, max_features=auto, max_depth=10, bootstrap=True, total=   1.3s\n",
      "[CV] n_estimators=200, min_samples_split=4, min_samples_leaf=2, max_features=auto, max_depth=10, bootstrap=True \n",
      "[CV]  n_estimators=200, min_samples_split=4, min_samples_leaf=2, max_features=auto, max_depth=10, bootstrap=True, total=   1.3s\n",
      "[CV] n_estimators=200, min_samples_split=4, min_samples_leaf=2, max_features=auto, max_depth=10, bootstrap=True \n",
      "[CV]  n_estimators=200, min_samples_split=4, min_samples_leaf=2, max_features=auto, max_depth=10, bootstrap=True, total=   1.4s\n",
      "[CV] n_estimators=100, min_samples_split=6, min_samples_leaf=4, max_features=auto, max_depth=6, bootstrap=True \n",
      "[CV]  n_estimators=100, min_samples_split=6, min_samples_leaf=4, max_features=auto, max_depth=6, bootstrap=True, total=   0.5s\n",
      "[CV] n_estimators=100, min_samples_split=6, min_samples_leaf=4, max_features=auto, max_depth=6, bootstrap=True \n",
      "[CV]  n_estimators=100, min_samples_split=6, min_samples_leaf=4, max_features=auto, max_depth=6, bootstrap=True, total=   0.5s\n",
      "[CV] n_estimators=100, min_samples_split=6, min_samples_leaf=4, max_features=auto, max_depth=6, bootstrap=True \n",
      "[CV]  n_estimators=100, min_samples_split=6, min_samples_leaf=4, max_features=auto, max_depth=6, bootstrap=True, total=   0.5s\n",
      "[CV] n_estimators=500, min_samples_split=4, min_samples_leaf=4, max_features=auto, max_depth=6, bootstrap=True \n",
      "[CV]  n_estimators=500, min_samples_split=4, min_samples_leaf=4, max_features=auto, max_depth=6, bootstrap=True, total=   2.3s\n",
      "[CV] n_estimators=500, min_samples_split=4, min_samples_leaf=4, max_features=auto, max_depth=6, bootstrap=True \n",
      "[CV]  n_estimators=500, min_samples_split=4, min_samples_leaf=4, max_features=auto, max_depth=6, bootstrap=True, total=   2.4s\n",
      "[CV] n_estimators=500, min_samples_split=4, min_samples_leaf=4, max_features=auto, max_depth=6, bootstrap=True \n",
      "[CV]  n_estimators=500, min_samples_split=4, min_samples_leaf=4, max_features=auto, max_depth=6, bootstrap=True, total=   2.3s\n",
      "[CV] n_estimators=600, min_samples_split=4, min_samples_leaf=2, max_features=auto, max_depth=2, bootstrap=True \n",
      "[CV]  n_estimators=600, min_samples_split=4, min_samples_leaf=2, max_features=auto, max_depth=2, bootstrap=True, total=   1.9s\n",
      "[CV] n_estimators=600, min_samples_split=4, min_samples_leaf=2, max_features=auto, max_depth=2, bootstrap=True \n",
      "[CV]  n_estimators=600, min_samples_split=4, min_samples_leaf=2, max_features=auto, max_depth=2, bootstrap=True, total=   1.8s\n",
      "[CV] n_estimators=600, min_samples_split=4, min_samples_leaf=2, max_features=auto, max_depth=2, bootstrap=True \n",
      "[CV]  n_estimators=600, min_samples_split=4, min_samples_leaf=2, max_features=auto, max_depth=2, bootstrap=True, total=   1.8s\n",
      "[CV] n_estimators=400, min_samples_split=6, min_samples_leaf=2, max_features=auto, max_depth=10, bootstrap=True \n",
      "[CV]  n_estimators=400, min_samples_split=6, min_samples_leaf=2, max_features=auto, max_depth=10, bootstrap=True, total=   2.5s\n",
      "[CV] n_estimators=400, min_samples_split=6, min_samples_leaf=2, max_features=auto, max_depth=10, bootstrap=True \n",
      "[CV]  n_estimators=400, min_samples_split=6, min_samples_leaf=2, max_features=auto, max_depth=10, bootstrap=True, total=   2.7s\n",
      "[CV] n_estimators=400, min_samples_split=6, min_samples_leaf=2, max_features=auto, max_depth=10, bootstrap=True \n",
      "[CV]  n_estimators=400, min_samples_split=6, min_samples_leaf=2, max_features=auto, max_depth=10, bootstrap=True, total=   2.6s\n",
      "[CV] n_estimators=100, min_samples_split=2, min_samples_leaf=6, max_features=auto, max_depth=4, bootstrap=True \n",
      "[CV]  n_estimators=100, min_samples_split=2, min_samples_leaf=6, max_features=auto, max_depth=4, bootstrap=True, total=   0.4s\n",
      "[CV] n_estimators=100, min_samples_split=2, min_samples_leaf=6, max_features=auto, max_depth=4, bootstrap=True \n",
      "[CV]  n_estimators=100, min_samples_split=2, min_samples_leaf=6, max_features=auto, max_depth=4, bootstrap=True, total=   0.4s\n",
      "[CV] n_estimators=100, min_samples_split=2, min_samples_leaf=6, max_features=auto, max_depth=4, bootstrap=True \n",
      "[CV]  n_estimators=100, min_samples_split=2, min_samples_leaf=6, max_features=auto, max_depth=4, bootstrap=True, total=   0.4s\n",
      "[CV] n_estimators=200, min_samples_split=4, min_samples_leaf=8, max_features=auto, max_depth=2, bootstrap=True \n",
      "[CV]  n_estimators=200, min_samples_split=4, min_samples_leaf=8, max_features=auto, max_depth=2, bootstrap=True, total=   0.6s\n",
      "[CV] n_estimators=200, min_samples_split=4, min_samples_leaf=8, max_features=auto, max_depth=2, bootstrap=True \n",
      "[CV]  n_estimators=200, min_samples_split=4, min_samples_leaf=8, max_features=auto, max_depth=2, bootstrap=True, total=   0.5s\n",
      "[CV] n_estimators=200, min_samples_split=4, min_samples_leaf=8, max_features=auto, max_depth=2, bootstrap=True \n",
      "[CV]  n_estimators=200, min_samples_split=4, min_samples_leaf=8, max_features=auto, max_depth=2, bootstrap=True, total=   0.5s\n"
     ]
    },
    {
     "name": "stderr",
     "output_type": "stream",
     "text": [
      "[Parallel(n_jobs=1)]: Done  30 out of  30 | elapsed:   57.9s finished\n"
     ]
    },
    {
     "data": {
      "text/plain": [
       "RandomizedSearchCV(cv=3, error_score=nan,\n",
       "                   estimator=RandomForestClassifier(bootstrap=True,\n",
       "                                                    ccp_alpha=0.0,\n",
       "                                                    class_weight=None,\n",
       "                                                    criterion='gini',\n",
       "                                                    max_depth=None,\n",
       "                                                    max_features='auto',\n",
       "                                                    max_leaf_nodes=None,\n",
       "                                                    max_samples=None,\n",
       "                                                    min_impurity_decrease=0.0,\n",
       "                                                    min_impurity_split=None,\n",
       "                                                    min_samples_leaf=1,\n",
       "                                                    min_samples_split=2,\n",
       "                                                    min_weight_fraction_leaf=0.0,\n",
       "                                                    n_estimators=100,\n",
       "                                                    n_jobs...\n",
       "                                                    warm_start=False),\n",
       "                   iid='deprecated', n_iter=10, n_jobs=None,\n",
       "                   param_distributions={'bootstrap': [True],\n",
       "                                        'max_depth': [2, 4, 6, 8, 10],\n",
       "                                        'max_features': ['auto'],\n",
       "                                        'min_samples_leaf': [2, 4, 6, 8],\n",
       "                                        'min_samples_split': [2, 4, 6, 8],\n",
       "                                        'n_estimators': [100, 200, 300, 400,\n",
       "                                                         500, 600, 700, 800,\n",
       "                                                         900, 1000]},\n",
       "                   pre_dispatch='2*n_jobs', random_state=2020, refit=True,\n",
       "                   return_train_score=False, scoring=None, verbose=2)"
      ]
     },
     "execution_count": 380,
     "metadata": {},
     "output_type": "execute_result"
    }
   ],
   "source": [
    "# Fit RandomizedSearchCV model to X_train, y_train\n",
    "clf_random.fit(X_train, y_train)"
   ]
  },
  {
   "cell_type": "code",
   "execution_count": 381,
   "metadata": {},
   "outputs": [
    {
     "data": {
      "text/plain": [
       "{'n_estimators': 200,\n",
       " 'min_samples_split': 4,\n",
       " 'min_samples_leaf': 2,\n",
       " 'max_features': 'auto',\n",
       " 'max_depth': 10,\n",
       " 'bootstrap': True}"
      ]
     },
     "execution_count": 381,
     "metadata": {},
     "output_type": "execute_result"
    }
   ],
   "source": [
    "clf_random.best_params_"
   ]
  },
  {
   "cell_type": "markdown",
   "metadata": {},
   "source": [
    "- RandomSearchCV helped us find a good range for each hyperparameter. \n",
    "- Now that we have a tighter range for our ideal hyperparameters, we can more more specific about further combinations of settings to run. \n",
    "- So now we use GridSearchCV, which lets us try combinations that we specify, using the best values from RandomizedSearchCV as a starting point."
   ]
  },
  {
   "cell_type": "code",
   "execution_count": 386,
   "metadata": {},
   "outputs": [],
   "source": [
    "from sklearn.model_selection import GridSearchCV"
   ]
  },
  {
   "cell_type": "code",
   "execution_count": 395,
   "metadata": {},
   "outputs": [],
   "source": [
    "# Create the parameter grid based on the results of random search \n",
    "param_grid = {\n",
    "    'bootstrap': [True],\n",
    "    'max_depth': [2, 4, 6], #don't want max_depth to be more than 10...prone to overfitting.\n",
    "    'max_features': [2, 4, 6],\n",
    "    'min_samples_leaf': [2, 4],\n",
    "    'min_samples_split': [2, 4],\n",
    "    'n_estimators': [100, 200, 300, 1000]\n",
    "}\n",
    "# Create a based model\n",
    "clf = RandomForestClassifier()\n",
    "# Instantiate the grid search model\n",
    "grid_search = GridSearchCV(estimator = clf, param_grid = param_grid, cv = 3, verbose = 2)"
   ]
  },
  {
   "cell_type": "code",
   "execution_count": 396,
   "metadata": {
    "scrolled": true
   },
   "outputs": [
    {
     "name": "stdout",
     "output_type": "stream",
     "text": [
      "Fitting 3 folds for each of 144 candidates, totalling 432 fits\n",
      "[CV] bootstrap=True, max_depth=2, max_features=2, min_samples_leaf=2, min_samples_split=2, n_estimators=100 \n"
     ]
    },
    {
     "name": "stderr",
     "output_type": "stream",
     "text": [
      "[Parallel(n_jobs=1)]: Using backend SequentialBackend with 1 concurrent workers.\n"
     ]
    },
    {
     "name": "stdout",
     "output_type": "stream",
     "text": [
      "[CV]  bootstrap=True, max_depth=2, max_features=2, min_samples_leaf=2, min_samples_split=2, n_estimators=100, total=   0.2s\n",
      "[CV] bootstrap=True, max_depth=2, max_features=2, min_samples_leaf=2, min_samples_split=2, n_estimators=100 \n"
     ]
    },
    {
     "name": "stderr",
     "output_type": "stream",
     "text": [
      "[Parallel(n_jobs=1)]: Done   1 out of   1 | elapsed:    0.2s remaining:    0.0s\n"
     ]
    },
    {
     "name": "stdout",
     "output_type": "stream",
     "text": [
      "[CV]  bootstrap=True, max_depth=2, max_features=2, min_samples_leaf=2, min_samples_split=2, n_estimators=100, total=   0.3s\n",
      "[CV] bootstrap=True, max_depth=2, max_features=2, min_samples_leaf=2, min_samples_split=2, n_estimators=100 \n",
      "[CV]  bootstrap=True, max_depth=2, max_features=2, min_samples_leaf=2, min_samples_split=2, n_estimators=100, total=   0.3s\n",
      "[CV] bootstrap=True, max_depth=2, max_features=2, min_samples_leaf=2, min_samples_split=2, n_estimators=200 \n",
      "[CV]  bootstrap=True, max_depth=2, max_features=2, min_samples_leaf=2, min_samples_split=2, n_estimators=200, total=   0.5s\n",
      "[CV] bootstrap=True, max_depth=2, max_features=2, min_samples_leaf=2, min_samples_split=2, n_estimators=200 \n",
      "[CV]  bootstrap=True, max_depth=2, max_features=2, min_samples_leaf=2, min_samples_split=2, n_estimators=200, total=   0.5s\n",
      "[CV] bootstrap=True, max_depth=2, max_features=2, min_samples_leaf=2, min_samples_split=2, n_estimators=200 \n",
      "[CV]  bootstrap=True, max_depth=2, max_features=2, min_samples_leaf=2, min_samples_split=2, n_estimators=200, total=   0.4s\n",
      "[CV] bootstrap=True, max_depth=2, max_features=2, min_samples_leaf=2, min_samples_split=2, n_estimators=300 \n",
      "[CV]  bootstrap=True, max_depth=2, max_features=2, min_samples_leaf=2, min_samples_split=2, n_estimators=300, total=   0.6s\n",
      "[CV] bootstrap=True, max_depth=2, max_features=2, min_samples_leaf=2, min_samples_split=2, n_estimators=300 \n",
      "[CV]  bootstrap=True, max_depth=2, max_features=2, min_samples_leaf=2, min_samples_split=2, n_estimators=300, total=   0.7s\n",
      "[CV] bootstrap=True, max_depth=2, max_features=2, min_samples_leaf=2, min_samples_split=2, n_estimators=300 \n",
      "[CV]  bootstrap=True, max_depth=2, max_features=2, min_samples_leaf=2, min_samples_split=2, n_estimators=300, total=   0.7s\n",
      "[CV] bootstrap=True, max_depth=2, max_features=2, min_samples_leaf=2, min_samples_split=2, n_estimators=1000 \n",
      "[CV]  bootstrap=True, max_depth=2, max_features=2, min_samples_leaf=2, min_samples_split=2, n_estimators=1000, total=   2.0s\n",
      "[CV] bootstrap=True, max_depth=2, max_features=2, min_samples_leaf=2, min_samples_split=2, n_estimators=1000 \n",
      "[CV]  bootstrap=True, max_depth=2, max_features=2, min_samples_leaf=2, min_samples_split=2, n_estimators=1000, total=   2.0s\n",
      "[CV] bootstrap=True, max_depth=2, max_features=2, min_samples_leaf=2, min_samples_split=2, n_estimators=1000 \n",
      "[CV]  bootstrap=True, max_depth=2, max_features=2, min_samples_leaf=2, min_samples_split=2, n_estimators=1000, total=   2.1s\n",
      "[CV] bootstrap=True, max_depth=2, max_features=2, min_samples_leaf=2, min_samples_split=4, n_estimators=100 \n",
      "[CV]  bootstrap=True, max_depth=2, max_features=2, min_samples_leaf=2, min_samples_split=4, n_estimators=100, total=   0.3s\n",
      "[CV] bootstrap=True, max_depth=2, max_features=2, min_samples_leaf=2, min_samples_split=4, n_estimators=100 \n",
      "[CV]  bootstrap=True, max_depth=2, max_features=2, min_samples_leaf=2, min_samples_split=4, n_estimators=100, total=   0.2s\n",
      "[CV] bootstrap=True, max_depth=2, max_features=2, min_samples_leaf=2, min_samples_split=4, n_estimators=100 \n",
      "[CV]  bootstrap=True, max_depth=2, max_features=2, min_samples_leaf=2, min_samples_split=4, n_estimators=100, total=   0.2s\n",
      "[CV] bootstrap=True, max_depth=2, max_features=2, min_samples_leaf=2, min_samples_split=4, n_estimators=200 \n",
      "[CV]  bootstrap=True, max_depth=2, max_features=2, min_samples_leaf=2, min_samples_split=4, n_estimators=200, total=   0.4s\n",
      "[CV] bootstrap=True, max_depth=2, max_features=2, min_samples_leaf=2, min_samples_split=4, n_estimators=200 \n",
      "[CV]  bootstrap=True, max_depth=2, max_features=2, min_samples_leaf=2, min_samples_split=4, n_estimators=200, total=   0.4s\n",
      "[CV] bootstrap=True, max_depth=2, max_features=2, min_samples_leaf=2, min_samples_split=4, n_estimators=200 \n",
      "[CV]  bootstrap=True, max_depth=2, max_features=2, min_samples_leaf=2, min_samples_split=4, n_estimators=200, total=   0.4s\n",
      "[CV] bootstrap=True, max_depth=2, max_features=2, min_samples_leaf=2, min_samples_split=4, n_estimators=300 \n",
      "[CV]  bootstrap=True, max_depth=2, max_features=2, min_samples_leaf=2, min_samples_split=4, n_estimators=300, total=   0.6s\n",
      "[CV] bootstrap=True, max_depth=2, max_features=2, min_samples_leaf=2, min_samples_split=4, n_estimators=300 \n",
      "[CV]  bootstrap=True, max_depth=2, max_features=2, min_samples_leaf=2, min_samples_split=4, n_estimators=300, total=   0.6s\n",
      "[CV] bootstrap=True, max_depth=2, max_features=2, min_samples_leaf=2, min_samples_split=4, n_estimators=300 \n",
      "[CV]  bootstrap=True, max_depth=2, max_features=2, min_samples_leaf=2, min_samples_split=4, n_estimators=300, total=   0.6s\n",
      "[CV] bootstrap=True, max_depth=2, max_features=2, min_samples_leaf=2, min_samples_split=4, n_estimators=1000 \n",
      "[CV]  bootstrap=True, max_depth=2, max_features=2, min_samples_leaf=2, min_samples_split=4, n_estimators=1000, total=   2.0s\n",
      "[CV] bootstrap=True, max_depth=2, max_features=2, min_samples_leaf=2, min_samples_split=4, n_estimators=1000 \n",
      "[CV]  bootstrap=True, max_depth=2, max_features=2, min_samples_leaf=2, min_samples_split=4, n_estimators=1000, total=   2.0s\n",
      "[CV] bootstrap=True, max_depth=2, max_features=2, min_samples_leaf=2, min_samples_split=4, n_estimators=1000 \n",
      "[CV]  bootstrap=True, max_depth=2, max_features=2, min_samples_leaf=2, min_samples_split=4, n_estimators=1000, total=   2.1s\n",
      "[CV] bootstrap=True, max_depth=2, max_features=2, min_samples_leaf=4, min_samples_split=2, n_estimators=100 \n",
      "[CV]  bootstrap=True, max_depth=2, max_features=2, min_samples_leaf=4, min_samples_split=2, n_estimators=100, total=   0.2s\n",
      "[CV] bootstrap=True, max_depth=2, max_features=2, min_samples_leaf=4, min_samples_split=2, n_estimators=100 \n",
      "[CV]  bootstrap=True, max_depth=2, max_features=2, min_samples_leaf=4, min_samples_split=2, n_estimators=100, total=   0.2s\n",
      "[CV] bootstrap=True, max_depth=2, max_features=2, min_samples_leaf=4, min_samples_split=2, n_estimators=100 \n",
      "[CV]  bootstrap=True, max_depth=2, max_features=2, min_samples_leaf=4, min_samples_split=2, n_estimators=100, total=   0.2s\n",
      "[CV] bootstrap=True, max_depth=2, max_features=2, min_samples_leaf=4, min_samples_split=2, n_estimators=200 \n",
      "[CV]  bootstrap=True, max_depth=2, max_features=2, min_samples_leaf=4, min_samples_split=2, n_estimators=200, total=   0.4s\n",
      "[CV] bootstrap=True, max_depth=2, max_features=2, min_samples_leaf=4, min_samples_split=2, n_estimators=200 \n",
      "[CV]  bootstrap=True, max_depth=2, max_features=2, min_samples_leaf=4, min_samples_split=2, n_estimators=200, total=   0.5s\n",
      "[CV] bootstrap=True, max_depth=2, max_features=2, min_samples_leaf=4, min_samples_split=2, n_estimators=200 \n",
      "[CV]  bootstrap=True, max_depth=2, max_features=2, min_samples_leaf=4, min_samples_split=2, n_estimators=200, total=   0.5s\n",
      "[CV] bootstrap=True, max_depth=2, max_features=2, min_samples_leaf=4, min_samples_split=2, n_estimators=300 \n",
      "[CV]  bootstrap=True, max_depth=2, max_features=2, min_samples_leaf=4, min_samples_split=2, n_estimators=300, total=   0.7s\n",
      "[CV] bootstrap=True, max_depth=2, max_features=2, min_samples_leaf=4, min_samples_split=2, n_estimators=300 \n",
      "[CV]  bootstrap=True, max_depth=2, max_features=2, min_samples_leaf=4, min_samples_split=2, n_estimators=300, total=   0.6s\n",
      "[CV] bootstrap=True, max_depth=2, max_features=2, min_samples_leaf=4, min_samples_split=2, n_estimators=300 \n",
      "[CV]  bootstrap=True, max_depth=2, max_features=2, min_samples_leaf=4, min_samples_split=2, n_estimators=300, total=   0.6s\n",
      "[CV] bootstrap=True, max_depth=2, max_features=2, min_samples_leaf=4, min_samples_split=2, n_estimators=1000 \n",
      "[CV]  bootstrap=True, max_depth=2, max_features=2, min_samples_leaf=4, min_samples_split=2, n_estimators=1000, total=   2.2s\n",
      "[CV] bootstrap=True, max_depth=2, max_features=2, min_samples_leaf=4, min_samples_split=2, n_estimators=1000 \n",
      "[CV]  bootstrap=True, max_depth=2, max_features=2, min_samples_leaf=4, min_samples_split=2, n_estimators=1000, total=   2.1s\n",
      "[CV] bootstrap=True, max_depth=2, max_features=2, min_samples_leaf=4, min_samples_split=2, n_estimators=1000 \n",
      "[CV]  bootstrap=True, max_depth=2, max_features=2, min_samples_leaf=4, min_samples_split=2, n_estimators=1000, total=   2.1s\n",
      "[CV] bootstrap=True, max_depth=2, max_features=2, min_samples_leaf=4, min_samples_split=4, n_estimators=100 \n",
      "[CV]  bootstrap=True, max_depth=2, max_features=2, min_samples_leaf=4, min_samples_split=4, n_estimators=100, total=   0.2s\n",
      "[CV] bootstrap=True, max_depth=2, max_features=2, min_samples_leaf=4, min_samples_split=4, n_estimators=100 \n"
     ]
    },
    {
     "name": "stdout",
     "output_type": "stream",
     "text": [
      "[CV]  bootstrap=True, max_depth=2, max_features=2, min_samples_leaf=4, min_samples_split=4, n_estimators=100, total=   0.2s\n",
      "[CV] bootstrap=True, max_depth=2, max_features=2, min_samples_leaf=4, min_samples_split=4, n_estimators=100 \n",
      "[CV]  bootstrap=True, max_depth=2, max_features=2, min_samples_leaf=4, min_samples_split=4, n_estimators=100, total=   0.2s\n",
      "[CV] bootstrap=True, max_depth=2, max_features=2, min_samples_leaf=4, min_samples_split=4, n_estimators=200 \n",
      "[CV]  bootstrap=True, max_depth=2, max_features=2, min_samples_leaf=4, min_samples_split=4, n_estimators=200, total=   0.4s\n",
      "[CV] bootstrap=True, max_depth=2, max_features=2, min_samples_leaf=4, min_samples_split=4, n_estimators=200 \n",
      "[CV]  bootstrap=True, max_depth=2, max_features=2, min_samples_leaf=4, min_samples_split=4, n_estimators=200, total=   0.4s\n",
      "[CV] bootstrap=True, max_depth=2, max_features=2, min_samples_leaf=4, min_samples_split=4, n_estimators=200 \n",
      "[CV]  bootstrap=True, max_depth=2, max_features=2, min_samples_leaf=4, min_samples_split=4, n_estimators=200, total=   0.5s\n",
      "[CV] bootstrap=True, max_depth=2, max_features=2, min_samples_leaf=4, min_samples_split=4, n_estimators=300 \n",
      "[CV]  bootstrap=True, max_depth=2, max_features=2, min_samples_leaf=4, min_samples_split=4, n_estimators=300, total=   0.7s\n",
      "[CV] bootstrap=True, max_depth=2, max_features=2, min_samples_leaf=4, min_samples_split=4, n_estimators=300 \n",
      "[CV]  bootstrap=True, max_depth=2, max_features=2, min_samples_leaf=4, min_samples_split=4, n_estimators=300, total=   0.7s\n",
      "[CV] bootstrap=True, max_depth=2, max_features=2, min_samples_leaf=4, min_samples_split=4, n_estimators=300 \n",
      "[CV]  bootstrap=True, max_depth=2, max_features=2, min_samples_leaf=4, min_samples_split=4, n_estimators=300, total=   0.7s\n",
      "[CV] bootstrap=True, max_depth=2, max_features=2, min_samples_leaf=4, min_samples_split=4, n_estimators=1000 \n",
      "[CV]  bootstrap=True, max_depth=2, max_features=2, min_samples_leaf=4, min_samples_split=4, n_estimators=1000, total=   2.0s\n",
      "[CV] bootstrap=True, max_depth=2, max_features=2, min_samples_leaf=4, min_samples_split=4, n_estimators=1000 \n",
      "[CV]  bootstrap=True, max_depth=2, max_features=2, min_samples_leaf=4, min_samples_split=4, n_estimators=1000, total=   2.0s\n",
      "[CV] bootstrap=True, max_depth=2, max_features=2, min_samples_leaf=4, min_samples_split=4, n_estimators=1000 \n",
      "[CV]  bootstrap=True, max_depth=2, max_features=2, min_samples_leaf=4, min_samples_split=4, n_estimators=1000, total=   2.1s\n",
      "[CV] bootstrap=True, max_depth=2, max_features=4, min_samples_leaf=2, min_samples_split=2, n_estimators=100 \n",
      "[CV]  bootstrap=True, max_depth=2, max_features=4, min_samples_leaf=2, min_samples_split=2, n_estimators=100, total=   0.3s\n",
      "[CV] bootstrap=True, max_depth=2, max_features=4, min_samples_leaf=2, min_samples_split=2, n_estimators=100 \n",
      "[CV]  bootstrap=True, max_depth=2, max_features=4, min_samples_leaf=2, min_samples_split=2, n_estimators=100, total=   0.3s\n",
      "[CV] bootstrap=True, max_depth=2, max_features=4, min_samples_leaf=2, min_samples_split=2, n_estimators=100 \n",
      "[CV]  bootstrap=True, max_depth=2, max_features=4, min_samples_leaf=2, min_samples_split=2, n_estimators=100, total=   0.3s\n",
      "[CV] bootstrap=True, max_depth=2, max_features=4, min_samples_leaf=2, min_samples_split=2, n_estimators=200 \n",
      "[CV]  bootstrap=True, max_depth=2, max_features=4, min_samples_leaf=2, min_samples_split=2, n_estimators=200, total=   0.5s\n",
      "[CV] bootstrap=True, max_depth=2, max_features=4, min_samples_leaf=2, min_samples_split=2, n_estimators=200 \n",
      "[CV]  bootstrap=True, max_depth=2, max_features=4, min_samples_leaf=2, min_samples_split=2, n_estimators=200, total=   0.5s\n",
      "[CV] bootstrap=True, max_depth=2, max_features=4, min_samples_leaf=2, min_samples_split=2, n_estimators=200 \n",
      "[CV]  bootstrap=True, max_depth=2, max_features=4, min_samples_leaf=2, min_samples_split=2, n_estimators=200, total=   0.5s\n",
      "[CV] bootstrap=True, max_depth=2, max_features=4, min_samples_leaf=2, min_samples_split=2, n_estimators=300 \n",
      "[CV]  bootstrap=True, max_depth=2, max_features=4, min_samples_leaf=2, min_samples_split=2, n_estimators=300, total=   0.7s\n",
      "[CV] bootstrap=True, max_depth=2, max_features=4, min_samples_leaf=2, min_samples_split=2, n_estimators=300 \n",
      "[CV]  bootstrap=True, max_depth=2, max_features=4, min_samples_leaf=2, min_samples_split=2, n_estimators=300, total=   0.7s\n",
      "[CV] bootstrap=True, max_depth=2, max_features=4, min_samples_leaf=2, min_samples_split=2, n_estimators=300 \n",
      "[CV]  bootstrap=True, max_depth=2, max_features=4, min_samples_leaf=2, min_samples_split=2, n_estimators=300, total=   0.7s\n",
      "[CV] bootstrap=True, max_depth=2, max_features=4, min_samples_leaf=2, min_samples_split=2, n_estimators=1000 \n",
      "[CV]  bootstrap=True, max_depth=2, max_features=4, min_samples_leaf=2, min_samples_split=2, n_estimators=1000, total=   2.5s\n",
      "[CV] bootstrap=True, max_depth=2, max_features=4, min_samples_leaf=2, min_samples_split=2, n_estimators=1000 \n",
      "[CV]  bootstrap=True, max_depth=2, max_features=4, min_samples_leaf=2, min_samples_split=2, n_estimators=1000, total=   2.6s\n",
      "[CV] bootstrap=True, max_depth=2, max_features=4, min_samples_leaf=2, min_samples_split=2, n_estimators=1000 \n",
      "[CV]  bootstrap=True, max_depth=2, max_features=4, min_samples_leaf=2, min_samples_split=2, n_estimators=1000, total=   2.4s\n",
      "[CV] bootstrap=True, max_depth=2, max_features=4, min_samples_leaf=2, min_samples_split=4, n_estimators=100 \n",
      "[CV]  bootstrap=True, max_depth=2, max_features=4, min_samples_leaf=2, min_samples_split=4, n_estimators=100, total=   0.2s\n",
      "[CV] bootstrap=True, max_depth=2, max_features=4, min_samples_leaf=2, min_samples_split=4, n_estimators=100 \n",
      "[CV]  bootstrap=True, max_depth=2, max_features=4, min_samples_leaf=2, min_samples_split=4, n_estimators=100, total=   0.2s\n",
      "[CV] bootstrap=True, max_depth=2, max_features=4, min_samples_leaf=2, min_samples_split=4, n_estimators=100 \n",
      "[CV]  bootstrap=True, max_depth=2, max_features=4, min_samples_leaf=2, min_samples_split=4, n_estimators=100, total=   0.3s\n",
      "[CV] bootstrap=True, max_depth=2, max_features=4, min_samples_leaf=2, min_samples_split=4, n_estimators=200 \n",
      "[CV]  bootstrap=True, max_depth=2, max_features=4, min_samples_leaf=2, min_samples_split=4, n_estimators=200, total=   0.5s\n",
      "[CV] bootstrap=True, max_depth=2, max_features=4, min_samples_leaf=2, min_samples_split=4, n_estimators=200 \n",
      "[CV]  bootstrap=True, max_depth=2, max_features=4, min_samples_leaf=2, min_samples_split=4, n_estimators=200, total=   0.5s\n",
      "[CV] bootstrap=True, max_depth=2, max_features=4, min_samples_leaf=2, min_samples_split=4, n_estimators=200 \n",
      "[CV]  bootstrap=True, max_depth=2, max_features=4, min_samples_leaf=2, min_samples_split=4, n_estimators=200, total=   0.5s\n",
      "[CV] bootstrap=True, max_depth=2, max_features=4, min_samples_leaf=2, min_samples_split=4, n_estimators=300 \n",
      "[CV]  bootstrap=True, max_depth=2, max_features=4, min_samples_leaf=2, min_samples_split=4, n_estimators=300, total=   0.8s\n",
      "[CV] bootstrap=True, max_depth=2, max_features=4, min_samples_leaf=2, min_samples_split=4, n_estimators=300 \n",
      "[CV]  bootstrap=True, max_depth=2, max_features=4, min_samples_leaf=2, min_samples_split=4, n_estimators=300, total=   0.7s\n",
      "[CV] bootstrap=True, max_depth=2, max_features=4, min_samples_leaf=2, min_samples_split=4, n_estimators=300 \n",
      "[CV]  bootstrap=True, max_depth=2, max_features=4, min_samples_leaf=2, min_samples_split=4, n_estimators=300, total=   0.7s\n",
      "[CV] bootstrap=True, max_depth=2, max_features=4, min_samples_leaf=2, min_samples_split=4, n_estimators=1000 \n",
      "[CV]  bootstrap=True, max_depth=2, max_features=4, min_samples_leaf=2, min_samples_split=4, n_estimators=1000, total=   2.5s\n",
      "[CV] bootstrap=True, max_depth=2, max_features=4, min_samples_leaf=2, min_samples_split=4, n_estimators=1000 \n",
      "[CV]  bootstrap=True, max_depth=2, max_features=4, min_samples_leaf=2, min_samples_split=4, n_estimators=1000, total=   2.5s\n",
      "[CV] bootstrap=True, max_depth=2, max_features=4, min_samples_leaf=2, min_samples_split=4, n_estimators=1000 \n",
      "[CV]  bootstrap=True, max_depth=2, max_features=4, min_samples_leaf=2, min_samples_split=4, n_estimators=1000, total=   2.6s\n",
      "[CV] bootstrap=True, max_depth=2, max_features=4, min_samples_leaf=4, min_samples_split=2, n_estimators=100 \n",
      "[CV]  bootstrap=True, max_depth=2, max_features=4, min_samples_leaf=4, min_samples_split=2, n_estimators=100, total=   0.2s\n",
      "[CV] bootstrap=True, max_depth=2, max_features=4, min_samples_leaf=4, min_samples_split=2, n_estimators=100 \n"
     ]
    },
    {
     "name": "stdout",
     "output_type": "stream",
     "text": [
      "[CV]  bootstrap=True, max_depth=2, max_features=4, min_samples_leaf=4, min_samples_split=2, n_estimators=100, total=   0.2s\n",
      "[CV] bootstrap=True, max_depth=2, max_features=4, min_samples_leaf=4, min_samples_split=2, n_estimators=100 \n",
      "[CV]  bootstrap=True, max_depth=2, max_features=4, min_samples_leaf=4, min_samples_split=2, n_estimators=100, total=   0.3s\n",
      "[CV] bootstrap=True, max_depth=2, max_features=4, min_samples_leaf=4, min_samples_split=2, n_estimators=200 \n",
      "[CV]  bootstrap=True, max_depth=2, max_features=4, min_samples_leaf=4, min_samples_split=2, n_estimators=200, total=   0.5s\n",
      "[CV] bootstrap=True, max_depth=2, max_features=4, min_samples_leaf=4, min_samples_split=2, n_estimators=200 \n",
      "[CV]  bootstrap=True, max_depth=2, max_features=4, min_samples_leaf=4, min_samples_split=2, n_estimators=200, total=   0.5s\n",
      "[CV] bootstrap=True, max_depth=2, max_features=4, min_samples_leaf=4, min_samples_split=2, n_estimators=200 \n",
      "[CV]  bootstrap=True, max_depth=2, max_features=4, min_samples_leaf=4, min_samples_split=2, n_estimators=200, total=   0.5s\n",
      "[CV] bootstrap=True, max_depth=2, max_features=4, min_samples_leaf=4, min_samples_split=2, n_estimators=300 \n",
      "[CV]  bootstrap=True, max_depth=2, max_features=4, min_samples_leaf=4, min_samples_split=2, n_estimators=300, total=   0.7s\n",
      "[CV] bootstrap=True, max_depth=2, max_features=4, min_samples_leaf=4, min_samples_split=2, n_estimators=300 \n",
      "[CV]  bootstrap=True, max_depth=2, max_features=4, min_samples_leaf=4, min_samples_split=2, n_estimators=300, total=   0.7s\n",
      "[CV] bootstrap=True, max_depth=2, max_features=4, min_samples_leaf=4, min_samples_split=2, n_estimators=300 \n",
      "[CV]  bootstrap=True, max_depth=2, max_features=4, min_samples_leaf=4, min_samples_split=2, n_estimators=300, total=   0.8s\n",
      "[CV] bootstrap=True, max_depth=2, max_features=4, min_samples_leaf=4, min_samples_split=2, n_estimators=1000 \n",
      "[CV]  bootstrap=True, max_depth=2, max_features=4, min_samples_leaf=4, min_samples_split=2, n_estimators=1000, total=   2.4s\n",
      "[CV] bootstrap=True, max_depth=2, max_features=4, min_samples_leaf=4, min_samples_split=2, n_estimators=1000 \n",
      "[CV]  bootstrap=True, max_depth=2, max_features=4, min_samples_leaf=4, min_samples_split=2, n_estimators=1000, total=   2.4s\n",
      "[CV] bootstrap=True, max_depth=2, max_features=4, min_samples_leaf=4, min_samples_split=2, n_estimators=1000 \n",
      "[CV]  bootstrap=True, max_depth=2, max_features=4, min_samples_leaf=4, min_samples_split=2, n_estimators=1000, total=   2.4s\n",
      "[CV] bootstrap=True, max_depth=2, max_features=4, min_samples_leaf=4, min_samples_split=4, n_estimators=100 \n",
      "[CV]  bootstrap=True, max_depth=2, max_features=4, min_samples_leaf=4, min_samples_split=4, n_estimators=100, total=   0.3s\n",
      "[CV] bootstrap=True, max_depth=2, max_features=4, min_samples_leaf=4, min_samples_split=4, n_estimators=100 \n",
      "[CV]  bootstrap=True, max_depth=2, max_features=4, min_samples_leaf=4, min_samples_split=4, n_estimators=100, total=   0.2s\n",
      "[CV] bootstrap=True, max_depth=2, max_features=4, min_samples_leaf=4, min_samples_split=4, n_estimators=100 \n",
      "[CV]  bootstrap=True, max_depth=2, max_features=4, min_samples_leaf=4, min_samples_split=4, n_estimators=100, total=   0.2s\n",
      "[CV] bootstrap=True, max_depth=2, max_features=4, min_samples_leaf=4, min_samples_split=4, n_estimators=200 \n",
      "[CV]  bootstrap=True, max_depth=2, max_features=4, min_samples_leaf=4, min_samples_split=4, n_estimators=200, total=   0.5s\n",
      "[CV] bootstrap=True, max_depth=2, max_features=4, min_samples_leaf=4, min_samples_split=4, n_estimators=200 \n",
      "[CV]  bootstrap=True, max_depth=2, max_features=4, min_samples_leaf=4, min_samples_split=4, n_estimators=200, total=   0.5s\n",
      "[CV] bootstrap=True, max_depth=2, max_features=4, min_samples_leaf=4, min_samples_split=4, n_estimators=200 \n",
      "[CV]  bootstrap=True, max_depth=2, max_features=4, min_samples_leaf=4, min_samples_split=4, n_estimators=200, total=   0.6s\n",
      "[CV] bootstrap=True, max_depth=2, max_features=4, min_samples_leaf=4, min_samples_split=4, n_estimators=300 \n",
      "[CV]  bootstrap=True, max_depth=2, max_features=4, min_samples_leaf=4, min_samples_split=4, n_estimators=300, total=   0.7s\n",
      "[CV] bootstrap=True, max_depth=2, max_features=4, min_samples_leaf=4, min_samples_split=4, n_estimators=300 \n",
      "[CV]  bootstrap=True, max_depth=2, max_features=4, min_samples_leaf=4, min_samples_split=4, n_estimators=300, total=   0.7s\n",
      "[CV] bootstrap=True, max_depth=2, max_features=4, min_samples_leaf=4, min_samples_split=4, n_estimators=300 \n",
      "[CV]  bootstrap=True, max_depth=2, max_features=4, min_samples_leaf=4, min_samples_split=4, n_estimators=300, total=   0.7s\n",
      "[CV] bootstrap=True, max_depth=2, max_features=4, min_samples_leaf=4, min_samples_split=4, n_estimators=1000 \n",
      "[CV]  bootstrap=True, max_depth=2, max_features=4, min_samples_leaf=4, min_samples_split=4, n_estimators=1000, total=   2.4s\n",
      "[CV] bootstrap=True, max_depth=2, max_features=4, min_samples_leaf=4, min_samples_split=4, n_estimators=1000 \n",
      "[CV]  bootstrap=True, max_depth=2, max_features=4, min_samples_leaf=4, min_samples_split=4, n_estimators=1000, total=   2.4s\n",
      "[CV] bootstrap=True, max_depth=2, max_features=4, min_samples_leaf=4, min_samples_split=4, n_estimators=1000 \n",
      "[CV]  bootstrap=True, max_depth=2, max_features=4, min_samples_leaf=4, min_samples_split=4, n_estimators=1000, total=   2.4s\n",
      "[CV] bootstrap=True, max_depth=2, max_features=6, min_samples_leaf=2, min_samples_split=2, n_estimators=100 \n",
      "[CV]  bootstrap=True, max_depth=2, max_features=6, min_samples_leaf=2, min_samples_split=2, n_estimators=100, total=   0.3s\n",
      "[CV] bootstrap=True, max_depth=2, max_features=6, min_samples_leaf=2, min_samples_split=2, n_estimators=100 \n",
      "[CV]  bootstrap=True, max_depth=2, max_features=6, min_samples_leaf=2, min_samples_split=2, n_estimators=100, total=   0.3s\n",
      "[CV] bootstrap=True, max_depth=2, max_features=6, min_samples_leaf=2, min_samples_split=2, n_estimators=100 \n",
      "[CV]  bootstrap=True, max_depth=2, max_features=6, min_samples_leaf=2, min_samples_split=2, n_estimators=100, total=   0.3s\n",
      "[CV] bootstrap=True, max_depth=2, max_features=6, min_samples_leaf=2, min_samples_split=2, n_estimators=200 \n",
      "[CV]  bootstrap=True, max_depth=2, max_features=6, min_samples_leaf=2, min_samples_split=2, n_estimators=200, total=   0.7s\n",
      "[CV] bootstrap=True, max_depth=2, max_features=6, min_samples_leaf=2, min_samples_split=2, n_estimators=200 \n",
      "[CV]  bootstrap=True, max_depth=2, max_features=6, min_samples_leaf=2, min_samples_split=2, n_estimators=200, total=   0.6s\n",
      "[CV] bootstrap=True, max_depth=2, max_features=6, min_samples_leaf=2, min_samples_split=2, n_estimators=200 \n",
      "[CV]  bootstrap=True, max_depth=2, max_features=6, min_samples_leaf=2, min_samples_split=2, n_estimators=200, total=   0.5s\n",
      "[CV] bootstrap=True, max_depth=2, max_features=6, min_samples_leaf=2, min_samples_split=2, n_estimators=300 \n",
      "[CV]  bootstrap=True, max_depth=2, max_features=6, min_samples_leaf=2, min_samples_split=2, n_estimators=300, total=   0.8s\n",
      "[CV] bootstrap=True, max_depth=2, max_features=6, min_samples_leaf=2, min_samples_split=2, n_estimators=300 \n",
      "[CV]  bootstrap=True, max_depth=2, max_features=6, min_samples_leaf=2, min_samples_split=2, n_estimators=300, total=   0.9s\n",
      "[CV] bootstrap=True, max_depth=2, max_features=6, min_samples_leaf=2, min_samples_split=2, n_estimators=300 \n",
      "[CV]  bootstrap=True, max_depth=2, max_features=6, min_samples_leaf=2, min_samples_split=2, n_estimators=300, total=   0.8s\n",
      "[CV] bootstrap=True, max_depth=2, max_features=6, min_samples_leaf=2, min_samples_split=2, n_estimators=1000 \n",
      "[CV]  bootstrap=True, max_depth=2, max_features=6, min_samples_leaf=2, min_samples_split=2, n_estimators=1000, total=   2.8s\n",
      "[CV] bootstrap=True, max_depth=2, max_features=6, min_samples_leaf=2, min_samples_split=2, n_estimators=1000 \n",
      "[CV]  bootstrap=True, max_depth=2, max_features=6, min_samples_leaf=2, min_samples_split=2, n_estimators=1000, total=   2.8s\n",
      "[CV] bootstrap=True, max_depth=2, max_features=6, min_samples_leaf=2, min_samples_split=2, n_estimators=1000 \n",
      "[CV]  bootstrap=True, max_depth=2, max_features=6, min_samples_leaf=2, min_samples_split=2, n_estimators=1000, total=   2.9s\n",
      "[CV] bootstrap=True, max_depth=2, max_features=6, min_samples_leaf=2, min_samples_split=4, n_estimators=100 \n",
      "[CV]  bootstrap=True, max_depth=2, max_features=6, min_samples_leaf=2, min_samples_split=4, n_estimators=100, total=   0.3s\n",
      "[CV] bootstrap=True, max_depth=2, max_features=6, min_samples_leaf=2, min_samples_split=4, n_estimators=100 \n"
     ]
    },
    {
     "name": "stdout",
     "output_type": "stream",
     "text": [
      "[CV]  bootstrap=True, max_depth=2, max_features=6, min_samples_leaf=2, min_samples_split=4, n_estimators=100, total=   0.3s\n",
      "[CV] bootstrap=True, max_depth=2, max_features=6, min_samples_leaf=2, min_samples_split=4, n_estimators=100 \n",
      "[CV]  bootstrap=True, max_depth=2, max_features=6, min_samples_leaf=2, min_samples_split=4, n_estimators=100, total=   0.3s\n",
      "[CV] bootstrap=True, max_depth=2, max_features=6, min_samples_leaf=2, min_samples_split=4, n_estimators=200 \n",
      "[CV]  bootstrap=True, max_depth=2, max_features=6, min_samples_leaf=2, min_samples_split=4, n_estimators=200, total=   0.6s\n",
      "[CV] bootstrap=True, max_depth=2, max_features=6, min_samples_leaf=2, min_samples_split=4, n_estimators=200 \n",
      "[CV]  bootstrap=True, max_depth=2, max_features=6, min_samples_leaf=2, min_samples_split=4, n_estimators=200, total=   0.5s\n",
      "[CV] bootstrap=True, max_depth=2, max_features=6, min_samples_leaf=2, min_samples_split=4, n_estimators=200 \n",
      "[CV]  bootstrap=True, max_depth=2, max_features=6, min_samples_leaf=2, min_samples_split=4, n_estimators=200, total=   0.6s\n",
      "[CV] bootstrap=True, max_depth=2, max_features=6, min_samples_leaf=2, min_samples_split=4, n_estimators=300 \n",
      "[CV]  bootstrap=True, max_depth=2, max_features=6, min_samples_leaf=2, min_samples_split=4, n_estimators=300, total=   0.9s\n",
      "[CV] bootstrap=True, max_depth=2, max_features=6, min_samples_leaf=2, min_samples_split=4, n_estimators=300 \n",
      "[CV]  bootstrap=True, max_depth=2, max_features=6, min_samples_leaf=2, min_samples_split=4, n_estimators=300, total=   0.8s\n",
      "[CV] bootstrap=True, max_depth=2, max_features=6, min_samples_leaf=2, min_samples_split=4, n_estimators=300 \n",
      "[CV]  bootstrap=True, max_depth=2, max_features=6, min_samples_leaf=2, min_samples_split=4, n_estimators=300, total=   0.9s\n",
      "[CV] bootstrap=True, max_depth=2, max_features=6, min_samples_leaf=2, min_samples_split=4, n_estimators=1000 \n",
      "[CV]  bootstrap=True, max_depth=2, max_features=6, min_samples_leaf=2, min_samples_split=4, n_estimators=1000, total=   3.0s\n",
      "[CV] bootstrap=True, max_depth=2, max_features=6, min_samples_leaf=2, min_samples_split=4, n_estimators=1000 \n",
      "[CV]  bootstrap=True, max_depth=2, max_features=6, min_samples_leaf=2, min_samples_split=4, n_estimators=1000, total=   2.8s\n",
      "[CV] bootstrap=True, max_depth=2, max_features=6, min_samples_leaf=2, min_samples_split=4, n_estimators=1000 \n",
      "[CV]  bootstrap=True, max_depth=2, max_features=6, min_samples_leaf=2, min_samples_split=4, n_estimators=1000, total=   2.8s\n",
      "[CV] bootstrap=True, max_depth=2, max_features=6, min_samples_leaf=4, min_samples_split=2, n_estimators=100 \n",
      "[CV]  bootstrap=True, max_depth=2, max_features=6, min_samples_leaf=4, min_samples_split=2, n_estimators=100, total=   0.3s\n",
      "[CV] bootstrap=True, max_depth=2, max_features=6, min_samples_leaf=4, min_samples_split=2, n_estimators=100 \n",
      "[CV]  bootstrap=True, max_depth=2, max_features=6, min_samples_leaf=4, min_samples_split=2, n_estimators=100, total=   0.3s\n",
      "[CV] bootstrap=True, max_depth=2, max_features=6, min_samples_leaf=4, min_samples_split=2, n_estimators=100 \n",
      "[CV]  bootstrap=True, max_depth=2, max_features=6, min_samples_leaf=4, min_samples_split=2, n_estimators=100, total=   0.4s\n",
      "[CV] bootstrap=True, max_depth=2, max_features=6, min_samples_leaf=4, min_samples_split=2, n_estimators=200 \n",
      "[CV]  bootstrap=True, max_depth=2, max_features=6, min_samples_leaf=4, min_samples_split=2, n_estimators=200, total=   0.5s\n",
      "[CV] bootstrap=True, max_depth=2, max_features=6, min_samples_leaf=4, min_samples_split=2, n_estimators=200 \n",
      "[CV]  bootstrap=True, max_depth=2, max_features=6, min_samples_leaf=4, min_samples_split=2, n_estimators=200, total=   0.5s\n",
      "[CV] bootstrap=True, max_depth=2, max_features=6, min_samples_leaf=4, min_samples_split=2, n_estimators=200 \n",
      "[CV]  bootstrap=True, max_depth=2, max_features=6, min_samples_leaf=4, min_samples_split=2, n_estimators=200, total=   0.6s\n",
      "[CV] bootstrap=True, max_depth=2, max_features=6, min_samples_leaf=4, min_samples_split=2, n_estimators=300 \n",
      "[CV]  bootstrap=True, max_depth=2, max_features=6, min_samples_leaf=4, min_samples_split=2, n_estimators=300, total=   1.0s\n",
      "[CV] bootstrap=True, max_depth=2, max_features=6, min_samples_leaf=4, min_samples_split=2, n_estimators=300 \n",
      "[CV]  bootstrap=True, max_depth=2, max_features=6, min_samples_leaf=4, min_samples_split=2, n_estimators=300, total=   0.9s\n",
      "[CV] bootstrap=True, max_depth=2, max_features=6, min_samples_leaf=4, min_samples_split=2, n_estimators=300 \n",
      "[CV]  bootstrap=True, max_depth=2, max_features=6, min_samples_leaf=4, min_samples_split=2, n_estimators=300, total=   1.0s\n",
      "[CV] bootstrap=True, max_depth=2, max_features=6, min_samples_leaf=4, min_samples_split=2, n_estimators=1000 \n",
      "[CV]  bootstrap=True, max_depth=2, max_features=6, min_samples_leaf=4, min_samples_split=2, n_estimators=1000, total=   2.9s\n",
      "[CV] bootstrap=True, max_depth=2, max_features=6, min_samples_leaf=4, min_samples_split=2, n_estimators=1000 \n",
      "[CV]  bootstrap=True, max_depth=2, max_features=6, min_samples_leaf=4, min_samples_split=2, n_estimators=1000, total=   2.8s\n",
      "[CV] bootstrap=True, max_depth=2, max_features=6, min_samples_leaf=4, min_samples_split=2, n_estimators=1000 \n",
      "[CV]  bootstrap=True, max_depth=2, max_features=6, min_samples_leaf=4, min_samples_split=2, n_estimators=1000, total=   3.0s\n",
      "[CV] bootstrap=True, max_depth=2, max_features=6, min_samples_leaf=4, min_samples_split=4, n_estimators=100 \n",
      "[CV]  bootstrap=True, max_depth=2, max_features=6, min_samples_leaf=4, min_samples_split=4, n_estimators=100, total=   0.3s\n",
      "[CV] bootstrap=True, max_depth=2, max_features=6, min_samples_leaf=4, min_samples_split=4, n_estimators=100 \n",
      "[CV]  bootstrap=True, max_depth=2, max_features=6, min_samples_leaf=4, min_samples_split=4, n_estimators=100, total=   0.3s\n",
      "[CV] bootstrap=True, max_depth=2, max_features=6, min_samples_leaf=4, min_samples_split=4, n_estimators=100 \n",
      "[CV]  bootstrap=True, max_depth=2, max_features=6, min_samples_leaf=4, min_samples_split=4, n_estimators=100, total=   0.3s\n",
      "[CV] bootstrap=True, max_depth=2, max_features=6, min_samples_leaf=4, min_samples_split=4, n_estimators=200 \n",
      "[CV]  bootstrap=True, max_depth=2, max_features=6, min_samples_leaf=4, min_samples_split=4, n_estimators=200, total=   0.6s\n",
      "[CV] bootstrap=True, max_depth=2, max_features=6, min_samples_leaf=4, min_samples_split=4, n_estimators=200 \n",
      "[CV]  bootstrap=True, max_depth=2, max_features=6, min_samples_leaf=4, min_samples_split=4, n_estimators=200, total=   0.6s\n",
      "[CV] bootstrap=True, max_depth=2, max_features=6, min_samples_leaf=4, min_samples_split=4, n_estimators=200 \n",
      "[CV]  bootstrap=True, max_depth=2, max_features=6, min_samples_leaf=4, min_samples_split=4, n_estimators=200, total=   0.6s\n",
      "[CV] bootstrap=True, max_depth=2, max_features=6, min_samples_leaf=4, min_samples_split=4, n_estimators=300 \n",
      "[CV]  bootstrap=True, max_depth=2, max_features=6, min_samples_leaf=4, min_samples_split=4, n_estimators=300, total=   0.9s\n",
      "[CV] bootstrap=True, max_depth=2, max_features=6, min_samples_leaf=4, min_samples_split=4, n_estimators=300 \n",
      "[CV]  bootstrap=True, max_depth=2, max_features=6, min_samples_leaf=4, min_samples_split=4, n_estimators=300, total=   0.8s\n",
      "[CV] bootstrap=True, max_depth=2, max_features=6, min_samples_leaf=4, min_samples_split=4, n_estimators=300 \n",
      "[CV]  bootstrap=True, max_depth=2, max_features=6, min_samples_leaf=4, min_samples_split=4, n_estimators=300, total=   0.8s\n",
      "[CV] bootstrap=True, max_depth=2, max_features=6, min_samples_leaf=4, min_samples_split=4, n_estimators=1000 \n",
      "[CV]  bootstrap=True, max_depth=2, max_features=6, min_samples_leaf=4, min_samples_split=4, n_estimators=1000, total=   2.9s\n",
      "[CV] bootstrap=True, max_depth=2, max_features=6, min_samples_leaf=4, min_samples_split=4, n_estimators=1000 \n",
      "[CV]  bootstrap=True, max_depth=2, max_features=6, min_samples_leaf=4, min_samples_split=4, n_estimators=1000, total=   2.9s\n",
      "[CV] bootstrap=True, max_depth=2, max_features=6, min_samples_leaf=4, min_samples_split=4, n_estimators=1000 \n",
      "[CV]  bootstrap=True, max_depth=2, max_features=6, min_samples_leaf=4, min_samples_split=4, n_estimators=1000, total=   2.8s\n",
      "[CV] bootstrap=True, max_depth=4, max_features=2, min_samples_leaf=2, min_samples_split=2, n_estimators=100 \n",
      "[CV]  bootstrap=True, max_depth=4, max_features=2, min_samples_leaf=2, min_samples_split=2, n_estimators=100, total=   0.3s\n",
      "[CV] bootstrap=True, max_depth=4, max_features=2, min_samples_leaf=2, min_samples_split=2, n_estimators=100 \n"
     ]
    },
    {
     "name": "stdout",
     "output_type": "stream",
     "text": [
      "[CV]  bootstrap=True, max_depth=4, max_features=2, min_samples_leaf=2, min_samples_split=2, n_estimators=100, total=   0.3s\n",
      "[CV] bootstrap=True, max_depth=4, max_features=2, min_samples_leaf=2, min_samples_split=2, n_estimators=100 \n",
      "[CV]  bootstrap=True, max_depth=4, max_features=2, min_samples_leaf=2, min_samples_split=2, n_estimators=100, total=   0.3s\n",
      "[CV] bootstrap=True, max_depth=4, max_features=2, min_samples_leaf=2, min_samples_split=2, n_estimators=200 \n",
      "[CV]  bootstrap=True, max_depth=4, max_features=2, min_samples_leaf=2, min_samples_split=2, n_estimators=200, total=   0.5s\n",
      "[CV] bootstrap=True, max_depth=4, max_features=2, min_samples_leaf=2, min_samples_split=2, n_estimators=200 \n",
      "[CV]  bootstrap=True, max_depth=4, max_features=2, min_samples_leaf=2, min_samples_split=2, n_estimators=200, total=   0.6s\n",
      "[CV] bootstrap=True, max_depth=4, max_features=2, min_samples_leaf=2, min_samples_split=2, n_estimators=200 \n",
      "[CV]  bootstrap=True, max_depth=4, max_features=2, min_samples_leaf=2, min_samples_split=2, n_estimators=200, total=   0.5s\n",
      "[CV] bootstrap=True, max_depth=4, max_features=2, min_samples_leaf=2, min_samples_split=2, n_estimators=300 \n",
      "[CV]  bootstrap=True, max_depth=4, max_features=2, min_samples_leaf=2, min_samples_split=2, n_estimators=300, total=   0.8s\n",
      "[CV] bootstrap=True, max_depth=4, max_features=2, min_samples_leaf=2, min_samples_split=2, n_estimators=300 \n",
      "[CV]  bootstrap=True, max_depth=4, max_features=2, min_samples_leaf=2, min_samples_split=2, n_estimators=300, total=   0.8s\n",
      "[CV] bootstrap=True, max_depth=4, max_features=2, min_samples_leaf=2, min_samples_split=2, n_estimators=300 \n",
      "[CV]  bootstrap=True, max_depth=4, max_features=2, min_samples_leaf=2, min_samples_split=2, n_estimators=300, total=   0.7s\n",
      "[CV] bootstrap=True, max_depth=4, max_features=2, min_samples_leaf=2, min_samples_split=2, n_estimators=1000 \n",
      "[CV]  bootstrap=True, max_depth=4, max_features=2, min_samples_leaf=2, min_samples_split=2, n_estimators=1000, total=   2.5s\n",
      "[CV] bootstrap=True, max_depth=4, max_features=2, min_samples_leaf=2, min_samples_split=2, n_estimators=1000 \n",
      "[CV]  bootstrap=True, max_depth=4, max_features=2, min_samples_leaf=2, min_samples_split=2, n_estimators=1000, total=   2.5s\n",
      "[CV] bootstrap=True, max_depth=4, max_features=2, min_samples_leaf=2, min_samples_split=2, n_estimators=1000 \n",
      "[CV]  bootstrap=True, max_depth=4, max_features=2, min_samples_leaf=2, min_samples_split=2, n_estimators=1000, total=   2.4s\n",
      "[CV] bootstrap=True, max_depth=4, max_features=2, min_samples_leaf=2, min_samples_split=4, n_estimators=100 \n",
      "[CV]  bootstrap=True, max_depth=4, max_features=2, min_samples_leaf=2, min_samples_split=4, n_estimators=100, total=   0.2s\n",
      "[CV] bootstrap=True, max_depth=4, max_features=2, min_samples_leaf=2, min_samples_split=4, n_estimators=100 \n",
      "[CV]  bootstrap=True, max_depth=4, max_features=2, min_samples_leaf=2, min_samples_split=4, n_estimators=100, total=   0.3s\n",
      "[CV] bootstrap=True, max_depth=4, max_features=2, min_samples_leaf=2, min_samples_split=4, n_estimators=100 \n",
      "[CV]  bootstrap=True, max_depth=4, max_features=2, min_samples_leaf=2, min_samples_split=4, n_estimators=100, total=   0.3s\n",
      "[CV] bootstrap=True, max_depth=4, max_features=2, min_samples_leaf=2, min_samples_split=4, n_estimators=200 \n",
      "[CV]  bootstrap=True, max_depth=4, max_features=2, min_samples_leaf=2, min_samples_split=4, n_estimators=200, total=   0.5s\n",
      "[CV] bootstrap=True, max_depth=4, max_features=2, min_samples_leaf=2, min_samples_split=4, n_estimators=200 \n",
      "[CV]  bootstrap=True, max_depth=4, max_features=2, min_samples_leaf=2, min_samples_split=4, n_estimators=200, total=   0.6s\n",
      "[CV] bootstrap=True, max_depth=4, max_features=2, min_samples_leaf=2, min_samples_split=4, n_estimators=200 \n",
      "[CV]  bootstrap=True, max_depth=4, max_features=2, min_samples_leaf=2, min_samples_split=4, n_estimators=200, total=   0.5s\n",
      "[CV] bootstrap=True, max_depth=4, max_features=2, min_samples_leaf=2, min_samples_split=4, n_estimators=300 \n",
      "[CV]  bootstrap=True, max_depth=4, max_features=2, min_samples_leaf=2, min_samples_split=4, n_estimators=300, total=   0.7s\n",
      "[CV] bootstrap=True, max_depth=4, max_features=2, min_samples_leaf=2, min_samples_split=4, n_estimators=300 \n",
      "[CV]  bootstrap=True, max_depth=4, max_features=2, min_samples_leaf=2, min_samples_split=4, n_estimators=300, total=   0.8s\n",
      "[CV] bootstrap=True, max_depth=4, max_features=2, min_samples_leaf=2, min_samples_split=4, n_estimators=300 \n",
      "[CV]  bootstrap=True, max_depth=4, max_features=2, min_samples_leaf=2, min_samples_split=4, n_estimators=300, total=   0.7s\n",
      "[CV] bootstrap=True, max_depth=4, max_features=2, min_samples_leaf=2, min_samples_split=4, n_estimators=1000 \n",
      "[CV]  bootstrap=True, max_depth=4, max_features=2, min_samples_leaf=2, min_samples_split=4, n_estimators=1000, total=   2.4s\n",
      "[CV] bootstrap=True, max_depth=4, max_features=2, min_samples_leaf=2, min_samples_split=4, n_estimators=1000 \n",
      "[CV]  bootstrap=True, max_depth=4, max_features=2, min_samples_leaf=2, min_samples_split=4, n_estimators=1000, total=   2.5s\n",
      "[CV] bootstrap=True, max_depth=4, max_features=2, min_samples_leaf=2, min_samples_split=4, n_estimators=1000 \n",
      "[CV]  bootstrap=True, max_depth=4, max_features=2, min_samples_leaf=2, min_samples_split=4, n_estimators=1000, total=   2.4s\n",
      "[CV] bootstrap=True, max_depth=4, max_features=2, min_samples_leaf=4, min_samples_split=2, n_estimators=100 \n",
      "[CV]  bootstrap=True, max_depth=4, max_features=2, min_samples_leaf=4, min_samples_split=2, n_estimators=100, total=   0.3s\n",
      "[CV] bootstrap=True, max_depth=4, max_features=2, min_samples_leaf=4, min_samples_split=2, n_estimators=100 \n",
      "[CV]  bootstrap=True, max_depth=4, max_features=2, min_samples_leaf=4, min_samples_split=2, n_estimators=100, total=   0.3s\n",
      "[CV] bootstrap=True, max_depth=4, max_features=2, min_samples_leaf=4, min_samples_split=2, n_estimators=100 \n",
      "[CV]  bootstrap=True, max_depth=4, max_features=2, min_samples_leaf=4, min_samples_split=2, n_estimators=100, total=   0.3s\n",
      "[CV] bootstrap=True, max_depth=4, max_features=2, min_samples_leaf=4, min_samples_split=2, n_estimators=200 \n",
      "[CV]  bootstrap=True, max_depth=4, max_features=2, min_samples_leaf=4, min_samples_split=2, n_estimators=200, total=   0.7s\n",
      "[CV] bootstrap=True, max_depth=4, max_features=2, min_samples_leaf=4, min_samples_split=2, n_estimators=200 \n",
      "[CV]  bootstrap=True, max_depth=4, max_features=2, min_samples_leaf=4, min_samples_split=2, n_estimators=200, total=   0.5s\n",
      "[CV] bootstrap=True, max_depth=4, max_features=2, min_samples_leaf=4, min_samples_split=2, n_estimators=200 \n",
      "[CV]  bootstrap=True, max_depth=4, max_features=2, min_samples_leaf=4, min_samples_split=2, n_estimators=200, total=   0.5s\n",
      "[CV] bootstrap=True, max_depth=4, max_features=2, min_samples_leaf=4, min_samples_split=2, n_estimators=300 \n",
      "[CV]  bootstrap=True, max_depth=4, max_features=2, min_samples_leaf=4, min_samples_split=2, n_estimators=300, total=   0.8s\n",
      "[CV] bootstrap=True, max_depth=4, max_features=2, min_samples_leaf=4, min_samples_split=2, n_estimators=300 \n",
      "[CV]  bootstrap=True, max_depth=4, max_features=2, min_samples_leaf=4, min_samples_split=2, n_estimators=300, total=   0.7s\n",
      "[CV] bootstrap=True, max_depth=4, max_features=2, min_samples_leaf=4, min_samples_split=2, n_estimators=300 \n",
      "[CV]  bootstrap=True, max_depth=4, max_features=2, min_samples_leaf=4, min_samples_split=2, n_estimators=300, total=   0.8s\n",
      "[CV] bootstrap=True, max_depth=4, max_features=2, min_samples_leaf=4, min_samples_split=2, n_estimators=1000 \n",
      "[CV]  bootstrap=True, max_depth=4, max_features=2, min_samples_leaf=4, min_samples_split=2, n_estimators=1000, total=   2.4s\n",
      "[CV] bootstrap=True, max_depth=4, max_features=2, min_samples_leaf=4, min_samples_split=2, n_estimators=1000 \n",
      "[CV]  bootstrap=True, max_depth=4, max_features=2, min_samples_leaf=4, min_samples_split=2, n_estimators=1000, total=   2.5s\n",
      "[CV] bootstrap=True, max_depth=4, max_features=2, min_samples_leaf=4, min_samples_split=2, n_estimators=1000 \n",
      "[CV]  bootstrap=True, max_depth=4, max_features=2, min_samples_leaf=4, min_samples_split=2, n_estimators=1000, total=   2.6s\n",
      "[CV] bootstrap=True, max_depth=4, max_features=2, min_samples_leaf=4, min_samples_split=4, n_estimators=100 \n",
      "[CV]  bootstrap=True, max_depth=4, max_features=2, min_samples_leaf=4, min_samples_split=4, n_estimators=100, total=   0.3s\n",
      "[CV] bootstrap=True, max_depth=4, max_features=2, min_samples_leaf=4, min_samples_split=4, n_estimators=100 \n"
     ]
    },
    {
     "name": "stdout",
     "output_type": "stream",
     "text": [
      "[CV]  bootstrap=True, max_depth=4, max_features=2, min_samples_leaf=4, min_samples_split=4, n_estimators=100, total=   0.3s\n",
      "[CV] bootstrap=True, max_depth=4, max_features=2, min_samples_leaf=4, min_samples_split=4, n_estimators=100 \n",
      "[CV]  bootstrap=True, max_depth=4, max_features=2, min_samples_leaf=4, min_samples_split=4, n_estimators=100, total=   0.3s\n",
      "[CV] bootstrap=True, max_depth=4, max_features=2, min_samples_leaf=4, min_samples_split=4, n_estimators=200 \n",
      "[CV]  bootstrap=True, max_depth=4, max_features=2, min_samples_leaf=4, min_samples_split=4, n_estimators=200, total=   0.5s\n",
      "[CV] bootstrap=True, max_depth=4, max_features=2, min_samples_leaf=4, min_samples_split=4, n_estimators=200 \n",
      "[CV]  bootstrap=True, max_depth=4, max_features=2, min_samples_leaf=4, min_samples_split=4, n_estimators=200, total=   0.5s\n",
      "[CV] bootstrap=True, max_depth=4, max_features=2, min_samples_leaf=4, min_samples_split=4, n_estimators=200 \n",
      "[CV]  bootstrap=True, max_depth=4, max_features=2, min_samples_leaf=4, min_samples_split=4, n_estimators=200, total=   0.5s\n",
      "[CV] bootstrap=True, max_depth=4, max_features=2, min_samples_leaf=4, min_samples_split=4, n_estimators=300 \n",
      "[CV]  bootstrap=True, max_depth=4, max_features=2, min_samples_leaf=4, min_samples_split=4, n_estimators=300, total=   0.7s\n",
      "[CV] bootstrap=True, max_depth=4, max_features=2, min_samples_leaf=4, min_samples_split=4, n_estimators=300 \n",
      "[CV]  bootstrap=True, max_depth=4, max_features=2, min_samples_leaf=4, min_samples_split=4, n_estimators=300, total=   1.0s\n",
      "[CV] bootstrap=True, max_depth=4, max_features=2, min_samples_leaf=4, min_samples_split=4, n_estimators=300 \n",
      "[CV]  bootstrap=True, max_depth=4, max_features=2, min_samples_leaf=4, min_samples_split=4, n_estimators=300, total=   0.7s\n",
      "[CV] bootstrap=True, max_depth=4, max_features=2, min_samples_leaf=4, min_samples_split=4, n_estimators=1000 \n",
      "[CV]  bootstrap=True, max_depth=4, max_features=2, min_samples_leaf=4, min_samples_split=4, n_estimators=1000, total=   2.4s\n",
      "[CV] bootstrap=True, max_depth=4, max_features=2, min_samples_leaf=4, min_samples_split=4, n_estimators=1000 \n",
      "[CV]  bootstrap=True, max_depth=4, max_features=2, min_samples_leaf=4, min_samples_split=4, n_estimators=1000, total=   2.6s\n",
      "[CV] bootstrap=True, max_depth=4, max_features=2, min_samples_leaf=4, min_samples_split=4, n_estimators=1000 \n",
      "[CV]  bootstrap=True, max_depth=4, max_features=2, min_samples_leaf=4, min_samples_split=4, n_estimators=1000, total=   2.4s\n",
      "[CV] bootstrap=True, max_depth=4, max_features=4, min_samples_leaf=2, min_samples_split=2, n_estimators=100 \n",
      "[CV]  bootstrap=True, max_depth=4, max_features=4, min_samples_leaf=2, min_samples_split=2, n_estimators=100, total=   0.4s\n",
      "[CV] bootstrap=True, max_depth=4, max_features=4, min_samples_leaf=2, min_samples_split=2, n_estimators=100 \n",
      "[CV]  bootstrap=True, max_depth=4, max_features=4, min_samples_leaf=2, min_samples_split=2, n_estimators=100, total=   0.3s\n",
      "[CV] bootstrap=True, max_depth=4, max_features=4, min_samples_leaf=2, min_samples_split=2, n_estimators=100 \n",
      "[CV]  bootstrap=True, max_depth=4, max_features=4, min_samples_leaf=2, min_samples_split=2, n_estimators=100, total=   0.4s\n",
      "[CV] bootstrap=True, max_depth=4, max_features=4, min_samples_leaf=2, min_samples_split=2, n_estimators=200 \n",
      "[CV]  bootstrap=True, max_depth=4, max_features=4, min_samples_leaf=2, min_samples_split=2, n_estimators=200, total=   0.6s\n",
      "[CV] bootstrap=True, max_depth=4, max_features=4, min_samples_leaf=2, min_samples_split=2, n_estimators=200 \n",
      "[CV]  bootstrap=True, max_depth=4, max_features=4, min_samples_leaf=2, min_samples_split=2, n_estimators=200, total=   0.6s\n",
      "[CV] bootstrap=True, max_depth=4, max_features=4, min_samples_leaf=2, min_samples_split=2, n_estimators=200 \n",
      "[CV]  bootstrap=True, max_depth=4, max_features=4, min_samples_leaf=2, min_samples_split=2, n_estimators=200, total=   0.7s\n",
      "[CV] bootstrap=True, max_depth=4, max_features=4, min_samples_leaf=2, min_samples_split=2, n_estimators=300 \n",
      "[CV]  bootstrap=True, max_depth=4, max_features=4, min_samples_leaf=2, min_samples_split=2, n_estimators=300, total=   1.0s\n",
      "[CV] bootstrap=True, max_depth=4, max_features=4, min_samples_leaf=2, min_samples_split=2, n_estimators=300 \n",
      "[CV]  bootstrap=True, max_depth=4, max_features=4, min_samples_leaf=2, min_samples_split=2, n_estimators=300, total=   1.1s\n",
      "[CV] bootstrap=True, max_depth=4, max_features=4, min_samples_leaf=2, min_samples_split=2, n_estimators=300 \n",
      "[CV]  bootstrap=True, max_depth=4, max_features=4, min_samples_leaf=2, min_samples_split=2, n_estimators=300, total=   1.0s\n",
      "[CV] bootstrap=True, max_depth=4, max_features=4, min_samples_leaf=2, min_samples_split=2, n_estimators=1000 \n",
      "[CV]  bootstrap=True, max_depth=4, max_features=4, min_samples_leaf=2, min_samples_split=2, n_estimators=1000, total=   3.3s\n",
      "[CV] bootstrap=True, max_depth=4, max_features=4, min_samples_leaf=2, min_samples_split=2, n_estimators=1000 \n",
      "[CV]  bootstrap=True, max_depth=4, max_features=4, min_samples_leaf=2, min_samples_split=2, n_estimators=1000, total=   3.2s\n",
      "[CV] bootstrap=True, max_depth=4, max_features=4, min_samples_leaf=2, min_samples_split=2, n_estimators=1000 \n",
      "[CV]  bootstrap=True, max_depth=4, max_features=4, min_samples_leaf=2, min_samples_split=2, n_estimators=1000, total=   3.3s\n",
      "[CV] bootstrap=True, max_depth=4, max_features=4, min_samples_leaf=2, min_samples_split=4, n_estimators=100 \n",
      "[CV]  bootstrap=True, max_depth=4, max_features=4, min_samples_leaf=2, min_samples_split=4, n_estimators=100, total=   0.3s\n",
      "[CV] bootstrap=True, max_depth=4, max_features=4, min_samples_leaf=2, min_samples_split=4, n_estimators=100 \n",
      "[CV]  bootstrap=True, max_depth=4, max_features=4, min_samples_leaf=2, min_samples_split=4, n_estimators=100, total=   0.3s\n",
      "[CV] bootstrap=True, max_depth=4, max_features=4, min_samples_leaf=2, min_samples_split=4, n_estimators=100 \n",
      "[CV]  bootstrap=True, max_depth=4, max_features=4, min_samples_leaf=2, min_samples_split=4, n_estimators=100, total=   0.3s\n",
      "[CV] bootstrap=True, max_depth=4, max_features=4, min_samples_leaf=2, min_samples_split=4, n_estimators=200 \n",
      "[CV]  bootstrap=True, max_depth=4, max_features=4, min_samples_leaf=2, min_samples_split=4, n_estimators=200, total=   0.7s\n",
      "[CV] bootstrap=True, max_depth=4, max_features=4, min_samples_leaf=2, min_samples_split=4, n_estimators=200 \n",
      "[CV]  bootstrap=True, max_depth=4, max_features=4, min_samples_leaf=2, min_samples_split=4, n_estimators=200, total=   0.7s\n",
      "[CV] bootstrap=True, max_depth=4, max_features=4, min_samples_leaf=2, min_samples_split=4, n_estimators=200 \n",
      "[CV]  bootstrap=True, max_depth=4, max_features=4, min_samples_leaf=2, min_samples_split=4, n_estimators=200, total=   0.6s\n",
      "[CV] bootstrap=True, max_depth=4, max_features=4, min_samples_leaf=2, min_samples_split=4, n_estimators=300 \n",
      "[CV]  bootstrap=True, max_depth=4, max_features=4, min_samples_leaf=2, min_samples_split=4, n_estimators=300, total=   0.9s\n",
      "[CV] bootstrap=True, max_depth=4, max_features=4, min_samples_leaf=2, min_samples_split=4, n_estimators=300 \n",
      "[CV]  bootstrap=True, max_depth=4, max_features=4, min_samples_leaf=2, min_samples_split=4, n_estimators=300, total=   1.0s\n",
      "[CV] bootstrap=True, max_depth=4, max_features=4, min_samples_leaf=2, min_samples_split=4, n_estimators=300 \n",
      "[CV]  bootstrap=True, max_depth=4, max_features=4, min_samples_leaf=2, min_samples_split=4, n_estimators=300, total=   0.9s\n",
      "[CV] bootstrap=True, max_depth=4, max_features=4, min_samples_leaf=2, min_samples_split=4, n_estimators=1000 \n",
      "[CV]  bootstrap=True, max_depth=4, max_features=4, min_samples_leaf=2, min_samples_split=4, n_estimators=1000, total=   3.2s\n",
      "[CV] bootstrap=True, max_depth=4, max_features=4, min_samples_leaf=2, min_samples_split=4, n_estimators=1000 \n",
      "[CV]  bootstrap=True, max_depth=4, max_features=4, min_samples_leaf=2, min_samples_split=4, n_estimators=1000, total=   3.3s\n",
      "[CV] bootstrap=True, max_depth=4, max_features=4, min_samples_leaf=2, min_samples_split=4, n_estimators=1000 \n",
      "[CV]  bootstrap=True, max_depth=4, max_features=4, min_samples_leaf=2, min_samples_split=4, n_estimators=1000, total=   3.2s\n",
      "[CV] bootstrap=True, max_depth=4, max_features=4, min_samples_leaf=4, min_samples_split=2, n_estimators=100 \n",
      "[CV]  bootstrap=True, max_depth=4, max_features=4, min_samples_leaf=4, min_samples_split=2, n_estimators=100, total=   0.3s\n",
      "[CV] bootstrap=True, max_depth=4, max_features=4, min_samples_leaf=4, min_samples_split=2, n_estimators=100 \n"
     ]
    },
    {
     "name": "stdout",
     "output_type": "stream",
     "text": [
      "[CV]  bootstrap=True, max_depth=4, max_features=4, min_samples_leaf=4, min_samples_split=2, n_estimators=100, total=   0.4s\n",
      "[CV] bootstrap=True, max_depth=4, max_features=4, min_samples_leaf=4, min_samples_split=2, n_estimators=100 \n",
      "[CV]  bootstrap=True, max_depth=4, max_features=4, min_samples_leaf=4, min_samples_split=2, n_estimators=100, total=   0.3s\n",
      "[CV] bootstrap=True, max_depth=4, max_features=4, min_samples_leaf=4, min_samples_split=2, n_estimators=200 \n",
      "[CV]  bootstrap=True, max_depth=4, max_features=4, min_samples_leaf=4, min_samples_split=2, n_estimators=200, total=   0.7s\n",
      "[CV] bootstrap=True, max_depth=4, max_features=4, min_samples_leaf=4, min_samples_split=2, n_estimators=200 \n",
      "[CV]  bootstrap=True, max_depth=4, max_features=4, min_samples_leaf=4, min_samples_split=2, n_estimators=200, total=   0.6s\n",
      "[CV] bootstrap=True, max_depth=4, max_features=4, min_samples_leaf=4, min_samples_split=2, n_estimators=200 \n",
      "[CV]  bootstrap=True, max_depth=4, max_features=4, min_samples_leaf=4, min_samples_split=2, n_estimators=200, total=   0.7s\n",
      "[CV] bootstrap=True, max_depth=4, max_features=4, min_samples_leaf=4, min_samples_split=2, n_estimators=300 \n",
      "[CV]  bootstrap=True, max_depth=4, max_features=4, min_samples_leaf=4, min_samples_split=2, n_estimators=300, total=   0.9s\n",
      "[CV] bootstrap=True, max_depth=4, max_features=4, min_samples_leaf=4, min_samples_split=2, n_estimators=300 \n",
      "[CV]  bootstrap=True, max_depth=4, max_features=4, min_samples_leaf=4, min_samples_split=2, n_estimators=300, total=   1.2s\n",
      "[CV] bootstrap=True, max_depth=4, max_features=4, min_samples_leaf=4, min_samples_split=2, n_estimators=300 \n",
      "[CV]  bootstrap=True, max_depth=4, max_features=4, min_samples_leaf=4, min_samples_split=2, n_estimators=300, total=   1.1s\n",
      "[CV] bootstrap=True, max_depth=4, max_features=4, min_samples_leaf=4, min_samples_split=2, n_estimators=1000 \n",
      "[CV]  bootstrap=True, max_depth=4, max_features=4, min_samples_leaf=4, min_samples_split=2, n_estimators=1000, total=   3.3s\n",
      "[CV] bootstrap=True, max_depth=4, max_features=4, min_samples_leaf=4, min_samples_split=2, n_estimators=1000 \n",
      "[CV]  bootstrap=True, max_depth=4, max_features=4, min_samples_leaf=4, min_samples_split=2, n_estimators=1000, total=   3.2s\n",
      "[CV] bootstrap=True, max_depth=4, max_features=4, min_samples_leaf=4, min_samples_split=2, n_estimators=1000 \n",
      "[CV]  bootstrap=True, max_depth=4, max_features=4, min_samples_leaf=4, min_samples_split=2, n_estimators=1000, total=   3.3s\n",
      "[CV] bootstrap=True, max_depth=4, max_features=4, min_samples_leaf=4, min_samples_split=4, n_estimators=100 \n",
      "[CV]  bootstrap=True, max_depth=4, max_features=4, min_samples_leaf=4, min_samples_split=4, n_estimators=100, total=   0.4s\n",
      "[CV] bootstrap=True, max_depth=4, max_features=4, min_samples_leaf=4, min_samples_split=4, n_estimators=100 \n",
      "[CV]  bootstrap=True, max_depth=4, max_features=4, min_samples_leaf=4, min_samples_split=4, n_estimators=100, total=   0.4s\n",
      "[CV] bootstrap=True, max_depth=4, max_features=4, min_samples_leaf=4, min_samples_split=4, n_estimators=100 \n",
      "[CV]  bootstrap=True, max_depth=4, max_features=4, min_samples_leaf=4, min_samples_split=4, n_estimators=100, total=   0.4s\n",
      "[CV] bootstrap=True, max_depth=4, max_features=4, min_samples_leaf=4, min_samples_split=4, n_estimators=200 \n",
      "[CV]  bootstrap=True, max_depth=4, max_features=4, min_samples_leaf=4, min_samples_split=4, n_estimators=200, total=   0.7s\n",
      "[CV] bootstrap=True, max_depth=4, max_features=4, min_samples_leaf=4, min_samples_split=4, n_estimators=200 \n",
      "[CV]  bootstrap=True, max_depth=4, max_features=4, min_samples_leaf=4, min_samples_split=4, n_estimators=200, total=   0.6s\n",
      "[CV] bootstrap=True, max_depth=4, max_features=4, min_samples_leaf=4, min_samples_split=4, n_estimators=200 \n",
      "[CV]  bootstrap=True, max_depth=4, max_features=4, min_samples_leaf=4, min_samples_split=4, n_estimators=200, total=   0.6s\n",
      "[CV] bootstrap=True, max_depth=4, max_features=4, min_samples_leaf=4, min_samples_split=4, n_estimators=300 \n",
      "[CV]  bootstrap=True, max_depth=4, max_features=4, min_samples_leaf=4, min_samples_split=4, n_estimators=300, total=   1.2s\n",
      "[CV] bootstrap=True, max_depth=4, max_features=4, min_samples_leaf=4, min_samples_split=4, n_estimators=300 \n",
      "[CV]  bootstrap=True, max_depth=4, max_features=4, min_samples_leaf=4, min_samples_split=4, n_estimators=300, total=   0.9s\n",
      "[CV] bootstrap=True, max_depth=4, max_features=4, min_samples_leaf=4, min_samples_split=4, n_estimators=300 \n",
      "[CV]  bootstrap=True, max_depth=4, max_features=4, min_samples_leaf=4, min_samples_split=4, n_estimators=300, total=   0.9s\n",
      "[CV] bootstrap=True, max_depth=4, max_features=4, min_samples_leaf=4, min_samples_split=4, n_estimators=1000 \n",
      "[CV]  bootstrap=True, max_depth=4, max_features=4, min_samples_leaf=4, min_samples_split=4, n_estimators=1000, total=   3.4s\n",
      "[CV] bootstrap=True, max_depth=4, max_features=4, min_samples_leaf=4, min_samples_split=4, n_estimators=1000 \n",
      "[CV]  bootstrap=True, max_depth=4, max_features=4, min_samples_leaf=4, min_samples_split=4, n_estimators=1000, total=   3.2s\n",
      "[CV] bootstrap=True, max_depth=4, max_features=4, min_samples_leaf=4, min_samples_split=4, n_estimators=1000 \n",
      "[CV]  bootstrap=True, max_depth=4, max_features=4, min_samples_leaf=4, min_samples_split=4, n_estimators=1000, total=   3.2s\n",
      "[CV] bootstrap=True, max_depth=4, max_features=6, min_samples_leaf=2, min_samples_split=2, n_estimators=100 \n",
      "[CV]  bootstrap=True, max_depth=4, max_features=6, min_samples_leaf=2, min_samples_split=2, n_estimators=100, total=   0.4s\n",
      "[CV] bootstrap=True, max_depth=4, max_features=6, min_samples_leaf=2, min_samples_split=2, n_estimators=100 \n",
      "[CV]  bootstrap=True, max_depth=4, max_features=6, min_samples_leaf=2, min_samples_split=2, n_estimators=100, total=   0.5s\n",
      "[CV] bootstrap=True, max_depth=4, max_features=6, min_samples_leaf=2, min_samples_split=2, n_estimators=100 \n",
      "[CV]  bootstrap=True, max_depth=4, max_features=6, min_samples_leaf=2, min_samples_split=2, n_estimators=100, total=   0.4s\n",
      "[CV] bootstrap=True, max_depth=4, max_features=6, min_samples_leaf=2, min_samples_split=2, n_estimators=200 \n",
      "[CV]  bootstrap=True, max_depth=4, max_features=6, min_samples_leaf=2, min_samples_split=2, n_estimators=200, total=   0.8s\n",
      "[CV] bootstrap=True, max_depth=4, max_features=6, min_samples_leaf=2, min_samples_split=2, n_estimators=200 \n",
      "[CV]  bootstrap=True, max_depth=4, max_features=6, min_samples_leaf=2, min_samples_split=2, n_estimators=200, total=   0.9s\n",
      "[CV] bootstrap=True, max_depth=4, max_features=6, min_samples_leaf=2, min_samples_split=2, n_estimators=200 \n",
      "[CV]  bootstrap=True, max_depth=4, max_features=6, min_samples_leaf=2, min_samples_split=2, n_estimators=200, total=   0.8s\n",
      "[CV] bootstrap=True, max_depth=4, max_features=6, min_samples_leaf=2, min_samples_split=2, n_estimators=300 \n",
      "[CV]  bootstrap=True, max_depth=4, max_features=6, min_samples_leaf=2, min_samples_split=2, n_estimators=300, total=   1.2s\n",
      "[CV] bootstrap=True, max_depth=4, max_features=6, min_samples_leaf=2, min_samples_split=2, n_estimators=300 \n",
      "[CV]  bootstrap=True, max_depth=4, max_features=6, min_samples_leaf=2, min_samples_split=2, n_estimators=300, total=   1.2s\n",
      "[CV] bootstrap=True, max_depth=4, max_features=6, min_samples_leaf=2, min_samples_split=2, n_estimators=300 \n",
      "[CV]  bootstrap=True, max_depth=4, max_features=6, min_samples_leaf=2, min_samples_split=2, n_estimators=300, total=   1.2s\n",
      "[CV] bootstrap=True, max_depth=4, max_features=6, min_samples_leaf=2, min_samples_split=2, n_estimators=1000 \n",
      "[CV]  bootstrap=True, max_depth=4, max_features=6, min_samples_leaf=2, min_samples_split=2, n_estimators=1000, total=   4.1s\n",
      "[CV] bootstrap=True, max_depth=4, max_features=6, min_samples_leaf=2, min_samples_split=2, n_estimators=1000 \n",
      "[CV]  bootstrap=True, max_depth=4, max_features=6, min_samples_leaf=2, min_samples_split=2, n_estimators=1000, total=   4.1s\n",
      "[CV] bootstrap=True, max_depth=4, max_features=6, min_samples_leaf=2, min_samples_split=2, n_estimators=1000 \n",
      "[CV]  bootstrap=True, max_depth=4, max_features=6, min_samples_leaf=2, min_samples_split=2, n_estimators=1000, total=   3.9s\n",
      "[CV] bootstrap=True, max_depth=4, max_features=6, min_samples_leaf=2, min_samples_split=4, n_estimators=100 \n",
      "[CV]  bootstrap=True, max_depth=4, max_features=6, min_samples_leaf=2, min_samples_split=4, n_estimators=100, total=   0.5s\n",
      "[CV] bootstrap=True, max_depth=4, max_features=6, min_samples_leaf=2, min_samples_split=4, n_estimators=100 \n"
     ]
    },
    {
     "name": "stdout",
     "output_type": "stream",
     "text": [
      "[CV]  bootstrap=True, max_depth=4, max_features=6, min_samples_leaf=2, min_samples_split=4, n_estimators=100, total=   0.4s\n",
      "[CV] bootstrap=True, max_depth=4, max_features=6, min_samples_leaf=2, min_samples_split=4, n_estimators=100 \n",
      "[CV]  bootstrap=True, max_depth=4, max_features=6, min_samples_leaf=2, min_samples_split=4, n_estimators=100, total=   0.5s\n",
      "[CV] bootstrap=True, max_depth=4, max_features=6, min_samples_leaf=2, min_samples_split=4, n_estimators=200 \n",
      "[CV]  bootstrap=True, max_depth=4, max_features=6, min_samples_leaf=2, min_samples_split=4, n_estimators=200, total=   0.8s\n",
      "[CV] bootstrap=True, max_depth=4, max_features=6, min_samples_leaf=2, min_samples_split=4, n_estimators=200 \n",
      "[CV]  bootstrap=True, max_depth=4, max_features=6, min_samples_leaf=2, min_samples_split=4, n_estimators=200, total=   0.8s\n",
      "[CV] bootstrap=True, max_depth=4, max_features=6, min_samples_leaf=2, min_samples_split=4, n_estimators=200 \n",
      "[CV]  bootstrap=True, max_depth=4, max_features=6, min_samples_leaf=2, min_samples_split=4, n_estimators=200, total=   0.8s\n",
      "[CV] bootstrap=True, max_depth=4, max_features=6, min_samples_leaf=2, min_samples_split=4, n_estimators=300 \n",
      "[CV]  bootstrap=True, max_depth=4, max_features=6, min_samples_leaf=2, min_samples_split=4, n_estimators=300, total=   1.3s\n",
      "[CV] bootstrap=True, max_depth=4, max_features=6, min_samples_leaf=2, min_samples_split=4, n_estimators=300 \n",
      "[CV]  bootstrap=True, max_depth=4, max_features=6, min_samples_leaf=2, min_samples_split=4, n_estimators=300, total=   1.2s\n",
      "[CV] bootstrap=True, max_depth=4, max_features=6, min_samples_leaf=2, min_samples_split=4, n_estimators=300 \n",
      "[CV]  bootstrap=True, max_depth=4, max_features=6, min_samples_leaf=2, min_samples_split=4, n_estimators=300, total=   1.2s\n",
      "[CV] bootstrap=True, max_depth=4, max_features=6, min_samples_leaf=2, min_samples_split=4, n_estimators=1000 \n",
      "[CV]  bootstrap=True, max_depth=4, max_features=6, min_samples_leaf=2, min_samples_split=4, n_estimators=1000, total=   3.9s\n",
      "[CV] bootstrap=True, max_depth=4, max_features=6, min_samples_leaf=2, min_samples_split=4, n_estimators=1000 \n",
      "[CV]  bootstrap=True, max_depth=4, max_features=6, min_samples_leaf=2, min_samples_split=4, n_estimators=1000, total=   4.1s\n",
      "[CV] bootstrap=True, max_depth=4, max_features=6, min_samples_leaf=2, min_samples_split=4, n_estimators=1000 \n",
      "[CV]  bootstrap=True, max_depth=4, max_features=6, min_samples_leaf=2, min_samples_split=4, n_estimators=1000, total=   3.9s\n",
      "[CV] bootstrap=True, max_depth=4, max_features=6, min_samples_leaf=4, min_samples_split=2, n_estimators=100 \n",
      "[CV]  bootstrap=True, max_depth=4, max_features=6, min_samples_leaf=4, min_samples_split=2, n_estimators=100, total=   0.4s\n",
      "[CV] bootstrap=True, max_depth=4, max_features=6, min_samples_leaf=4, min_samples_split=2, n_estimators=100 \n",
      "[CV]  bootstrap=True, max_depth=4, max_features=6, min_samples_leaf=4, min_samples_split=2, n_estimators=100, total=   0.5s\n",
      "[CV] bootstrap=True, max_depth=4, max_features=6, min_samples_leaf=4, min_samples_split=2, n_estimators=100 \n",
      "[CV]  bootstrap=True, max_depth=4, max_features=6, min_samples_leaf=4, min_samples_split=2, n_estimators=100, total=   0.4s\n",
      "[CV] bootstrap=True, max_depth=4, max_features=6, min_samples_leaf=4, min_samples_split=2, n_estimators=200 \n",
      "[CV]  bootstrap=True, max_depth=4, max_features=6, min_samples_leaf=4, min_samples_split=2, n_estimators=200, total=   0.8s\n",
      "[CV] bootstrap=True, max_depth=4, max_features=6, min_samples_leaf=4, min_samples_split=2, n_estimators=200 \n",
      "[CV]  bootstrap=True, max_depth=4, max_features=6, min_samples_leaf=4, min_samples_split=2, n_estimators=200, total=   0.8s\n",
      "[CV] bootstrap=True, max_depth=4, max_features=6, min_samples_leaf=4, min_samples_split=2, n_estimators=200 \n",
      "[CV]  bootstrap=True, max_depth=4, max_features=6, min_samples_leaf=4, min_samples_split=2, n_estimators=200, total=   0.8s\n",
      "[CV] bootstrap=True, max_depth=4, max_features=6, min_samples_leaf=4, min_samples_split=2, n_estimators=300 \n",
      "[CV]  bootstrap=True, max_depth=4, max_features=6, min_samples_leaf=4, min_samples_split=2, n_estimators=300, total=   1.3s\n",
      "[CV] bootstrap=True, max_depth=4, max_features=6, min_samples_leaf=4, min_samples_split=2, n_estimators=300 \n",
      "[CV]  bootstrap=True, max_depth=4, max_features=6, min_samples_leaf=4, min_samples_split=2, n_estimators=300, total=   1.4s\n",
      "[CV] bootstrap=True, max_depth=4, max_features=6, min_samples_leaf=4, min_samples_split=2, n_estimators=300 \n",
      "[CV]  bootstrap=True, max_depth=4, max_features=6, min_samples_leaf=4, min_samples_split=2, n_estimators=300, total=   1.2s\n",
      "[CV] bootstrap=True, max_depth=4, max_features=6, min_samples_leaf=4, min_samples_split=2, n_estimators=1000 \n",
      "[CV]  bootstrap=True, max_depth=4, max_features=6, min_samples_leaf=4, min_samples_split=2, n_estimators=1000, total=   3.9s\n",
      "[CV] bootstrap=True, max_depth=4, max_features=6, min_samples_leaf=4, min_samples_split=2, n_estimators=1000 \n",
      "[CV]  bootstrap=True, max_depth=4, max_features=6, min_samples_leaf=4, min_samples_split=2, n_estimators=1000, total=   4.0s\n",
      "[CV] bootstrap=True, max_depth=4, max_features=6, min_samples_leaf=4, min_samples_split=2, n_estimators=1000 \n",
      "[CV]  bootstrap=True, max_depth=4, max_features=6, min_samples_leaf=4, min_samples_split=2, n_estimators=1000, total=   4.0s\n",
      "[CV] bootstrap=True, max_depth=4, max_features=6, min_samples_leaf=4, min_samples_split=4, n_estimators=100 \n",
      "[CV]  bootstrap=True, max_depth=4, max_features=6, min_samples_leaf=4, min_samples_split=4, n_estimators=100, total=   0.4s\n",
      "[CV] bootstrap=True, max_depth=4, max_features=6, min_samples_leaf=4, min_samples_split=4, n_estimators=100 \n",
      "[CV]  bootstrap=True, max_depth=4, max_features=6, min_samples_leaf=4, min_samples_split=4, n_estimators=100, total=   0.4s\n",
      "[CV] bootstrap=True, max_depth=4, max_features=6, min_samples_leaf=4, min_samples_split=4, n_estimators=100 \n",
      "[CV]  bootstrap=True, max_depth=4, max_features=6, min_samples_leaf=4, min_samples_split=4, n_estimators=100, total=   0.5s\n",
      "[CV] bootstrap=True, max_depth=4, max_features=6, min_samples_leaf=4, min_samples_split=4, n_estimators=200 \n",
      "[CV]  bootstrap=True, max_depth=4, max_features=6, min_samples_leaf=4, min_samples_split=4, n_estimators=200, total=   1.0s\n",
      "[CV] bootstrap=True, max_depth=4, max_features=6, min_samples_leaf=4, min_samples_split=4, n_estimators=200 \n",
      "[CV]  bootstrap=True, max_depth=4, max_features=6, min_samples_leaf=4, min_samples_split=4, n_estimators=200, total=   0.8s\n",
      "[CV] bootstrap=True, max_depth=4, max_features=6, min_samples_leaf=4, min_samples_split=4, n_estimators=200 \n",
      "[CV]  bootstrap=True, max_depth=4, max_features=6, min_samples_leaf=4, min_samples_split=4, n_estimators=200, total=   0.8s\n",
      "[CV] bootstrap=True, max_depth=4, max_features=6, min_samples_leaf=4, min_samples_split=4, n_estimators=300 \n",
      "[CV]  bootstrap=True, max_depth=4, max_features=6, min_samples_leaf=4, min_samples_split=4, n_estimators=300, total=   1.3s\n",
      "[CV] bootstrap=True, max_depth=4, max_features=6, min_samples_leaf=4, min_samples_split=4, n_estimators=300 \n",
      "[CV]  bootstrap=True, max_depth=4, max_features=6, min_samples_leaf=4, min_samples_split=4, n_estimators=300, total=   1.2s\n",
      "[CV] bootstrap=True, max_depth=4, max_features=6, min_samples_leaf=4, min_samples_split=4, n_estimators=300 \n",
      "[CV]  bootstrap=True, max_depth=4, max_features=6, min_samples_leaf=4, min_samples_split=4, n_estimators=300, total=   1.2s\n",
      "[CV] bootstrap=True, max_depth=4, max_features=6, min_samples_leaf=4, min_samples_split=4, n_estimators=1000 \n",
      "[CV]  bootstrap=True, max_depth=4, max_features=6, min_samples_leaf=4, min_samples_split=4, n_estimators=1000, total=   4.0s\n",
      "[CV] bootstrap=True, max_depth=4, max_features=6, min_samples_leaf=4, min_samples_split=4, n_estimators=1000 \n",
      "[CV]  bootstrap=True, max_depth=4, max_features=6, min_samples_leaf=4, min_samples_split=4, n_estimators=1000, total=   4.1s\n",
      "[CV] bootstrap=True, max_depth=4, max_features=6, min_samples_leaf=4, min_samples_split=4, n_estimators=1000 \n",
      "[CV]  bootstrap=True, max_depth=4, max_features=6, min_samples_leaf=4, min_samples_split=4, n_estimators=1000, total=   3.9s\n",
      "[CV] bootstrap=True, max_depth=6, max_features=2, min_samples_leaf=2, min_samples_split=2, n_estimators=100 \n",
      "[CV]  bootstrap=True, max_depth=6, max_features=2, min_samples_leaf=2, min_samples_split=2, n_estimators=100, total=   0.3s\n",
      "[CV] bootstrap=True, max_depth=6, max_features=2, min_samples_leaf=2, min_samples_split=2, n_estimators=100 \n"
     ]
    },
    {
     "name": "stdout",
     "output_type": "stream",
     "text": [
      "[CV]  bootstrap=True, max_depth=6, max_features=2, min_samples_leaf=2, min_samples_split=2, n_estimators=100, total=   0.3s\n",
      "[CV] bootstrap=True, max_depth=6, max_features=2, min_samples_leaf=2, min_samples_split=2, n_estimators=100 \n",
      "[CV]  bootstrap=True, max_depth=6, max_features=2, min_samples_leaf=2, min_samples_split=2, n_estimators=100, total=   0.4s\n",
      "[CV] bootstrap=True, max_depth=6, max_features=2, min_samples_leaf=2, min_samples_split=2, n_estimators=200 \n",
      "[CV]  bootstrap=True, max_depth=6, max_features=2, min_samples_leaf=2, min_samples_split=2, n_estimators=200, total=   0.6s\n",
      "[CV] bootstrap=True, max_depth=6, max_features=2, min_samples_leaf=2, min_samples_split=2, n_estimators=200 \n",
      "[CV]  bootstrap=True, max_depth=6, max_features=2, min_samples_leaf=2, min_samples_split=2, n_estimators=200, total=   0.5s\n",
      "[CV] bootstrap=True, max_depth=6, max_features=2, min_samples_leaf=2, min_samples_split=2, n_estimators=200 \n",
      "[CV]  bootstrap=True, max_depth=6, max_features=2, min_samples_leaf=2, min_samples_split=2, n_estimators=200, total=   0.6s\n",
      "[CV] bootstrap=True, max_depth=6, max_features=2, min_samples_leaf=2, min_samples_split=2, n_estimators=300 \n",
      "[CV]  bootstrap=True, max_depth=6, max_features=2, min_samples_leaf=2, min_samples_split=2, n_estimators=300, total=   0.9s\n",
      "[CV] bootstrap=True, max_depth=6, max_features=2, min_samples_leaf=2, min_samples_split=2, n_estimators=300 \n",
      "[CV]  bootstrap=True, max_depth=6, max_features=2, min_samples_leaf=2, min_samples_split=2, n_estimators=300, total=   0.8s\n",
      "[CV] bootstrap=True, max_depth=6, max_features=2, min_samples_leaf=2, min_samples_split=2, n_estimators=300 \n",
      "[CV]  bootstrap=True, max_depth=6, max_features=2, min_samples_leaf=2, min_samples_split=2, n_estimators=300, total=   0.9s\n",
      "[CV] bootstrap=True, max_depth=6, max_features=2, min_samples_leaf=2, min_samples_split=2, n_estimators=1000 \n",
      "[CV]  bootstrap=True, max_depth=6, max_features=2, min_samples_leaf=2, min_samples_split=2, n_estimators=1000, total=   3.0s\n",
      "[CV] bootstrap=True, max_depth=6, max_features=2, min_samples_leaf=2, min_samples_split=2, n_estimators=1000 \n",
      "[CV]  bootstrap=True, max_depth=6, max_features=2, min_samples_leaf=2, min_samples_split=2, n_estimators=1000, total=   2.8s\n",
      "[CV] bootstrap=True, max_depth=6, max_features=2, min_samples_leaf=2, min_samples_split=2, n_estimators=1000 \n",
      "[CV]  bootstrap=True, max_depth=6, max_features=2, min_samples_leaf=2, min_samples_split=2, n_estimators=1000, total=   2.8s\n",
      "[CV] bootstrap=True, max_depth=6, max_features=2, min_samples_leaf=2, min_samples_split=4, n_estimators=100 \n",
      "[CV]  bootstrap=True, max_depth=6, max_features=2, min_samples_leaf=2, min_samples_split=4, n_estimators=100, total=   0.3s\n",
      "[CV] bootstrap=True, max_depth=6, max_features=2, min_samples_leaf=2, min_samples_split=4, n_estimators=100 \n",
      "[CV]  bootstrap=True, max_depth=6, max_features=2, min_samples_leaf=2, min_samples_split=4, n_estimators=100, total=   0.3s\n",
      "[CV] bootstrap=True, max_depth=6, max_features=2, min_samples_leaf=2, min_samples_split=4, n_estimators=100 \n",
      "[CV]  bootstrap=True, max_depth=6, max_features=2, min_samples_leaf=2, min_samples_split=4, n_estimators=100, total=   0.4s\n",
      "[CV] bootstrap=True, max_depth=6, max_features=2, min_samples_leaf=2, min_samples_split=4, n_estimators=200 \n",
      "[CV]  bootstrap=True, max_depth=6, max_features=2, min_samples_leaf=2, min_samples_split=4, n_estimators=200, total=   0.7s\n",
      "[CV] bootstrap=True, max_depth=6, max_features=2, min_samples_leaf=2, min_samples_split=4, n_estimators=200 \n",
      "[CV]  bootstrap=True, max_depth=6, max_features=2, min_samples_leaf=2, min_samples_split=4, n_estimators=200, total=   0.6s\n",
      "[CV] bootstrap=True, max_depth=6, max_features=2, min_samples_leaf=2, min_samples_split=4, n_estimators=200 \n",
      "[CV]  bootstrap=True, max_depth=6, max_features=2, min_samples_leaf=2, min_samples_split=4, n_estimators=200, total=   0.7s\n",
      "[CV] bootstrap=True, max_depth=6, max_features=2, min_samples_leaf=2, min_samples_split=4, n_estimators=300 \n",
      "[CV]  bootstrap=True, max_depth=6, max_features=2, min_samples_leaf=2, min_samples_split=4, n_estimators=300, total=   0.8s\n",
      "[CV] bootstrap=True, max_depth=6, max_features=2, min_samples_leaf=2, min_samples_split=4, n_estimators=300 \n",
      "[CV]  bootstrap=True, max_depth=6, max_features=2, min_samples_leaf=2, min_samples_split=4, n_estimators=300, total=   0.9s\n",
      "[CV] bootstrap=True, max_depth=6, max_features=2, min_samples_leaf=2, min_samples_split=4, n_estimators=300 \n",
      "[CV]  bootstrap=True, max_depth=6, max_features=2, min_samples_leaf=2, min_samples_split=4, n_estimators=300, total=   0.9s\n",
      "[CV] bootstrap=True, max_depth=6, max_features=2, min_samples_leaf=2, min_samples_split=4, n_estimators=1000 \n",
      "[CV]  bootstrap=True, max_depth=6, max_features=2, min_samples_leaf=2, min_samples_split=4, n_estimators=1000, total=   2.8s\n",
      "[CV] bootstrap=True, max_depth=6, max_features=2, min_samples_leaf=2, min_samples_split=4, n_estimators=1000 \n",
      "[CV]  bootstrap=True, max_depth=6, max_features=2, min_samples_leaf=2, min_samples_split=4, n_estimators=1000, total=   2.9s\n",
      "[CV] bootstrap=True, max_depth=6, max_features=2, min_samples_leaf=2, min_samples_split=4, n_estimators=1000 \n",
      "[CV]  bootstrap=True, max_depth=6, max_features=2, min_samples_leaf=2, min_samples_split=4, n_estimators=1000, total=   3.0s\n",
      "[CV] bootstrap=True, max_depth=6, max_features=2, min_samples_leaf=4, min_samples_split=2, n_estimators=100 \n",
      "[CV]  bootstrap=True, max_depth=6, max_features=2, min_samples_leaf=4, min_samples_split=2, n_estimators=100, total=   0.3s\n",
      "[CV] bootstrap=True, max_depth=6, max_features=2, min_samples_leaf=4, min_samples_split=2, n_estimators=100 \n",
      "[CV]  bootstrap=True, max_depth=6, max_features=2, min_samples_leaf=4, min_samples_split=2, n_estimators=100, total=   0.3s\n",
      "[CV] bootstrap=True, max_depth=6, max_features=2, min_samples_leaf=4, min_samples_split=2, n_estimators=100 \n",
      "[CV]  bootstrap=True, max_depth=6, max_features=2, min_samples_leaf=4, min_samples_split=2, n_estimators=100, total=   0.3s\n",
      "[CV] bootstrap=True, max_depth=6, max_features=2, min_samples_leaf=4, min_samples_split=2, n_estimators=200 \n",
      "[CV]  bootstrap=True, max_depth=6, max_features=2, min_samples_leaf=4, min_samples_split=2, n_estimators=200, total=   0.6s\n",
      "[CV] bootstrap=True, max_depth=6, max_features=2, min_samples_leaf=4, min_samples_split=2, n_estimators=200 \n",
      "[CV]  bootstrap=True, max_depth=6, max_features=2, min_samples_leaf=4, min_samples_split=2, n_estimators=200, total=   0.7s\n",
      "[CV] bootstrap=True, max_depth=6, max_features=2, min_samples_leaf=4, min_samples_split=2, n_estimators=200 \n",
      "[CV]  bootstrap=True, max_depth=6, max_features=2, min_samples_leaf=4, min_samples_split=2, n_estimators=200, total=   0.6s\n",
      "[CV] bootstrap=True, max_depth=6, max_features=2, min_samples_leaf=4, min_samples_split=2, n_estimators=300 \n",
      "[CV]  bootstrap=True, max_depth=6, max_features=2, min_samples_leaf=4, min_samples_split=2, n_estimators=300, total=   0.8s\n",
      "[CV] bootstrap=True, max_depth=6, max_features=2, min_samples_leaf=4, min_samples_split=2, n_estimators=300 \n",
      "[CV]  bootstrap=True, max_depth=6, max_features=2, min_samples_leaf=4, min_samples_split=2, n_estimators=300, total=   0.9s\n",
      "[CV] bootstrap=True, max_depth=6, max_features=2, min_samples_leaf=4, min_samples_split=2, n_estimators=300 \n",
      "[CV]  bootstrap=True, max_depth=6, max_features=2, min_samples_leaf=4, min_samples_split=2, n_estimators=300, total=   0.9s\n",
      "[CV] bootstrap=True, max_depth=6, max_features=2, min_samples_leaf=4, min_samples_split=2, n_estimators=1000 \n",
      "[CV]  bootstrap=True, max_depth=6, max_features=2, min_samples_leaf=4, min_samples_split=2, n_estimators=1000, total=   2.9s\n",
      "[CV] bootstrap=True, max_depth=6, max_features=2, min_samples_leaf=4, min_samples_split=2, n_estimators=1000 \n",
      "[CV]  bootstrap=True, max_depth=6, max_features=2, min_samples_leaf=4, min_samples_split=2, n_estimators=1000, total=   2.9s\n",
      "[CV] bootstrap=True, max_depth=6, max_features=2, min_samples_leaf=4, min_samples_split=2, n_estimators=1000 \n",
      "[CV]  bootstrap=True, max_depth=6, max_features=2, min_samples_leaf=4, min_samples_split=2, n_estimators=1000, total=   2.9s\n",
      "[CV] bootstrap=True, max_depth=6, max_features=2, min_samples_leaf=4, min_samples_split=4, n_estimators=100 \n",
      "[CV]  bootstrap=True, max_depth=6, max_features=2, min_samples_leaf=4, min_samples_split=4, n_estimators=100, total=   0.3s\n",
      "[CV] bootstrap=True, max_depth=6, max_features=2, min_samples_leaf=4, min_samples_split=4, n_estimators=100 \n"
     ]
    },
    {
     "name": "stdout",
     "output_type": "stream",
     "text": [
      "[CV]  bootstrap=True, max_depth=6, max_features=2, min_samples_leaf=4, min_samples_split=4, n_estimators=100, total=   0.3s\n",
      "[CV] bootstrap=True, max_depth=6, max_features=2, min_samples_leaf=4, min_samples_split=4, n_estimators=100 \n",
      "[CV]  bootstrap=True, max_depth=6, max_features=2, min_samples_leaf=4, min_samples_split=4, n_estimators=100, total=   0.3s\n",
      "[CV] bootstrap=True, max_depth=6, max_features=2, min_samples_leaf=4, min_samples_split=4, n_estimators=200 \n",
      "[CV]  bootstrap=True, max_depth=6, max_features=2, min_samples_leaf=4, min_samples_split=4, n_estimators=200, total=   0.6s\n",
      "[CV] bootstrap=True, max_depth=6, max_features=2, min_samples_leaf=4, min_samples_split=4, n_estimators=200 \n",
      "[CV]  bootstrap=True, max_depth=6, max_features=2, min_samples_leaf=4, min_samples_split=4, n_estimators=200, total=   0.5s\n",
      "[CV] bootstrap=True, max_depth=6, max_features=2, min_samples_leaf=4, min_samples_split=4, n_estimators=200 \n",
      "[CV]  bootstrap=True, max_depth=6, max_features=2, min_samples_leaf=4, min_samples_split=4, n_estimators=200, total=   0.6s\n",
      "[CV] bootstrap=True, max_depth=6, max_features=2, min_samples_leaf=4, min_samples_split=4, n_estimators=300 \n",
      "[CV]  bootstrap=True, max_depth=6, max_features=2, min_samples_leaf=4, min_samples_split=4, n_estimators=300, total=   0.9s\n",
      "[CV] bootstrap=True, max_depth=6, max_features=2, min_samples_leaf=4, min_samples_split=4, n_estimators=300 \n",
      "[CV]  bootstrap=True, max_depth=6, max_features=2, min_samples_leaf=4, min_samples_split=4, n_estimators=300, total=   0.9s\n",
      "[CV] bootstrap=True, max_depth=6, max_features=2, min_samples_leaf=4, min_samples_split=4, n_estimators=300 \n",
      "[CV]  bootstrap=True, max_depth=6, max_features=2, min_samples_leaf=4, min_samples_split=4, n_estimators=300, total=   0.9s\n",
      "[CV] bootstrap=True, max_depth=6, max_features=2, min_samples_leaf=4, min_samples_split=4, n_estimators=1000 \n",
      "[CV]  bootstrap=True, max_depth=6, max_features=2, min_samples_leaf=4, min_samples_split=4, n_estimators=1000, total=   2.7s\n",
      "[CV] bootstrap=True, max_depth=6, max_features=2, min_samples_leaf=4, min_samples_split=4, n_estimators=1000 \n",
      "[CV]  bootstrap=True, max_depth=6, max_features=2, min_samples_leaf=4, min_samples_split=4, n_estimators=1000, total=   2.9s\n",
      "[CV] bootstrap=True, max_depth=6, max_features=2, min_samples_leaf=4, min_samples_split=4, n_estimators=1000 \n",
      "[CV]  bootstrap=True, max_depth=6, max_features=2, min_samples_leaf=4, min_samples_split=4, n_estimators=1000, total=   2.9s\n",
      "[CV] bootstrap=True, max_depth=6, max_features=4, min_samples_leaf=2, min_samples_split=2, n_estimators=100 \n",
      "[CV]  bootstrap=True, max_depth=6, max_features=4, min_samples_leaf=2, min_samples_split=2, n_estimators=100, total=   0.4s\n",
      "[CV] bootstrap=True, max_depth=6, max_features=4, min_samples_leaf=2, min_samples_split=2, n_estimators=100 \n",
      "[CV]  bootstrap=True, max_depth=6, max_features=4, min_samples_leaf=2, min_samples_split=2, n_estimators=100, total=   0.5s\n",
      "[CV] bootstrap=True, max_depth=6, max_features=4, min_samples_leaf=2, min_samples_split=2, n_estimators=100 \n",
      "[CV]  bootstrap=True, max_depth=6, max_features=4, min_samples_leaf=2, min_samples_split=2, n_estimators=100, total=   0.4s\n",
      "[CV] bootstrap=True, max_depth=6, max_features=4, min_samples_leaf=2, min_samples_split=2, n_estimators=200 \n",
      "[CV]  bootstrap=True, max_depth=6, max_features=4, min_samples_leaf=2, min_samples_split=2, n_estimators=200, total=   0.8s\n",
      "[CV] bootstrap=True, max_depth=6, max_features=4, min_samples_leaf=2, min_samples_split=2, n_estimators=200 \n",
      "[CV]  bootstrap=True, max_depth=6, max_features=4, min_samples_leaf=2, min_samples_split=2, n_estimators=200, total=   0.8s\n",
      "[CV] bootstrap=True, max_depth=6, max_features=4, min_samples_leaf=2, min_samples_split=2, n_estimators=200 \n",
      "[CV]  bootstrap=True, max_depth=6, max_features=4, min_samples_leaf=2, min_samples_split=2, n_estimators=200, total=   0.8s\n",
      "[CV] bootstrap=True, max_depth=6, max_features=4, min_samples_leaf=2, min_samples_split=2, n_estimators=300 \n",
      "[CV]  bootstrap=True, max_depth=6, max_features=4, min_samples_leaf=2, min_samples_split=2, n_estimators=300, total=   1.2s\n",
      "[CV] bootstrap=True, max_depth=6, max_features=4, min_samples_leaf=2, min_samples_split=2, n_estimators=300 \n",
      "[CV]  bootstrap=True, max_depth=6, max_features=4, min_samples_leaf=2, min_samples_split=2, n_estimators=300, total=   1.2s\n",
      "[CV] bootstrap=True, max_depth=6, max_features=4, min_samples_leaf=2, min_samples_split=2, n_estimators=300 \n",
      "[CV]  bootstrap=True, max_depth=6, max_features=4, min_samples_leaf=2, min_samples_split=2, n_estimators=300, total=   1.2s\n",
      "[CV] bootstrap=True, max_depth=6, max_features=4, min_samples_leaf=2, min_samples_split=2, n_estimators=1000 \n",
      "[CV]  bootstrap=True, max_depth=6, max_features=4, min_samples_leaf=2, min_samples_split=2, n_estimators=1000, total=   3.9s\n",
      "[CV] bootstrap=True, max_depth=6, max_features=4, min_samples_leaf=2, min_samples_split=2, n_estimators=1000 \n",
      "[CV]  bootstrap=True, max_depth=6, max_features=4, min_samples_leaf=2, min_samples_split=2, n_estimators=1000, total=   3.8s\n",
      "[CV] bootstrap=True, max_depth=6, max_features=4, min_samples_leaf=2, min_samples_split=2, n_estimators=1000 \n",
      "[CV]  bootstrap=True, max_depth=6, max_features=4, min_samples_leaf=2, min_samples_split=2, n_estimators=1000, total=   4.1s\n",
      "[CV] bootstrap=True, max_depth=6, max_features=4, min_samples_leaf=2, min_samples_split=4, n_estimators=100 \n",
      "[CV]  bootstrap=True, max_depth=6, max_features=4, min_samples_leaf=2, min_samples_split=4, n_estimators=100, total=   0.4s\n",
      "[CV] bootstrap=True, max_depth=6, max_features=4, min_samples_leaf=2, min_samples_split=4, n_estimators=100 \n",
      "[CV]  bootstrap=True, max_depth=6, max_features=4, min_samples_leaf=2, min_samples_split=4, n_estimators=100, total=   0.4s\n",
      "[CV] bootstrap=True, max_depth=6, max_features=4, min_samples_leaf=2, min_samples_split=4, n_estimators=100 \n",
      "[CV]  bootstrap=True, max_depth=6, max_features=4, min_samples_leaf=2, min_samples_split=4, n_estimators=100, total=   0.4s\n",
      "[CV] bootstrap=True, max_depth=6, max_features=4, min_samples_leaf=2, min_samples_split=4, n_estimators=200 \n",
      "[CV]  bootstrap=True, max_depth=6, max_features=4, min_samples_leaf=2, min_samples_split=4, n_estimators=200, total=   0.9s\n",
      "[CV] bootstrap=True, max_depth=6, max_features=4, min_samples_leaf=2, min_samples_split=4, n_estimators=200 \n",
      "[CV]  bootstrap=True, max_depth=6, max_features=4, min_samples_leaf=2, min_samples_split=4, n_estimators=200, total=   0.8s\n",
      "[CV] bootstrap=True, max_depth=6, max_features=4, min_samples_leaf=2, min_samples_split=4, n_estimators=200 \n",
      "[CV]  bootstrap=True, max_depth=6, max_features=4, min_samples_leaf=2, min_samples_split=4, n_estimators=200, total=   0.8s\n",
      "[CV] bootstrap=True, max_depth=6, max_features=4, min_samples_leaf=2, min_samples_split=4, n_estimators=300 \n",
      "[CV]  bootstrap=True, max_depth=6, max_features=4, min_samples_leaf=2, min_samples_split=4, n_estimators=300, total=   1.2s\n",
      "[CV] bootstrap=True, max_depth=6, max_features=4, min_samples_leaf=2, min_samples_split=4, n_estimators=300 \n",
      "[CV]  bootstrap=True, max_depth=6, max_features=4, min_samples_leaf=2, min_samples_split=4, n_estimators=300, total=   1.2s\n",
      "[CV] bootstrap=True, max_depth=6, max_features=4, min_samples_leaf=2, min_samples_split=4, n_estimators=300 \n",
      "[CV]  bootstrap=True, max_depth=6, max_features=4, min_samples_leaf=2, min_samples_split=4, n_estimators=300, total=   1.2s\n",
      "[CV] bootstrap=True, max_depth=6, max_features=4, min_samples_leaf=2, min_samples_split=4, n_estimators=1000 \n",
      "[CV]  bootstrap=True, max_depth=6, max_features=4, min_samples_leaf=2, min_samples_split=4, n_estimators=1000, total=   4.0s\n",
      "[CV] bootstrap=True, max_depth=6, max_features=4, min_samples_leaf=2, min_samples_split=4, n_estimators=1000 \n",
      "[CV]  bootstrap=True, max_depth=6, max_features=4, min_samples_leaf=2, min_samples_split=4, n_estimators=1000, total=   4.2s\n",
      "[CV] bootstrap=True, max_depth=6, max_features=4, min_samples_leaf=2, min_samples_split=4, n_estimators=1000 \n",
      "[CV]  bootstrap=True, max_depth=6, max_features=4, min_samples_leaf=2, min_samples_split=4, n_estimators=1000, total=   4.2s\n",
      "[CV] bootstrap=True, max_depth=6, max_features=4, min_samples_leaf=4, min_samples_split=2, n_estimators=100 \n",
      "[CV]  bootstrap=True, max_depth=6, max_features=4, min_samples_leaf=4, min_samples_split=2, n_estimators=100, total=   0.5s\n",
      "[CV] bootstrap=True, max_depth=6, max_features=4, min_samples_leaf=4, min_samples_split=2, n_estimators=100 \n"
     ]
    },
    {
     "name": "stdout",
     "output_type": "stream",
     "text": [
      "[CV]  bootstrap=True, max_depth=6, max_features=4, min_samples_leaf=4, min_samples_split=2, n_estimators=100, total=   0.5s\n",
      "[CV] bootstrap=True, max_depth=6, max_features=4, min_samples_leaf=4, min_samples_split=2, n_estimators=100 \n",
      "[CV]  bootstrap=True, max_depth=6, max_features=4, min_samples_leaf=4, min_samples_split=2, n_estimators=100, total=   0.5s\n",
      "[CV] bootstrap=True, max_depth=6, max_features=4, min_samples_leaf=4, min_samples_split=2, n_estimators=200 \n",
      "[CV]  bootstrap=True, max_depth=6, max_features=4, min_samples_leaf=4, min_samples_split=2, n_estimators=200, total=   0.9s\n",
      "[CV] bootstrap=True, max_depth=6, max_features=4, min_samples_leaf=4, min_samples_split=2, n_estimators=200 \n",
      "[CV]  bootstrap=True, max_depth=6, max_features=4, min_samples_leaf=4, min_samples_split=2, n_estimators=200, total=   0.9s\n",
      "[CV] bootstrap=True, max_depth=6, max_features=4, min_samples_leaf=4, min_samples_split=2, n_estimators=200 \n",
      "[CV]  bootstrap=True, max_depth=6, max_features=4, min_samples_leaf=4, min_samples_split=2, n_estimators=200, total=   0.9s\n",
      "[CV] bootstrap=True, max_depth=6, max_features=4, min_samples_leaf=4, min_samples_split=2, n_estimators=300 \n",
      "[CV]  bootstrap=True, max_depth=6, max_features=4, min_samples_leaf=4, min_samples_split=2, n_estimators=300, total=   1.3s\n",
      "[CV] bootstrap=True, max_depth=6, max_features=4, min_samples_leaf=4, min_samples_split=2, n_estimators=300 \n",
      "[CV]  bootstrap=True, max_depth=6, max_features=4, min_samples_leaf=4, min_samples_split=2, n_estimators=300, total=   1.4s\n",
      "[CV] bootstrap=True, max_depth=6, max_features=4, min_samples_leaf=4, min_samples_split=2, n_estimators=300 \n",
      "[CV]  bootstrap=True, max_depth=6, max_features=4, min_samples_leaf=4, min_samples_split=2, n_estimators=300, total=   1.5s\n",
      "[CV] bootstrap=True, max_depth=6, max_features=4, min_samples_leaf=4, min_samples_split=2, n_estimators=1000 \n",
      "[CV]  bootstrap=True, max_depth=6, max_features=4, min_samples_leaf=4, min_samples_split=2, n_estimators=1000, total=   4.0s\n",
      "[CV] bootstrap=True, max_depth=6, max_features=4, min_samples_leaf=4, min_samples_split=2, n_estimators=1000 \n",
      "[CV]  bootstrap=True, max_depth=6, max_features=4, min_samples_leaf=4, min_samples_split=2, n_estimators=1000, total=   3.9s\n",
      "[CV] bootstrap=True, max_depth=6, max_features=4, min_samples_leaf=4, min_samples_split=2, n_estimators=1000 \n",
      "[CV]  bootstrap=True, max_depth=6, max_features=4, min_samples_leaf=4, min_samples_split=2, n_estimators=1000, total=   4.0s\n",
      "[CV] bootstrap=True, max_depth=6, max_features=4, min_samples_leaf=4, min_samples_split=4, n_estimators=100 \n",
      "[CV]  bootstrap=True, max_depth=6, max_features=4, min_samples_leaf=4, min_samples_split=4, n_estimators=100, total=   0.4s\n",
      "[CV] bootstrap=True, max_depth=6, max_features=4, min_samples_leaf=4, min_samples_split=4, n_estimators=100 \n",
      "[CV]  bootstrap=True, max_depth=6, max_features=4, min_samples_leaf=4, min_samples_split=4, n_estimators=100, total=   0.5s\n",
      "[CV] bootstrap=True, max_depth=6, max_features=4, min_samples_leaf=4, min_samples_split=4, n_estimators=100 \n",
      "[CV]  bootstrap=True, max_depth=6, max_features=4, min_samples_leaf=4, min_samples_split=4, n_estimators=100, total=   0.5s\n",
      "[CV] bootstrap=True, max_depth=6, max_features=4, min_samples_leaf=4, min_samples_split=4, n_estimators=200 \n",
      "[CV]  bootstrap=True, max_depth=6, max_features=4, min_samples_leaf=4, min_samples_split=4, n_estimators=200, total=   0.8s\n",
      "[CV] bootstrap=True, max_depth=6, max_features=4, min_samples_leaf=4, min_samples_split=4, n_estimators=200 \n",
      "[CV]  bootstrap=True, max_depth=6, max_features=4, min_samples_leaf=4, min_samples_split=4, n_estimators=200, total=   0.8s\n",
      "[CV] bootstrap=True, max_depth=6, max_features=4, min_samples_leaf=4, min_samples_split=4, n_estimators=200 \n",
      "[CV]  bootstrap=True, max_depth=6, max_features=4, min_samples_leaf=4, min_samples_split=4, n_estimators=200, total=   0.8s\n",
      "[CV] bootstrap=True, max_depth=6, max_features=4, min_samples_leaf=4, min_samples_split=4, n_estimators=300 \n",
      "[CV]  bootstrap=True, max_depth=6, max_features=4, min_samples_leaf=4, min_samples_split=4, n_estimators=300, total=   1.2s\n",
      "[CV] bootstrap=True, max_depth=6, max_features=4, min_samples_leaf=4, min_samples_split=4, n_estimators=300 \n",
      "[CV]  bootstrap=True, max_depth=6, max_features=4, min_samples_leaf=4, min_samples_split=4, n_estimators=300, total=   1.2s\n",
      "[CV] bootstrap=True, max_depth=6, max_features=4, min_samples_leaf=4, min_samples_split=4, n_estimators=300 \n",
      "[CV]  bootstrap=True, max_depth=6, max_features=4, min_samples_leaf=4, min_samples_split=4, n_estimators=300, total=   1.2s\n",
      "[CV] bootstrap=True, max_depth=6, max_features=4, min_samples_leaf=4, min_samples_split=4, n_estimators=1000 \n",
      "[CV]  bootstrap=True, max_depth=6, max_features=4, min_samples_leaf=4, min_samples_split=4, n_estimators=1000, total=   4.1s\n",
      "[CV] bootstrap=True, max_depth=6, max_features=4, min_samples_leaf=4, min_samples_split=4, n_estimators=1000 \n",
      "[CV]  bootstrap=True, max_depth=6, max_features=4, min_samples_leaf=4, min_samples_split=4, n_estimators=1000, total=   3.9s\n",
      "[CV] bootstrap=True, max_depth=6, max_features=4, min_samples_leaf=4, min_samples_split=4, n_estimators=1000 \n",
      "[CV]  bootstrap=True, max_depth=6, max_features=4, min_samples_leaf=4, min_samples_split=4, n_estimators=1000, total=   3.8s\n",
      "[CV] bootstrap=True, max_depth=6, max_features=6, min_samples_leaf=2, min_samples_split=2, n_estimators=100 \n",
      "[CV]  bootstrap=True, max_depth=6, max_features=6, min_samples_leaf=2, min_samples_split=2, n_estimators=100, total=   0.6s\n",
      "[CV] bootstrap=True, max_depth=6, max_features=6, min_samples_leaf=2, min_samples_split=2, n_estimators=100 \n",
      "[CV]  bootstrap=True, max_depth=6, max_features=6, min_samples_leaf=2, min_samples_split=2, n_estimators=100, total=   0.6s\n",
      "[CV] bootstrap=True, max_depth=6, max_features=6, min_samples_leaf=2, min_samples_split=2, n_estimators=100 \n",
      "[CV]  bootstrap=True, max_depth=6, max_features=6, min_samples_leaf=2, min_samples_split=2, n_estimators=100, total=   0.5s\n",
      "[CV] bootstrap=True, max_depth=6, max_features=6, min_samples_leaf=2, min_samples_split=2, n_estimators=200 \n",
      "[CV]  bootstrap=True, max_depth=6, max_features=6, min_samples_leaf=2, min_samples_split=2, n_estimators=200, total=   1.1s\n",
      "[CV] bootstrap=True, max_depth=6, max_features=6, min_samples_leaf=2, min_samples_split=2, n_estimators=200 \n",
      "[CV]  bootstrap=True, max_depth=6, max_features=6, min_samples_leaf=2, min_samples_split=2, n_estimators=200, total=   1.0s\n",
      "[CV] bootstrap=True, max_depth=6, max_features=6, min_samples_leaf=2, min_samples_split=2, n_estimators=200 \n",
      "[CV]  bootstrap=True, max_depth=6, max_features=6, min_samples_leaf=2, min_samples_split=2, n_estimators=200, total=   1.0s\n",
      "[CV] bootstrap=True, max_depth=6, max_features=6, min_samples_leaf=2, min_samples_split=2, n_estimators=300 \n",
      "[CV]  bootstrap=True, max_depth=6, max_features=6, min_samples_leaf=2, min_samples_split=2, n_estimators=300, total=   1.4s\n",
      "[CV] bootstrap=True, max_depth=6, max_features=6, min_samples_leaf=2, min_samples_split=2, n_estimators=300 \n",
      "[CV]  bootstrap=True, max_depth=6, max_features=6, min_samples_leaf=2, min_samples_split=2, n_estimators=300, total=   1.5s\n",
      "[CV] bootstrap=True, max_depth=6, max_features=6, min_samples_leaf=2, min_samples_split=2, n_estimators=300 \n",
      "[CV]  bootstrap=True, max_depth=6, max_features=6, min_samples_leaf=2, min_samples_split=2, n_estimators=300, total=   1.6s\n",
      "[CV] bootstrap=True, max_depth=6, max_features=6, min_samples_leaf=2, min_samples_split=2, n_estimators=1000 \n",
      "[CV]  bootstrap=True, max_depth=6, max_features=6, min_samples_leaf=2, min_samples_split=2, n_estimators=1000, total=   5.2s\n",
      "[CV] bootstrap=True, max_depth=6, max_features=6, min_samples_leaf=2, min_samples_split=2, n_estimators=1000 \n",
      "[CV]  bootstrap=True, max_depth=6, max_features=6, min_samples_leaf=2, min_samples_split=2, n_estimators=1000, total=   5.2s\n",
      "[CV] bootstrap=True, max_depth=6, max_features=6, min_samples_leaf=2, min_samples_split=2, n_estimators=1000 \n",
      "[CV]  bootstrap=True, max_depth=6, max_features=6, min_samples_leaf=2, min_samples_split=2, n_estimators=1000, total=   5.1s\n",
      "[CV] bootstrap=True, max_depth=6, max_features=6, min_samples_leaf=2, min_samples_split=4, n_estimators=100 \n",
      "[CV]  bootstrap=True, max_depth=6, max_features=6, min_samples_leaf=2, min_samples_split=4, n_estimators=100, total=   0.5s\n",
      "[CV] bootstrap=True, max_depth=6, max_features=6, min_samples_leaf=2, min_samples_split=4, n_estimators=100 \n"
     ]
    },
    {
     "name": "stdout",
     "output_type": "stream",
     "text": [
      "[CV]  bootstrap=True, max_depth=6, max_features=6, min_samples_leaf=2, min_samples_split=4, n_estimators=100, total=   0.5s\n",
      "[CV] bootstrap=True, max_depth=6, max_features=6, min_samples_leaf=2, min_samples_split=4, n_estimators=100 \n",
      "[CV]  bootstrap=True, max_depth=6, max_features=6, min_samples_leaf=2, min_samples_split=4, n_estimators=100, total=   0.5s\n",
      "[CV] bootstrap=True, max_depth=6, max_features=6, min_samples_leaf=2, min_samples_split=4, n_estimators=200 \n",
      "[CV]  bootstrap=True, max_depth=6, max_features=6, min_samples_leaf=2, min_samples_split=4, n_estimators=200, total=   1.0s\n",
      "[CV] bootstrap=True, max_depth=6, max_features=6, min_samples_leaf=2, min_samples_split=4, n_estimators=200 \n",
      "[CV]  bootstrap=True, max_depth=6, max_features=6, min_samples_leaf=2, min_samples_split=4, n_estimators=200, total=   1.0s\n",
      "[CV] bootstrap=True, max_depth=6, max_features=6, min_samples_leaf=2, min_samples_split=4, n_estimators=200 \n",
      "[CV]  bootstrap=True, max_depth=6, max_features=6, min_samples_leaf=2, min_samples_split=4, n_estimators=200, total=   1.1s\n",
      "[CV] bootstrap=True, max_depth=6, max_features=6, min_samples_leaf=2, min_samples_split=4, n_estimators=300 \n",
      "[CV]  bootstrap=True, max_depth=6, max_features=6, min_samples_leaf=2, min_samples_split=4, n_estimators=300, total=   1.6s\n",
      "[CV] bootstrap=True, max_depth=6, max_features=6, min_samples_leaf=2, min_samples_split=4, n_estimators=300 \n",
      "[CV]  bootstrap=True, max_depth=6, max_features=6, min_samples_leaf=2, min_samples_split=4, n_estimators=300, total=   1.5s\n",
      "[CV] bootstrap=True, max_depth=6, max_features=6, min_samples_leaf=2, min_samples_split=4, n_estimators=300 \n",
      "[CV]  bootstrap=True, max_depth=6, max_features=6, min_samples_leaf=2, min_samples_split=4, n_estimators=300, total=   1.5s\n",
      "[CV] bootstrap=True, max_depth=6, max_features=6, min_samples_leaf=2, min_samples_split=4, n_estimators=1000 \n",
      "[CV]  bootstrap=True, max_depth=6, max_features=6, min_samples_leaf=2, min_samples_split=4, n_estimators=1000, total=   5.1s\n",
      "[CV] bootstrap=True, max_depth=6, max_features=6, min_samples_leaf=2, min_samples_split=4, n_estimators=1000 \n",
      "[CV]  bootstrap=True, max_depth=6, max_features=6, min_samples_leaf=2, min_samples_split=4, n_estimators=1000, total=   5.0s\n",
      "[CV] bootstrap=True, max_depth=6, max_features=6, min_samples_leaf=2, min_samples_split=4, n_estimators=1000 \n",
      "[CV]  bootstrap=True, max_depth=6, max_features=6, min_samples_leaf=2, min_samples_split=4, n_estimators=1000, total=   5.1s\n",
      "[CV] bootstrap=True, max_depth=6, max_features=6, min_samples_leaf=4, min_samples_split=2, n_estimators=100 \n",
      "[CV]  bootstrap=True, max_depth=6, max_features=6, min_samples_leaf=4, min_samples_split=2, n_estimators=100, total=   0.6s\n",
      "[CV] bootstrap=True, max_depth=6, max_features=6, min_samples_leaf=4, min_samples_split=2, n_estimators=100 \n",
      "[CV]  bootstrap=True, max_depth=6, max_features=6, min_samples_leaf=4, min_samples_split=2, n_estimators=100, total=   0.5s\n",
      "[CV] bootstrap=True, max_depth=6, max_features=6, min_samples_leaf=4, min_samples_split=2, n_estimators=100 \n",
      "[CV]  bootstrap=True, max_depth=6, max_features=6, min_samples_leaf=4, min_samples_split=2, n_estimators=100, total=   0.5s\n",
      "[CV] bootstrap=True, max_depth=6, max_features=6, min_samples_leaf=4, min_samples_split=2, n_estimators=200 \n",
      "[CV]  bootstrap=True, max_depth=6, max_features=6, min_samples_leaf=4, min_samples_split=2, n_estimators=200, total=   1.0s\n",
      "[CV] bootstrap=True, max_depth=6, max_features=6, min_samples_leaf=4, min_samples_split=2, n_estimators=200 \n",
      "[CV]  bootstrap=True, max_depth=6, max_features=6, min_samples_leaf=4, min_samples_split=2, n_estimators=200, total=   1.0s\n",
      "[CV] bootstrap=True, max_depth=6, max_features=6, min_samples_leaf=4, min_samples_split=2, n_estimators=200 \n",
      "[CV]  bootstrap=True, max_depth=6, max_features=6, min_samples_leaf=4, min_samples_split=2, n_estimators=200, total=   1.1s\n",
      "[CV] bootstrap=True, max_depth=6, max_features=6, min_samples_leaf=4, min_samples_split=2, n_estimators=300 \n",
      "[CV]  bootstrap=True, max_depth=6, max_features=6, min_samples_leaf=4, min_samples_split=2, n_estimators=300, total=   1.5s\n",
      "[CV] bootstrap=True, max_depth=6, max_features=6, min_samples_leaf=4, min_samples_split=2, n_estimators=300 \n",
      "[CV]  bootstrap=True, max_depth=6, max_features=6, min_samples_leaf=4, min_samples_split=2, n_estimators=300, total=   1.5s\n",
      "[CV] bootstrap=True, max_depth=6, max_features=6, min_samples_leaf=4, min_samples_split=2, n_estimators=300 \n",
      "[CV]  bootstrap=True, max_depth=6, max_features=6, min_samples_leaf=4, min_samples_split=2, n_estimators=300, total=   1.5s\n",
      "[CV] bootstrap=True, max_depth=6, max_features=6, min_samples_leaf=4, min_samples_split=2, n_estimators=1000 \n",
      "[CV]  bootstrap=True, max_depth=6, max_features=6, min_samples_leaf=4, min_samples_split=2, n_estimators=1000, total=   5.2s\n",
      "[CV] bootstrap=True, max_depth=6, max_features=6, min_samples_leaf=4, min_samples_split=2, n_estimators=1000 \n",
      "[CV]  bootstrap=True, max_depth=6, max_features=6, min_samples_leaf=4, min_samples_split=2, n_estimators=1000, total=   5.1s\n",
      "[CV] bootstrap=True, max_depth=6, max_features=6, min_samples_leaf=4, min_samples_split=2, n_estimators=1000 \n",
      "[CV]  bootstrap=True, max_depth=6, max_features=6, min_samples_leaf=4, min_samples_split=2, n_estimators=1000, total=   5.2s\n",
      "[CV] bootstrap=True, max_depth=6, max_features=6, min_samples_leaf=4, min_samples_split=4, n_estimators=100 \n",
      "[CV]  bootstrap=True, max_depth=6, max_features=6, min_samples_leaf=4, min_samples_split=4, n_estimators=100, total=   0.5s\n",
      "[CV] bootstrap=True, max_depth=6, max_features=6, min_samples_leaf=4, min_samples_split=4, n_estimators=100 \n",
      "[CV]  bootstrap=True, max_depth=6, max_features=6, min_samples_leaf=4, min_samples_split=4, n_estimators=100, total=   0.5s\n",
      "[CV] bootstrap=True, max_depth=6, max_features=6, min_samples_leaf=4, min_samples_split=4, n_estimators=100 \n",
      "[CV]  bootstrap=True, max_depth=6, max_features=6, min_samples_leaf=4, min_samples_split=4, n_estimators=100, total=   0.6s\n",
      "[CV] bootstrap=True, max_depth=6, max_features=6, min_samples_leaf=4, min_samples_split=4, n_estimators=200 \n",
      "[CV]  bootstrap=True, max_depth=6, max_features=6, min_samples_leaf=4, min_samples_split=4, n_estimators=200, total=   1.1s\n",
      "[CV] bootstrap=True, max_depth=6, max_features=6, min_samples_leaf=4, min_samples_split=4, n_estimators=200 \n",
      "[CV]  bootstrap=True, max_depth=6, max_features=6, min_samples_leaf=4, min_samples_split=4, n_estimators=200, total=   1.0s\n",
      "[CV] bootstrap=True, max_depth=6, max_features=6, min_samples_leaf=4, min_samples_split=4, n_estimators=200 \n",
      "[CV]  bootstrap=True, max_depth=6, max_features=6, min_samples_leaf=4, min_samples_split=4, n_estimators=200, total=   1.0s\n",
      "[CV] bootstrap=True, max_depth=6, max_features=6, min_samples_leaf=4, min_samples_split=4, n_estimators=300 \n",
      "[CV]  bootstrap=True, max_depth=6, max_features=6, min_samples_leaf=4, min_samples_split=4, n_estimators=300, total=   1.6s\n",
      "[CV] bootstrap=True, max_depth=6, max_features=6, min_samples_leaf=4, min_samples_split=4, n_estimators=300 \n",
      "[CV]  bootstrap=True, max_depth=6, max_features=6, min_samples_leaf=4, min_samples_split=4, n_estimators=300, total=   1.6s\n",
      "[CV] bootstrap=True, max_depth=6, max_features=6, min_samples_leaf=4, min_samples_split=4, n_estimators=300 \n",
      "[CV]  bootstrap=True, max_depth=6, max_features=6, min_samples_leaf=4, min_samples_split=4, n_estimators=300, total=   1.5s\n",
      "[CV] bootstrap=True, max_depth=6, max_features=6, min_samples_leaf=4, min_samples_split=4, n_estimators=1000 \n",
      "[CV]  bootstrap=True, max_depth=6, max_features=6, min_samples_leaf=4, min_samples_split=4, n_estimators=1000, total=   5.0s\n",
      "[CV] bootstrap=True, max_depth=6, max_features=6, min_samples_leaf=4, min_samples_split=4, n_estimators=1000 \n",
      "[CV]  bootstrap=True, max_depth=6, max_features=6, min_samples_leaf=4, min_samples_split=4, n_estimators=1000, total=   5.1s\n",
      "[CV] bootstrap=True, max_depth=6, max_features=6, min_samples_leaf=4, min_samples_split=4, n_estimators=1000 \n",
      "[CV]  bootstrap=True, max_depth=6, max_features=6, min_samples_leaf=4, min_samples_split=4, n_estimators=1000, total=   5.0s\n"
     ]
    },
    {
     "name": "stderr",
     "output_type": "stream",
     "text": [
      "[Parallel(n_jobs=1)]: Done 432 out of 432 | elapsed:  9.4min finished\n"
     ]
    },
    {
     "data": {
      "text/plain": [
       "GridSearchCV(cv=3, error_score=nan,\n",
       "             estimator=RandomForestClassifier(bootstrap=True, ccp_alpha=0.0,\n",
       "                                              class_weight=None,\n",
       "                                              criterion='gini', max_depth=None,\n",
       "                                              max_features='auto',\n",
       "                                              max_leaf_nodes=None,\n",
       "                                              max_samples=None,\n",
       "                                              min_impurity_decrease=0.0,\n",
       "                                              min_impurity_split=None,\n",
       "                                              min_samples_leaf=1,\n",
       "                                              min_samples_split=2,\n",
       "                                              min_weight_fraction_leaf=0.0,\n",
       "                                              n_estimators=100, n_jobs=None,\n",
       "                                              oob_score=False,\n",
       "                                              random_state=None, verbose=0,\n",
       "                                              warm_start=False),\n",
       "             iid='deprecated', n_jobs=None,\n",
       "             param_grid={'bootstrap': [True], 'max_depth': [2, 4, 6],\n",
       "                         'max_features': [2, 4, 6], 'min_samples_leaf': [2, 4],\n",
       "                         'min_samples_split': [2, 4],\n",
       "                         'n_estimators': [100, 200, 300, 1000]},\n",
       "             pre_dispatch='2*n_jobs', refit=True, return_train_score=False,\n",
       "             scoring=None, verbose=2)"
      ]
     },
     "execution_count": 396,
     "metadata": {},
     "output_type": "execute_result"
    }
   ],
   "source": [
    "# Fit the grid search to the data\n",
    "grid_search.fit(X_train, y_train)"
   ]
  },
  {
   "cell_type": "code",
   "execution_count": 397,
   "metadata": {},
   "outputs": [
    {
     "data": {
      "text/plain": [
       "{'bootstrap': True,\n",
       " 'max_depth': 6,\n",
       " 'max_features': 6,\n",
       " 'min_samples_leaf': 2,\n",
       " 'min_samples_split': 4,\n",
       " 'n_estimators': 100}"
      ]
     },
     "execution_count": 397,
     "metadata": {},
     "output_type": "execute_result"
    }
   ],
   "source": [
    "grid_search.best_params_"
   ]
  },
  {
   "cell_type": "code",
   "execution_count": 405,
   "metadata": {},
   "outputs": [
    {
     "data": {
      "text/plain": [
       "RandomForestClassifier(bootstrap=True, ccp_alpha=0.0, class_weight=None,\n",
       "                       criterion='gini', max_depth=6, max_features=6,\n",
       "                       max_leaf_nodes=None, max_samples=None,\n",
       "                       min_impurity_decrease=0.0, min_impurity_split=None,\n",
       "                       min_samples_leaf=2, min_samples_split=4,\n",
       "                       min_weight_fraction_leaf=0.0, n_estimators=100,\n",
       "                       n_jobs=None, oob_score=False, random_state=None,\n",
       "                       verbose=0, warm_start=False)"
      ]
     },
     "execution_count": 405,
     "metadata": {},
     "output_type": "execute_result"
    }
   ],
   "source": [
    "grid_search.best_estimator_"
   ]
  },
  {
   "cell_type": "markdown",
   "metadata": {},
   "source": [
    "___"
   ]
  },
  {
   "cell_type": "markdown",
   "metadata": {},
   "source": [
    "## Predict Test Data"
   ]
  },
  {
   "cell_type": "markdown",
   "metadata": {},
   "source": [
    "### Baseline Random Forest Model"
   ]
  },
  {
   "cell_type": "code",
   "execution_count": 415,
   "metadata": {},
   "outputs": [
    {
     "data": {
      "text/plain": [
       "0.84412265758092"
      ]
     },
     "execution_count": 415,
     "metadata": {},
     "output_type": "execute_result"
    }
   ],
   "source": [
    "base_model.score(X_test, y_test)"
   ]
  },
  {
   "cell_type": "code",
   "execution_count": 436,
   "metadata": {},
   "outputs": [],
   "source": [
    "base_predictions = base_model.predict(X_test)"
   ]
  },
  {
   "cell_type": "code",
   "execution_count": 418,
   "metadata": {},
   "outputs": [
    {
     "data": {
      "text/html": [
       "<div>\n",
       "<style scoped>\n",
       "    .dataframe tbody tr th:only-of-type {\n",
       "        vertical-align: middle;\n",
       "    }\n",
       "\n",
       "    .dataframe tbody tr th {\n",
       "        vertical-align: top;\n",
       "    }\n",
       "\n",
       "    .dataframe thead th {\n",
       "        text-align: right;\n",
       "    }\n",
       "</style>\n",
       "<table border=\"1\" class=\"dataframe\">\n",
       "  <thead>\n",
       "    <tr style=\"text-align: right;\">\n",
       "      <th></th>\n",
       "      <th>predicted 0</th>\n",
       "      <th>predicted 1</th>\n",
       "      <th>predicted 2</th>\n",
       "    </tr>\n",
       "  </thead>\n",
       "  <tbody>\n",
       "    <tr>\n",
       "      <td>actual 0</td>\n",
       "      <td>1877</td>\n",
       "      <td>22</td>\n",
       "      <td>33</td>\n",
       "    </tr>\n",
       "    <tr>\n",
       "      <td>actual 1</td>\n",
       "      <td>151</td>\n",
       "      <td>51</td>\n",
       "      <td>43</td>\n",
       "    </tr>\n",
       "    <tr>\n",
       "      <td>actual 2</td>\n",
       "      <td>113</td>\n",
       "      <td>4</td>\n",
       "      <td>54</td>\n",
       "    </tr>\n",
       "  </tbody>\n",
       "</table>\n",
       "</div>"
      ],
      "text/plain": [
       "          predicted 0  predicted 1  predicted 2\n",
       "actual 0         1877           22           33\n",
       "actual 1          151           51           43\n",
       "actual 2          113            4           54"
      ]
     },
     "execution_count": 418,
     "metadata": {},
     "output_type": "execute_result"
    }
   ],
   "source": [
    "base_conf_matrix = pd.DataFrame(confusion_matrix(y_test, base_predictions), index = ['actual 0', 'actual 1', 'actual 2'], \n",
    "             columns = ['predicted 0', 'predicted 1', 'predicted 2'])\n",
    "base_conf_matrix"
   ]
  },
  {
   "cell_type": "code",
   "execution_count": 420,
   "metadata": {},
   "outputs": [
    {
     "data": {
      "text/plain": [
       "actual 0    0.835179\n",
       "actual 1    0.839438\n",
       "actual 2    0.844123\n",
       "Name: predicted 2, dtype: float64"
      ]
     },
     "execution_count": 420,
     "metadata": {},
     "output_type": "execute_result"
    }
   ],
   "source": [
    "## accuracy\n",
    "(conf_matrix['predicted 0'][0] + conf_matrix['predicted 1'][1] + conf_matrix['predicted 2']) / len(predictions)"
   ]
  },
  {
   "cell_type": "markdown",
   "metadata": {},
   "source": [
    "### Hyperparameter Tuned Random Forest Model"
   ]
  },
  {
   "cell_type": "code",
   "execution_count": 427,
   "metadata": {},
   "outputs": [
    {
     "data": {
      "text/plain": [
       "0.8228279386712095"
      ]
     },
     "execution_count": 427,
     "metadata": {},
     "output_type": "execute_result"
    }
   ],
   "source": [
    "tuned_model = grid_search.best_estimator_\n",
    "tuned_model.score(X_test, y_test)"
   ]
  },
  {
   "cell_type": "code",
   "execution_count": 428,
   "metadata": {},
   "outputs": [],
   "source": [
    "tuned_predictions = tuned_model.predict(X_test)"
   ]
  },
  {
   "cell_type": "code",
   "execution_count": 429,
   "metadata": {},
   "outputs": [
    {
     "data": {
      "text/html": [
       "<div>\n",
       "<style scoped>\n",
       "    .dataframe tbody tr th:only-of-type {\n",
       "        vertical-align: middle;\n",
       "    }\n",
       "\n",
       "    .dataframe tbody tr th {\n",
       "        vertical-align: top;\n",
       "    }\n",
       "\n",
       "    .dataframe thead th {\n",
       "        text-align: right;\n",
       "    }\n",
       "</style>\n",
       "<table border=\"1\" class=\"dataframe\">\n",
       "  <thead>\n",
       "    <tr style=\"text-align: right;\">\n",
       "      <th></th>\n",
       "      <th>predicted 0</th>\n",
       "      <th>predicted 1</th>\n",
       "      <th>predicted 2</th>\n",
       "    </tr>\n",
       "  </thead>\n",
       "  <tbody>\n",
       "    <tr>\n",
       "      <td>actual 0</td>\n",
       "      <td>1932</td>\n",
       "      <td>0</td>\n",
       "      <td>0</td>\n",
       "    </tr>\n",
       "    <tr>\n",
       "      <td>actual 1</td>\n",
       "      <td>245</td>\n",
       "      <td>0</td>\n",
       "      <td>0</td>\n",
       "    </tr>\n",
       "    <tr>\n",
       "      <td>actual 2</td>\n",
       "      <td>171</td>\n",
       "      <td>0</td>\n",
       "      <td>0</td>\n",
       "    </tr>\n",
       "  </tbody>\n",
       "</table>\n",
       "</div>"
      ],
      "text/plain": [
       "          predicted 0  predicted 1  predicted 2\n",
       "actual 0         1932            0            0\n",
       "actual 1          245            0            0\n",
       "actual 2          171            0            0"
      ]
     },
     "execution_count": 429,
     "metadata": {},
     "output_type": "execute_result"
    }
   ],
   "source": [
    "tuned_conf_matrix = pd.DataFrame(confusion_matrix(y_test, tuned_predictions), index = ['actual 0', 'actual 1', 'actual 2'], \n",
    "             columns = ['predicted 0', 'predicted 1', 'predicted 2'])\n",
    "tuned_conf_matrix"
   ]
  },
  {
   "cell_type": "markdown",
   "metadata": {},
   "source": [
    "___"
   ]
  },
  {
   "cell_type": "markdown",
   "metadata": {},
   "source": [
    "## Feature Importances"
   ]
  },
  {
   "cell_type": "markdown",
   "metadata": {},
   "source": [
    "### Generate DataFrame Of Feature Importances"
   ]
  },
  {
   "cell_type": "code",
   "execution_count": 249,
   "metadata": {},
   "outputs": [
    {
     "data": {
      "text/html": [
       "<div>\n",
       "<style scoped>\n",
       "    .dataframe tbody tr th:only-of-type {\n",
       "        vertical-align: middle;\n",
       "    }\n",
       "\n",
       "    .dataframe tbody tr th {\n",
       "        vertical-align: top;\n",
       "    }\n",
       "\n",
       "    .dataframe thead th {\n",
       "        text-align: right;\n",
       "    }\n",
       "</style>\n",
       "<table border=\"1\" class=\"dataframe\">\n",
       "  <thead>\n",
       "    <tr style=\"text-align: right;\">\n",
       "      <th></th>\n",
       "      <th>Features</th>\n",
       "      <th>Gini-Importance</th>\n",
       "    </tr>\n",
       "  </thead>\n",
       "  <tbody>\n",
       "    <tr>\n",
       "      <td>0</td>\n",
       "      <td>deets_text_character_length</td>\n",
       "      <td>0.278415</td>\n",
       "    </tr>\n",
       "    <tr>\n",
       "      <td>1</td>\n",
       "      <td>tweets_user_favourites_count</td>\n",
       "      <td>0.236463</td>\n",
       "    </tr>\n",
       "    <tr>\n",
       "      <td>2</td>\n",
       "      <td>users_listed_count</td>\n",
       "      <td>0.124635</td>\n",
       "    </tr>\n",
       "    <tr>\n",
       "      <td>3</td>\n",
       "      <td>users_description_character_length</td>\n",
       "      <td>0.064278</td>\n",
       "    </tr>\n",
       "    <tr>\n",
       "      <td>4</td>\n",
       "      <td>tweets_user_statuses_count</td>\n",
       "      <td>0.050458</td>\n",
       "    </tr>\n",
       "    <tr>\n",
       "      <td>5</td>\n",
       "      <td>users_tweet_count</td>\n",
       "      <td>0.047235</td>\n",
       "    </tr>\n",
       "    <tr>\n",
       "      <td>6</td>\n",
       "      <td>users_following_count</td>\n",
       "      <td>0.034308</td>\n",
       "    </tr>\n",
       "    <tr>\n",
       "      <td>7</td>\n",
       "      <td>tweets_user_friends_count</td>\n",
       "      <td>0.032534</td>\n",
       "    </tr>\n",
       "    <tr>\n",
       "      <td>8</td>\n",
       "      <td>users_followers_count</td>\n",
       "      <td>0.030920</td>\n",
       "    </tr>\n",
       "    <tr>\n",
       "      <td>9</td>\n",
       "      <td>tweets_user_followers_count</td>\n",
       "      <td>0.030583</td>\n",
       "    </tr>\n",
       "    <tr>\n",
       "      <td>10</td>\n",
       "      <td>tweets_is_quote_status</td>\n",
       "      <td>0.013498</td>\n",
       "    </tr>\n",
       "    <tr>\n",
       "      <td>11</td>\n",
       "      <td>tweets_user_has_extended_profile</td>\n",
       "      <td>0.009722</td>\n",
       "    </tr>\n",
       "    <tr>\n",
       "      <td>12</td>\n",
       "      <td>tweets_user_geo_enabled</td>\n",
       "      <td>0.007831</td>\n",
       "    </tr>\n",
       "    <tr>\n",
       "      <td>13</td>\n",
       "      <td>tweets_user_profile_background_color_C0DEED</td>\n",
       "      <td>0.005662</td>\n",
       "    </tr>\n",
       "    <tr>\n",
       "      <td>14</td>\n",
       "      <td>deets_like_count</td>\n",
       "      <td>0.005289</td>\n",
       "    </tr>\n",
       "    <tr>\n",
       "      <td>15</td>\n",
       "      <td>tweets_user_default_profile_image</td>\n",
       "      <td>0.004159</td>\n",
       "    </tr>\n",
       "    <tr>\n",
       "      <td>16</td>\n",
       "      <td>tweets_favorite_count</td>\n",
       "      <td>0.004107</td>\n",
       "    </tr>\n",
       "    <tr>\n",
       "      <td>17</td>\n",
       "      <td>tweets_user_profile_text_color_333333</td>\n",
       "      <td>0.003647</td>\n",
       "    </tr>\n",
       "    <tr>\n",
       "      <td>18</td>\n",
       "      <td>tweets_user_profile_background_color_F5F8FA</td>\n",
       "      <td>0.003439</td>\n",
       "    </tr>\n",
       "    <tr>\n",
       "      <td>19</td>\n",
       "      <td>tweets_user_profile_text_color_000000</td>\n",
       "      <td>0.002329</td>\n",
       "    </tr>\n",
       "    <tr>\n",
       "      <td>20</td>\n",
       "      <td>tweets_user_profile_background_color_000000</td>\n",
       "      <td>0.002214</td>\n",
       "    </tr>\n",
       "    <tr>\n",
       "      <td>21</td>\n",
       "      <td>tweets_user_profile_use_background_image</td>\n",
       "      <td>0.001931</td>\n",
       "    </tr>\n",
       "    <tr>\n",
       "      <td>22</td>\n",
       "      <td>tweets_user_profile_text_color_666666</td>\n",
       "      <td>0.001913</td>\n",
       "    </tr>\n",
       "    <tr>\n",
       "      <td>23</td>\n",
       "      <td>deets_possibly_sensitive</td>\n",
       "      <td>0.001612</td>\n",
       "    </tr>\n",
       "    <tr>\n",
       "      <td>24</td>\n",
       "      <td>deets_quote_count</td>\n",
       "      <td>0.001353</td>\n",
       "    </tr>\n",
       "    <tr>\n",
       "      <td>25</td>\n",
       "      <td>deets_reply_count</td>\n",
       "      <td>0.001037</td>\n",
       "    </tr>\n",
       "    <tr>\n",
       "      <td>26</td>\n",
       "      <td>users_verified</td>\n",
       "      <td>0.000427</td>\n",
       "    </tr>\n",
       "    <tr>\n",
       "      <td>27</td>\n",
       "      <td>users_protected</td>\n",
       "      <td>0.000000</td>\n",
       "    </tr>\n",
       "  </tbody>\n",
       "</table>\n",
       "</div>"
      ],
      "text/plain": [
       "                                       Features  Gini-Importance\n",
       "0                   deets_text_character_length         0.278415\n",
       "1                  tweets_user_favourites_count         0.236463\n",
       "2                            users_listed_count         0.124635\n",
       "3            users_description_character_length         0.064278\n",
       "4                    tweets_user_statuses_count         0.050458\n",
       "5                             users_tweet_count         0.047235\n",
       "6                         users_following_count         0.034308\n",
       "7                     tweets_user_friends_count         0.032534\n",
       "8                         users_followers_count         0.030920\n",
       "9                   tweets_user_followers_count         0.030583\n",
       "10                       tweets_is_quote_status         0.013498\n",
       "11             tweets_user_has_extended_profile         0.009722\n",
       "12                      tweets_user_geo_enabled         0.007831\n",
       "13  tweets_user_profile_background_color_C0DEED         0.005662\n",
       "14                             deets_like_count         0.005289\n",
       "15            tweets_user_default_profile_image         0.004159\n",
       "16                        tweets_favorite_count         0.004107\n",
       "17        tweets_user_profile_text_color_333333         0.003647\n",
       "18  tweets_user_profile_background_color_F5F8FA         0.003439\n",
       "19        tweets_user_profile_text_color_000000         0.002329\n",
       "20  tweets_user_profile_background_color_000000         0.002214\n",
       "21     tweets_user_profile_use_background_image         0.001931\n",
       "22        tweets_user_profile_text_color_666666         0.001913\n",
       "23                     deets_possibly_sensitive         0.001612\n",
       "24                            deets_quote_count         0.001353\n",
       "25                            deets_reply_count         0.001037\n",
       "26                               users_verified         0.000427\n",
       "27                              users_protected         0.000000"
      ]
     },
     "execution_count": 249,
     "metadata": {},
     "output_type": "execute_result"
    }
   ],
   "source": [
    "feats = {} # create an empty dictionary to hold {feature_name: feature_importance}\n",
    "for feature, importance in zip(X.columns, clf.feature_importances_):\n",
    "    feats[feature] = importance #key/value pair\n",
    "\n",
    "importances = pd.DataFrame.from_dict(feats, orient='index').rename(columns={0: 'Gini-Importance'})\n",
    "importances = importances.sort_values(by='Gini-Importance', ascending=False)\n",
    "importances = importances.reset_index()\n",
    "importances = importances.rename(columns={'index': 'Features'})\n",
    "importances"
   ]
  },
  {
   "cell_type": "markdown",
   "metadata": {},
   "source": [
    "### Plot Feature Importances"
   ]
  },
  {
   "cell_type": "code",
   "execution_count": 260,
   "metadata": {},
   "outputs": [
    {
     "data": {
      "image/png": "[encoded data removed]",
      "text/plain": [
       "<Figure size 2160x1080 with 1 Axes>"
      ]
     },
     "metadata": {},
     "output_type": "display_data"
    }
   ],
   "source": [
    "sns.set(font_scale = 5)\n",
    "sns.set(style=\"whitegrid\", color_codes=True, font_scale = 1.7)\n",
    "fig, ax = plt.subplots()\n",
    "fig.set_size_inches(30,15)\n",
    "ax.set_xticklabels(ax.get_xticklabels(), fontsize=20, rotation=0)\n",
    "ax.set_yticklabels(ax.get_yticklabels(), fontsize=20, rotation=0)\n",
    "ax.xaxis.set_major_locator(ticker.MultipleLocator(.01))\n",
    "ax.xaxis.set_major_formatter(ticker.ScalarFormatter())\n",
    "sns.barplot(x=importances['Gini-Importance'], y=importances['Features'], data=importances, color='skyblue')\n",
    "plt.xlabel('Gini-Importance', fontsize=25, weight = 'bold')\n",
    "plt.ylabel('Features', fontsize=25, weight = 'bold')\n",
    "plt.title('Feature Importance', fontsize=25, weight = 'bold')\n",
    "plt.show()"
   ]
  },
  {
   "cell_type": "markdown",
   "metadata": {},
   "source": [
    "___"
   ]
  },
  {
   "cell_type": "markdown",
   "metadata": {},
   "source": [
    "## SMOTE"
   ]
  },
  {
   "cell_type": "code",
   "execution_count": 440,
   "metadata": {},
   "outputs": [],
   "source": [
    "from imblearn.over_sampling import SMOTE"
   ]
  },
  {
   "cell_type": "code",
   "execution_count": 455,
   "metadata": {},
   "outputs": [],
   "source": [
    "smote = SMOTE(k_neighbors=5)"
   ]
  },
  {
   "cell_type": "code",
   "execution_count": 443,
   "metadata": {},
   "outputs": [
    {
     "name": "stderr",
     "output_type": "stream",
     "text": [
      "/opt/anaconda3/lib/python3.7/site-packages/sklearn/utils/deprecation.py:87: FutureWarning: Function safe_indexing is deprecated; safe_indexing is deprecated in version 0.22 and will be removed in version 0.24.\n",
      "  warnings.warn(msg, category=FutureWarning)\n",
      "/opt/anaconda3/lib/python3.7/site-packages/sklearn/utils/deprecation.py:87: FutureWarning: Function safe_indexing is deprecated; safe_indexing is deprecated in version 0.22 and will be removed in version 0.24.\n",
      "  warnings.warn(msg, category=FutureWarning)\n"
     ]
    }
   ],
   "source": [
    "X_train_smote, y_train_smote = smote.fit_sample(X_train, y_train)"
   ]
  },
  {
   "cell_type": "code",
   "execution_count": 444,
   "metadata": {},
   "outputs": [],
   "source": [
    "rf_smote = RandomForestClassifier(n_estimators=100, n_jobs=-1)"
   ]
  },
  {
   "cell_type": "code",
   "execution_count": 445,
   "metadata": {},
   "outputs": [
    {
     "data": {
      "text/plain": [
       "RandomForestClassifier(bootstrap=True, ccp_alpha=0.0, class_weight=None,\n",
       "                       criterion='gini', max_depth=None, max_features='auto',\n",
       "                       max_leaf_nodes=None, max_samples=None,\n",
       "                       min_impurity_decrease=0.0, min_impurity_split=None,\n",
       "                       min_samples_leaf=1, min_samples_split=2,\n",
       "                       min_weight_fraction_leaf=0.0, n_estimators=100,\n",
       "                       n_jobs=-1, oob_score=False, random_state=None, verbose=0,\n",
       "                       warm_start=False)"
      ]
     },
     "execution_count": 445,
     "metadata": {},
     "output_type": "execute_result"
    }
   ],
   "source": [
    "rf_smote.fit(X_train_SMOTE, y_train_SMOTE)"
   ]
  },
  {
   "cell_type": "code",
   "execution_count": 446,
   "metadata": {},
   "outputs": [],
   "source": [
    "smote_predictions = rf_smote.predict(X_test)"
   ]
  },
  {
   "cell_type": "code",
   "execution_count": 447,
   "metadata": {},
   "outputs": [
    {
     "data": {
      "text/plain": [
       "0.838160136286201"
      ]
     },
     "execution_count": 447,
     "metadata": {},
     "output_type": "execute_result"
    }
   ],
   "source": [
    "rf_smote.score(X_test,y_test)"
   ]
  },
  {
   "cell_type": "code",
   "execution_count": 450,
   "metadata": {},
   "outputs": [
    {
     "data": {
      "text/html": [
       "<div>\n",
       "<style scoped>\n",
       "    .dataframe tbody tr th:only-of-type {\n",
       "        vertical-align: middle;\n",
       "    }\n",
       "\n",
       "    .dataframe tbody tr th {\n",
       "        vertical-align: top;\n",
       "    }\n",
       "\n",
       "    .dataframe thead th {\n",
       "        text-align: right;\n",
       "    }\n",
       "</style>\n",
       "<table border=\"1\" class=\"dataframe\">\n",
       "  <thead>\n",
       "    <tr style=\"text-align: right;\">\n",
       "      <th></th>\n",
       "      <th>predicted 0</th>\n",
       "      <th>predicted 1</th>\n",
       "      <th>predicted 2</th>\n",
       "    </tr>\n",
       "  </thead>\n",
       "  <tbody>\n",
       "    <tr>\n",
       "      <td>actual 0</td>\n",
       "      <td>1825</td>\n",
       "      <td>49</td>\n",
       "      <td>58</td>\n",
       "    </tr>\n",
       "    <tr>\n",
       "      <td>actual 1</td>\n",
       "      <td>129</td>\n",
       "      <td>70</td>\n",
       "      <td>46</td>\n",
       "    </tr>\n",
       "    <tr>\n",
       "      <td>actual 2</td>\n",
       "      <td>67</td>\n",
       "      <td>31</td>\n",
       "      <td>73</td>\n",
       "    </tr>\n",
       "  </tbody>\n",
       "</table>\n",
       "</div>"
      ],
      "text/plain": [
       "          predicted 0  predicted 1  predicted 2\n",
       "actual 0         1825           49           58\n",
       "actual 1          129           70           46\n",
       "actual 2           67           31           73"
      ]
     },
     "execution_count": 450,
     "metadata": {},
     "output_type": "execute_result"
    }
   ],
   "source": [
    "pd.DataFrame(confusion_matrix(y_test, SMOTE_predictions), columns = ['predicted 0', 'predicted 1', 'predicted 2'], \n",
    "             index = ['actual 0', 'actual 1', 'actual 2'])"
   ]
  },
  {
   "cell_type": "markdown",
   "metadata": {},
   "source": [
    "___"
   ]
  },
  {
   "cell_type": "markdown",
   "metadata": {},
   "source": [
    "## ADASYN"
   ]
  },
  {
   "cell_type": "code",
   "execution_count": 459,
   "metadata": {},
   "outputs": [],
   "source": [
    "from imblearn.over_sampling import ADASYN"
   ]
  },
  {
   "cell_type": "code",
   "execution_count": 460,
   "metadata": {},
   "outputs": [],
   "source": [
    "adasyn = ADASYN(sampling_strategy='auto', random_state=2020, n_neighbors=5, n_jobs=-1)"
   ]
  },
  {
   "cell_type": "code",
   "execution_count": 461,
   "metadata": {},
   "outputs": [
    {
     "name": "stderr",
     "output_type": "stream",
     "text": [
      "/opt/anaconda3/lib/python3.7/site-packages/sklearn/utils/deprecation.py:87: FutureWarning: Function safe_indexing is deprecated; safe_indexing is deprecated in version 0.22 and will be removed in version 0.24.\n",
      "  warnings.warn(msg, category=FutureWarning)\n",
      "/opt/anaconda3/lib/python3.7/site-packages/sklearn/utils/deprecation.py:87: FutureWarning: Function safe_indexing is deprecated; safe_indexing is deprecated in version 0.22 and will be removed in version 0.24.\n",
      "  warnings.warn(msg, category=FutureWarning)\n"
     ]
    }
   ],
   "source": [
    "X_train_adasyn, y_train_adasyn = adasyn.fit_sample(X_train, y_train)"
   ]
  },
  {
   "cell_type": "code",
   "execution_count": 462,
   "metadata": {},
   "outputs": [],
   "source": [
    "rf_adasyn = RandomForestClassifier(n_estimators=100, n_jobs=-1)"
   ]
  },
  {
   "cell_type": "code",
   "execution_count": 463,
   "metadata": {},
   "outputs": [
    {
     "data": {
      "text/plain": [
       "RandomForestClassifier(bootstrap=True, ccp_alpha=0.0, class_weight=None,\n",
       "                       criterion='gini', max_depth=None, max_features='auto',\n",
       "                       max_leaf_nodes=None, max_samples=None,\n",
       "                       min_impurity_decrease=0.0, min_impurity_split=None,\n",
       "                       min_samples_leaf=1, min_samples_split=2,\n",
       "                       min_weight_fraction_leaf=0.0, n_estimators=100,\n",
       "                       n_jobs=-1, oob_score=False, random_state=None, verbose=0,\n",
       "                       warm_start=False)"
      ]
     },
     "execution_count": 463,
     "metadata": {},
     "output_type": "execute_result"
    }
   ],
   "source": [
    "rf_adasyn.fit(X_train_adasyn, y_train_adasyn)"
   ]
  },
  {
   "cell_type": "code",
   "execution_count": 464,
   "metadata": {},
   "outputs": [],
   "source": [
    "adasyn_predictions = rf_adasyn.predict(X_test)"
   ]
  },
  {
   "cell_type": "code",
   "execution_count": 474,
   "metadata": {},
   "outputs": [],
   "source": [
    "from sklearn.metrics import precision_score"
   ]
  },
  {
   "cell_type": "code",
   "execution_count": 479,
   "metadata": {
    "scrolled": true
   },
   "outputs": [
    {
     "data": {
      "text/plain": [
       "0.8226138246484116"
      ]
     },
     "execution_count": 479,
     "metadata": {},
     "output_type": "execute_result"
    }
   ],
   "source": [
    "precision_score(y_test, adasyn_predictions, average='weighted')"
   ]
  },
  {
   "cell_type": "code",
   "execution_count": 482,
   "metadata": {},
   "outputs": [
    {
     "data": {
      "text/plain": [
       "array([0.90034705, 0.49032258, 0.42045455])"
      ]
     },
     "execution_count": 482,
     "metadata": {},
     "output_type": "execute_result"
    }
   ],
   "source": [
    "precision_score(y_test, adasyn_predictions, average=None)"
   ]
  },
  {
   "cell_type": "code",
   "execution_count": 480,
   "metadata": {},
   "outputs": [],
   "source": [
    "from sklearn.metrics import accuracy_score"
   ]
  },
  {
   "cell_type": "code",
   "execution_count": 481,
   "metadata": {},
   "outputs": [
    {
     "data": {
      "text/plain": [
       "0.8373083475298126"
      ]
     },
     "execution_count": 481,
     "metadata": {},
     "output_type": "execute_result"
    }
   ],
   "source": [
    "accuracy_score(y_test, adasyn_predictions)"
   ]
  },
  {
   "cell_type": "code",
   "execution_count": 466,
   "metadata": {},
   "outputs": [
    {
     "data": {
      "text/html": [
       "<div>\n",
       "<style scoped>\n",
       "    .dataframe tbody tr th:only-of-type {\n",
       "        vertical-align: middle;\n",
       "    }\n",
       "\n",
       "    .dataframe tbody tr th {\n",
       "        vertical-align: top;\n",
       "    }\n",
       "\n",
       "    .dataframe thead th {\n",
       "        text-align: right;\n",
       "    }\n",
       "</style>\n",
       "<table border=\"1\" class=\"dataframe\">\n",
       "  <thead>\n",
       "    <tr style=\"text-align: right;\">\n",
       "      <th></th>\n",
       "      <th>predicted 0</th>\n",
       "      <th>predicted 1</th>\n",
       "      <th>predicted 2</th>\n",
       "    </tr>\n",
       "  </thead>\n",
       "  <tbody>\n",
       "    <tr>\n",
       "      <td>actual 0</td>\n",
       "      <td>1816</td>\n",
       "      <td>54</td>\n",
       "      <td>62</td>\n",
       "    </tr>\n",
       "    <tr>\n",
       "      <td>actual 1</td>\n",
       "      <td>129</td>\n",
       "      <td>76</td>\n",
       "      <td>40</td>\n",
       "    </tr>\n",
       "    <tr>\n",
       "      <td>actual 2</td>\n",
       "      <td>72</td>\n",
       "      <td>25</td>\n",
       "      <td>74</td>\n",
       "    </tr>\n",
       "  </tbody>\n",
       "</table>\n",
       "</div>"
      ],
      "text/plain": [
       "          predicted 0  predicted 1  predicted 2\n",
       "actual 0         1816           54           62\n",
       "actual 1          129           76           40\n",
       "actual 2           72           25           74"
      ]
     },
     "execution_count": 466,
     "metadata": {},
     "output_type": "execute_result"
    }
   ],
   "source": [
    "pd.DataFrame(confusion_matrix(y_test, adasyn_predictions), columns = ['predicted 0', 'predicted 1', 'predicted 2'], \n",
    "             index = ['actual 0', 'actual 1', 'actual 2'])"
   ]
  },
  {
   "cell_type": "markdown",
   "metadata": {},
   "source": [
    "___"
   ]
  },
  {
   "cell_type": "markdown",
   "metadata": {},
   "source": [
    "## AUC / ROC"
   ]
  },
  {
   "cell_type": "code",
   "execution_count": 434,
   "metadata": {
    "scrolled": true
   },
   "outputs": [],
   "source": [
    "import scikitplot as skplt"
   ]
  },
  {
   "cell_type": "code",
   "execution_count": 437,
   "metadata": {},
   "outputs": [
    {
     "name": "stderr",
     "output_type": "stream",
     "text": [
      "/opt/anaconda3/lib/python3.7/site-packages/sklearn/utils/deprecation.py:87: FutureWarning: Function plot_roc_curve is deprecated; This will be removed in v0.5.0. Please use scikitplot.metrics.plot_roc instead.\n",
      "  warnings.warn(msg, category=FutureWarning)\n"
     ]
    },
    {
     "ename": "IndexError",
     "evalue": "too many indices for array",
     "output_type": "error",
     "traceback": [
      "\u001b[0;31m---------------------------------------------------------------------------\u001b[0m",
      "\u001b[0;31mIndexError\u001b[0m                                Traceback (most recent call last)",
      "\u001b[0;32m<ipython-input-437-ba9996f0146b>\u001b[0m in \u001b[0;36m<module>\u001b[0;34m\u001b[0m\n\u001b[1;32m      1\u001b[0m \u001b[0my_true\u001b[0m \u001b[0;34m=\u001b[0m \u001b[0my_test\u001b[0m \u001b[0;31m# ground truth labels\u001b[0m\u001b[0;34m\u001b[0m\u001b[0;34m\u001b[0m\u001b[0m\n\u001b[1;32m      2\u001b[0m \u001b[0my_probas\u001b[0m \u001b[0;34m=\u001b[0m \u001b[0mbase_predictions\u001b[0m \u001b[0;31m# predicted probabilities generated by sklearn classifier\u001b[0m\u001b[0;34m\u001b[0m\u001b[0;34m\u001b[0m\u001b[0m\n\u001b[0;32m----> 3\u001b[0;31m \u001b[0mskplt\u001b[0m\u001b[0;34m.\u001b[0m\u001b[0mmetrics\u001b[0m\u001b[0;34m.\u001b[0m\u001b[0mplot_roc_curve\u001b[0m\u001b[0;34m(\u001b[0m\u001b[0my_true\u001b[0m\u001b[0;34m,\u001b[0m \u001b[0my_probas\u001b[0m\u001b[0;34m)\u001b[0m\u001b[0;34m\u001b[0m\u001b[0;34m\u001b[0m\u001b[0m\n\u001b[0m\u001b[1;32m      4\u001b[0m \u001b[0mplt\u001b[0m\u001b[0;34m.\u001b[0m\u001b[0mshow\u001b[0m\u001b[0;34m(\u001b[0m\u001b[0;34m)\u001b[0m\u001b[0;34m\u001b[0m\u001b[0;34m\u001b[0m\u001b[0m\n",
      "\u001b[0;32m/opt/anaconda3/lib/python3.7/site-packages/sklearn/utils/deprecation.py\u001b[0m in \u001b[0;36mwrapped\u001b[0;34m(*args, **kwargs)\u001b[0m\n\u001b[1;32m     86\u001b[0m         \u001b[0;32mdef\u001b[0m \u001b[0mwrapped\u001b[0m\u001b[0;34m(\u001b[0m\u001b[0;34m*\u001b[0m\u001b[0margs\u001b[0m\u001b[0;34m,\u001b[0m \u001b[0;34m**\u001b[0m\u001b[0mkwargs\u001b[0m\u001b[0;34m)\u001b[0m\u001b[0;34m:\u001b[0m\u001b[0;34m\u001b[0m\u001b[0;34m\u001b[0m\u001b[0m\n\u001b[1;32m     87\u001b[0m             \u001b[0mwarnings\u001b[0m\u001b[0;34m.\u001b[0m\u001b[0mwarn\u001b[0m\u001b[0;34m(\u001b[0m\u001b[0mmsg\u001b[0m\u001b[0;34m,\u001b[0m \u001b[0mcategory\u001b[0m\u001b[0;34m=\u001b[0m\u001b[0mFutureWarning\u001b[0m\u001b[0;34m)\u001b[0m\u001b[0;34m\u001b[0m\u001b[0;34m\u001b[0m\u001b[0m\n\u001b[0;32m---> 88\u001b[0;31m             \u001b[0;32mreturn\u001b[0m \u001b[0mfun\u001b[0m\u001b[0;34m(\u001b[0m\u001b[0;34m*\u001b[0m\u001b[0margs\u001b[0m\u001b[0;34m,\u001b[0m \u001b[0;34m**\u001b[0m\u001b[0mkwargs\u001b[0m\u001b[0;34m)\u001b[0m\u001b[0;34m\u001b[0m\u001b[0;34m\u001b[0m\u001b[0m\n\u001b[0m\u001b[1;32m     89\u001b[0m \u001b[0;34m\u001b[0m\u001b[0m\n\u001b[1;32m     90\u001b[0m         \u001b[0mwrapped\u001b[0m\u001b[0;34m.\u001b[0m\u001b[0m__doc__\u001b[0m \u001b[0;34m=\u001b[0m \u001b[0mself\u001b[0m\u001b[0;34m.\u001b[0m\u001b[0m_update_doc\u001b[0m\u001b[0;34m(\u001b[0m\u001b[0mwrapped\u001b[0m\u001b[0;34m.\u001b[0m\u001b[0m__doc__\u001b[0m\u001b[0;34m)\u001b[0m\u001b[0;34m\u001b[0m\u001b[0;34m\u001b[0m\u001b[0m\n",
      "\u001b[0;32m/opt/anaconda3/lib/python3.7/site-packages/scikitplot/metrics.py\u001b[0m in \u001b[0;36mplot_roc_curve\u001b[0;34m(y_true, y_probas, title, curves, ax, figsize, cmap, title_fontsize, text_fontsize)\u001b[0m\n\u001b[1;32m    255\u001b[0m     \u001b[0mroc_auc\u001b[0m \u001b[0;34m=\u001b[0m \u001b[0mdict\u001b[0m\u001b[0;34m(\u001b[0m\u001b[0;34m)\u001b[0m\u001b[0;34m\u001b[0m\u001b[0;34m\u001b[0m\u001b[0m\n\u001b[1;32m    256\u001b[0m     \u001b[0;32mfor\u001b[0m \u001b[0mi\u001b[0m \u001b[0;32min\u001b[0m \u001b[0mrange\u001b[0m\u001b[0;34m(\u001b[0m\u001b[0mlen\u001b[0m\u001b[0;34m(\u001b[0m\u001b[0mclasses\u001b[0m\u001b[0;34m)\u001b[0m\u001b[0;34m)\u001b[0m\u001b[0;34m:\u001b[0m\u001b[0;34m\u001b[0m\u001b[0;34m\u001b[0m\u001b[0m\n\u001b[0;32m--> 257\u001b[0;31m         fpr[i], tpr[i], _ = roc_curve(y_true, probas[:, i],\n\u001b[0m\u001b[1;32m    258\u001b[0m                                       pos_label=classes[i])\n\u001b[1;32m    259\u001b[0m         \u001b[0mroc_auc\u001b[0m\u001b[0;34m[\u001b[0m\u001b[0mi\u001b[0m\u001b[0;34m]\u001b[0m \u001b[0;34m=\u001b[0m \u001b[0mauc\u001b[0m\u001b[0;34m(\u001b[0m\u001b[0mfpr\u001b[0m\u001b[0;34m[\u001b[0m\u001b[0mi\u001b[0m\u001b[0;34m]\u001b[0m\u001b[0;34m,\u001b[0m \u001b[0mtpr\u001b[0m\u001b[0;34m[\u001b[0m\u001b[0mi\u001b[0m\u001b[0;34m]\u001b[0m\u001b[0;34m)\u001b[0m\u001b[0;34m\u001b[0m\u001b[0;34m\u001b[0m\u001b[0m\n",
      "\u001b[0;31mIndexError\u001b[0m: too many indices for array"
     ]
    }
   ],
   "source": [
    "y_true = y_test # ground truth labels\n",
    "y_probas = base_predictions # predicted probabilities generated by sklearn classifier\n",
    "skplt.metrics.plot_roc_curve(y_true, y_probas)\n",
    "plt.show()"
   ]
  },
  {
   "cell_type": "code",
   "execution_count": 451,
   "metadata": {},
   "outputs": [
    {
     "ename": "ValueError",
     "evalue": "multiclass format is not supported",
     "output_type": "error",
     "traceback": [
      "\u001b[0;31m---------------------------------------------------------------------------\u001b[0m",
      "\u001b[0;31mValueError\u001b[0m                                Traceback (most recent call last)",
      "\u001b[0;32m<ipython-input-451-9bc03489376f>\u001b[0m in \u001b[0;36m<module>\u001b[0;34m\u001b[0m\n\u001b[0;32m----> 1\u001b[0;31m \u001b[0mfpr\u001b[0m\u001b[0;34m,\u001b[0m \u001b[0mtpr\u001b[0m\u001b[0;34m,\u001b[0m \u001b[0mthreshold\u001b[0m \u001b[0;34m=\u001b[0m \u001b[0mroc_curve\u001b[0m\u001b[0;34m(\u001b[0m\u001b[0my_test\u001b[0m\u001b[0;34m,\u001b[0m \u001b[0mrf_smote\u001b[0m\u001b[0;34m.\u001b[0m\u001b[0mpredict_proba\u001b[0m\u001b[0;34m(\u001b[0m\u001b[0mX_test\u001b[0m\u001b[0;34m)\u001b[0m\u001b[0;34m[\u001b[0m\u001b[0;34m:\u001b[0m\u001b[0;34m,\u001b[0m \u001b[0;36m1\u001b[0m\u001b[0;34m]\u001b[0m\u001b[0;34m)\u001b[0m\u001b[0;34m\u001b[0m\u001b[0;34m\u001b[0m\u001b[0m\n\u001b[0m",
      "\u001b[0;32m/opt/anaconda3/lib/python3.7/site-packages/sklearn/metrics/_ranking.py\u001b[0m in \u001b[0;36mroc_curve\u001b[0;34m(y_true, y_score, pos_label, sample_weight, drop_intermediate)\u001b[0m\n\u001b[1;32m    769\u001b[0m     \"\"\"\n\u001b[1;32m    770\u001b[0m     fps, tps, thresholds = _binary_clf_curve(\n\u001b[0;32m--> 771\u001b[0;31m         y_true, y_score, pos_label=pos_label, sample_weight=sample_weight)\n\u001b[0m\u001b[1;32m    772\u001b[0m \u001b[0;34m\u001b[0m\u001b[0m\n\u001b[1;32m    773\u001b[0m     \u001b[0;31m# Attempt to drop thresholds corresponding to points in between and\u001b[0m\u001b[0;34m\u001b[0m\u001b[0;34m\u001b[0m\u001b[0;34m\u001b[0m\u001b[0m\n",
      "\u001b[0;32m/opt/anaconda3/lib/python3.7/site-packages/sklearn/metrics/_ranking.py\u001b[0m in \u001b[0;36m_binary_clf_curve\u001b[0;34m(y_true, y_score, pos_label, sample_weight)\u001b[0m\n\u001b[1;32m    534\u001b[0m     if not (y_type == \"binary\" or\n\u001b[1;32m    535\u001b[0m             (y_type == \"multiclass\" and pos_label is not None)):\n\u001b[0;32m--> 536\u001b[0;31m         \u001b[0;32mraise\u001b[0m \u001b[0mValueError\u001b[0m\u001b[0;34m(\u001b[0m\u001b[0;34m\"{0} format is not supported\"\u001b[0m\u001b[0;34m.\u001b[0m\u001b[0mformat\u001b[0m\u001b[0;34m(\u001b[0m\u001b[0my_type\u001b[0m\u001b[0;34m)\u001b[0m\u001b[0;34m)\u001b[0m\u001b[0;34m\u001b[0m\u001b[0;34m\u001b[0m\u001b[0m\n\u001b[0m\u001b[1;32m    537\u001b[0m \u001b[0;34m\u001b[0m\u001b[0m\n\u001b[1;32m    538\u001b[0m     \u001b[0mcheck_consistent_length\u001b[0m\u001b[0;34m(\u001b[0m\u001b[0my_true\u001b[0m\u001b[0;34m,\u001b[0m \u001b[0my_score\u001b[0m\u001b[0;34m,\u001b[0m \u001b[0msample_weight\u001b[0m\u001b[0;34m)\u001b[0m\u001b[0;34m\u001b[0m\u001b[0;34m\u001b[0m\u001b[0m\n",
      "\u001b[0;31mValueError\u001b[0m: multiclass format is not supported"
     ]
    }
   ],
   "source": [
    "fpr, tpr, threshold = roc_curve(y_test, rf_smote.predict_proba(X_test)[:, 1])"
   ]
  },
  {
   "cell_type": "code",
   "execution_count": 452,
   "metadata": {},
   "outputs": [
    {
     "ename": "NameError",
     "evalue": "name 'fpr' is not defined",
     "output_type": "error",
     "traceback": [
      "\u001b[0;31m---------------------------------------------------------------------------\u001b[0m",
      "\u001b[0;31mNameError\u001b[0m                                 Traceback (most recent call last)",
      "\u001b[0;32m<ipython-input-452-5f535929a3a6>\u001b[0m in \u001b[0;36m<module>\u001b[0;34m\u001b[0m\n\u001b[1;32m      4\u001b[0m \u001b[0mplt\u001b[0m\u001b[0;34m.\u001b[0m\u001b[0mylabel\u001b[0m\u001b[0;34m(\u001b[0m\u001b[0;34m'sensitivity'\u001b[0m\u001b[0;34m,\u001b[0m \u001b[0mfontsize\u001b[0m \u001b[0;34m=\u001b[0m \u001b[0;36m15\u001b[0m\u001b[0;34m)\u001b[0m\u001b[0;34m\u001b[0m\u001b[0;34m\u001b[0m\u001b[0m\n\u001b[1;32m      5\u001b[0m \u001b[0mplt\u001b[0m\u001b[0;34m.\u001b[0m\u001b[0mplot\u001b[0m\u001b[0;34m(\u001b[0m\u001b[0;34m[\u001b[0m\u001b[0;36m0\u001b[0m\u001b[0;34m,\u001b[0m\u001b[0;36m1\u001b[0m\u001b[0;34m]\u001b[0m\u001b[0;34m,\u001b[0m \u001b[0;34m[\u001b[0m\u001b[0;36m0\u001b[0m\u001b[0;34m,\u001b[0m\u001b[0;36m1\u001b[0m\u001b[0;34m]\u001b[0m\u001b[0;34m)\u001b[0m\u001b[0;34m\u001b[0m\u001b[0;34m\u001b[0m\u001b[0m\n\u001b[0;32m----> 6\u001b[0;31m \u001b[0mplt\u001b[0m\u001b[0;34m.\u001b[0m\u001b[0mplot\u001b[0m\u001b[0;34m(\u001b[0m\u001b[0mfpr\u001b[0m\u001b[0;34m,\u001b[0m\u001b[0mtpr\u001b[0m\u001b[0;34m)\u001b[0m\u001b[0;34m;\u001b[0m\u001b[0;34m\u001b[0m\u001b[0;34m\u001b[0m\u001b[0m\n\u001b[0m",
      "\u001b[0;31mNameError\u001b[0m: name 'fpr' is not defined"
     ]
    },
    {
     "data": {
      "image/png": "[encoded data removed]",
      "text/plain": [
       "<Figure size 720x432 with 1 Axes>"
      ]
     },
     "metadata": {
      "needs_background": "light"
     },
     "output_type": "display_data"
    }
   ],
   "source": [
    "plt.figure(figsize = (10,6))\n",
    "plt.title('ROC Curve', fontsize = 20)\n",
    "plt.xlabel('1 - specificity', fontsize = 15)\n",
    "plt.ylabel('sensitivity', fontsize = 15)\n",
    "plt.plot([0,1], [0,1])\n",
    "plt.plot(fpr,tpr);"
   ]
  },
  {
   "cell_type": "code",
   "execution_count": 453,
   "metadata": {},
   "outputs": [
    {
     "ename": "NameError",
     "evalue": "name 'fpr' is not defined",
     "output_type": "error",
     "traceback": [
      "\u001b[0;31m---------------------------------------------------------------------------\u001b[0m",
      "\u001b[0;31mNameError\u001b[0m                                 Traceback (most recent call last)",
      "\u001b[0;32m<ipython-input-453-d151f18bb833>\u001b[0m in \u001b[0;36m<module>\u001b[0;34m\u001b[0m\n\u001b[0;32m----> 1\u001b[0;31m \u001b[0mauc\u001b[0m\u001b[0;34m(\u001b[0m\u001b[0mfpr\u001b[0m\u001b[0;34m,\u001b[0m \u001b[0mtpr\u001b[0m\u001b[0;34m)\u001b[0m\u001b[0;34m\u001b[0m\u001b[0;34m\u001b[0m\u001b[0m\n\u001b[0m",
      "\u001b[0;31mNameError\u001b[0m: name 'fpr' is not defined"
     ]
    }
   ],
   "source": [
    "auc(fpr, tpr)"
   ]
  }
 ],
 "metadata": {
  "kernelspec": {
   "display_name": "Python 3",
   "language": "python",
   "name": "python3"
  },
  "language_info": {
   "codemirror_mode": {
    "name": "ipython",
    "version": 3
   },
   "file_extension": ".py",
   "mimetype": "text/x-python",
   "name": "python",
   "nbconvert_exporter": "python",
   "pygments_lexer": "ipython3",
   "version": "3.7.3"
  },
  "toc": {
   "base_numbering": 1,
   "nav_menu": {},
   "number_sections": true,
   "sideBar": true,
   "skip_h1_title": true,
   "title_cell": "Table of Contents",
   "title_sidebar": "Contents",
   "toc_cell": true,
   "toc_position": {
    "height": "calc(100% - 180px)",
    "left": "10px",
    "top": "150px",
    "width": "226.075px"
   },
   "toc_section_display": true,
   "toc_window_display": true
  }
 },
 "nbformat": 4,
 "nbformat_minor": 4
}
